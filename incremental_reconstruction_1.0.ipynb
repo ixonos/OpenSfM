{
 "cells": [
  {
   "cell_type": "code",
   "execution_count": 1,
   "metadata": {},
   "outputs": [],
   "source": [
    "import opensfm.reconstruction as rec\n",
    "from opensfm import dataset\n",
    "from opensfm import pysfm\n",
    "from opensfm import tracking\n",
    "\n",
    "import logging\n",
    "from timeit import default_timer as timer\n",
    "import numpy as np\n",
    "import math\n",
    "import time\n",
    "\n",
    "logger = logging.getLogger(__name__)"
   ]
  },
  {
   "cell_type": "code",
   "execution_count": 25,
   "metadata": {},
   "outputs": [],
   "source": [
    "def incremental_reconstruction(data, tracks_manager, foc_len):\n",
    "    \"\"\"Run the entire incremental reconstruction pipeline.\"\"\"\n",
    "    logger.info(\"Starting incremental reconstruction\")\n",
    "    report = {}\n",
    "    chrono = rec.Chronometer()\n",
    "\n",
    "    images = tracks_manager.get_shot_ids()\n",
    "    \n",
    "    if not data.reference_lla_exists():\n",
    "        data.invent_reference_lla(images)\n",
    "\n",
    "    remaining_images = set(images)\n",
    "    camera_priors = data.load_camera_models()\n",
    "    for i in camera_priors.keys():\n",
    "        camera_priors[i].focal = foc_len\n",
    "    gcp = data.load_ground_control_points()\n",
    "    common_tracks = tracking.all_common_tracks(tracks_manager)\n",
    "    reconstructions = []\n",
    "    pairs = rec.compute_image_pairs(common_tracks, camera_priors, data)\n",
    "    chrono.lap('compute_image_pairs')\n",
    "    report['num_candidate_image_pairs'] = len(pairs)\n",
    "    report['reconstructions'] = []\n",
    "    \n",
    "    t0 = time.time()\n",
    "    \n",
    "    for im1, im2 in pairs:\n",
    "        if im1 in remaining_images and im2 in remaining_images:\n",
    "            \"Running boostrap and BA\"\n",
    "            rec_report = {}\n",
    "            report['reconstructions'].append(rec_report)\n",
    "            _, p1, p2 = common_tracks[im1, im2]\n",
    "            reconstruction, graph_inliers, rec_report['bootstrap'] = rec.bootstrap_reconstruction(\n",
    "                data, tracks_manager, camera_priors, im1, im2, p1, p2)\n",
    "\n",
    "            if reconstruction:\n",
    "                remaining_images.remove(im1)\n",
    "                remaining_images.remove(im2)\n",
    "                reconstruction, rec_report['grow'] = rec.grow_reconstruction(\n",
    "                    data, tracks_manager, graph_inliers, reconstruction, remaining_images, camera_priors, gcp)\n",
    "                reconstructions.append(reconstruction)\n",
    "                reconstructions = sorted(reconstructions,\n",
    "                                         key=lambda x: -len(x.shots))\n",
    "                rec_report['stats'] = rec.compute_statistics(reconstruction, graph_inliers)\n",
    "                logger.info(rec_report['stats'])\n",
    "                \n",
    "    t1 = time.time()\n",
    "    \n",
    "    print(\"time: \", t1-t0)\n",
    "\n",
    "    for k, r in enumerate(reconstructions):\n",
    "        logger.info(\"Reconstruction {}: {} images, {} points\".format(\n",
    "            k, len(r.shots), len(r.points)))\n",
    "    logger.info(\"{} partial reconstructions in total.\".format(\n",
    "        len(reconstructions)))\n",
    "    chrono.lap('compute_reconstructions')\n",
    "    report['wall_times'] = dict(chrono.lap_times())\n",
    "    report['not_reconstructed_images'] = list(remaining_images)\n",
    "    return report, reconstructions"
   ]
  },
  {
   "cell_type": "code",
   "execution_count": 81,
   "metadata": {},
   "outputs": [],
   "source": [
    "data = dataset.DataSet('data/iphone11pro_wide_office')\n",
    "tracks_manager = data.load_tracks_manager()\n",
    "\n",
    "# tracks_manager = pysfm.TracksManager.instanciate_from_file('/Users/jarrodhaas/torus-fast-track-dependencies/OpenSfM/data/gopro8_grass/tracks.csv')"
   ]
  },
  {
   "cell_type": "code",
   "execution_count": null,
   "metadata": {
    "scrolled": true
   },
   "outputs": [
    {
     "name": "stderr",
     "output_type": "stream",
     "text": [
      "2020-07-31 16:47:59,762 INFO: Starting incremental reconstruction\n",
      "2020-07-31 16:48:04,060 INFO: Starting reconstruction with 0152.png and 0176.png\n",
      "2020-07-31 16:48:04,087 INFO: Two-view reconstruction inliers: 1251 / 1265\n",
      "2020-07-31 16:48:04,229 INFO: Triangulated: 1245\n",
      "2020-07-31 16:48:04,248 DEBUG: Ceres Solver Report: Iterations: 3, Initial cost: 3.561502e+01, Final cost: 3.084831e+01, Termination: CONVERGENCE\n",
      "2020-07-31 16:48:04,465 DEBUG: Ceres Solver Report: Iterations: 3, Initial cost: 3.182228e+01, Final cost: 3.000421e+01, Termination: CONVERGENCE\n",
      "2020-07-31 16:48:04,541 DEBUG: Ceres Solver Report: Iterations: 11, Initial cost: 6.572109e+01, Final cost: 5.624250e+01, Termination: CONVERGENCE\n",
      "2020-07-31 16:48:04,546 INFO: Removed outliers: 1\n",
      "2020-07-31 16:48:04,552 INFO: -------------------------------------------------------\n",
      "2020-07-31 16:48:04,570 INFO: 0175.png resection inliers: 1108 / 1118\n",
      "2020-07-31 16:48:04,595 DEBUG: Ceres Solver Report: Iterations: 4, Initial cost: 4.557191e+01, Final cost: 3.259125e+01, Termination: CONVERGENCE\n",
      "2020-07-31 16:48:04,596 INFO: Adding 0175.png to the reconstruction\n",
      "2020-07-31 16:48:04,670 DEBUG: Local bundle sets: interior 3  boundary 0  other 0\n",
      "2020-07-31 16:48:04,752 DEBUG: Ceres Solver Report: Iterations: 11, Initial cost: 1.086398e+02, Final cost: 9.023835e+01, Termination: NO_CONVERGENCE\n",
      "2020-07-31 16:48:04,758 INFO: Removed outliers: 0\n",
      "2020-07-31 16:48:04,765 INFO: -------------------------------------------------------\n",
      "2020-07-31 16:48:04,787 INFO: 0151.png resection inliers: 1178 / 1192\n",
      "2020-07-31 16:48:04,814 DEBUG: Ceres Solver Report: Iterations: 4, Initial cost: 7.633001e+01, Final cost: 5.348014e+01, Termination: CONVERGENCE\n",
      "2020-07-31 16:48:04,815 INFO: Adding 0151.png to the reconstruction\n",
      "2020-07-31 16:48:04,882 INFO: Re-triangulating\n",
      "2020-07-31 16:48:05,102 DEBUG: Ceres Solver Report: Iterations: 23, Initial cost: 1.759675e+02, Final cost: 1.509224e+02, Termination: CONVERGENCE\n",
      "2020-07-31 16:48:05,607 DEBUG: Ceres Solver Report: Iterations: 23, Initial cost: 1.616361e+02, Final cost: 1.534513e+02, Termination: CONVERGENCE\n",
      "2020-07-31 16:48:05,616 INFO: Removed outliers: 1\n",
      "2020-07-31 16:48:05,624 INFO: -------------------------------------------------------\n",
      "2020-07-31 16:48:05,644 INFO: 0174.png resection inliers: 1265 / 1282\n",
      "2020-07-31 16:48:05,675 DEBUG: Ceres Solver Report: Iterations: 3, Initial cost: 5.385945e+01, Final cost: 4.725194e+01, Termination: CONVERGENCE\n",
      "2020-07-31 16:48:05,676 INFO: Adding 0174.png to the reconstruction\n",
      "2020-07-31 16:48:05,842 DEBUG: Local bundle sets: interior 5  boundary 0  other 0\n",
      "2020-07-31 16:48:05,967 DEBUG: Ceres Solver Report: Iterations: 8, Initial cost: 2.171079e+02, Final cost: 1.992895e+02, Termination: CONVERGENCE\n",
      "2020-07-31 16:48:05,978 INFO: Removed outliers: 2\n",
      "2020-07-31 16:48:05,983 INFO: -------------------------------------------------------\n",
      "2020-07-31 16:48:06,007 INFO: 0150.png resection inliers: 1304 / 1322\n",
      "2020-07-31 16:48:06,035 DEBUG: Ceres Solver Report: Iterations: 4, Initial cost: 6.833708e+01, Final cost: 5.627568e+01, Termination: CONVERGENCE\n",
      "2020-07-31 16:48:06,037 INFO: Adding 0150.png to the reconstruction\n",
      "2020-07-31 16:48:06,112 DEBUG: Local bundle sets: interior 6  boundary 0  other 0\n",
      "2020-07-31 16:48:06,280 DEBUG: Ceres Solver Report: Iterations: 9, Initial cost: 2.786743e+02, Final cost: 2.592122e+02, Termination: CONVERGENCE\n",
      "2020-07-31 16:48:06,295 INFO: Removed outliers: 1\n",
      "2020-07-31 16:48:06,301 INFO: -------------------------------------------------------\n",
      "2020-07-31 16:48:06,324 INFO: 0173.png resection inliers: 1344 / 1357\n",
      "2020-07-31 16:48:06,354 DEBUG: Ceres Solver Report: Iterations: 4, Initial cost: 7.526722e+01, Final cost: 5.966701e+01, Termination: CONVERGENCE\n",
      "2020-07-31 16:48:06,355 INFO: Adding 0173.png to the reconstruction\n",
      "2020-07-31 16:48:06,426 INFO: Re-triangulating\n",
      "2020-07-31 16:48:06,740 DEBUG: Ceres Solver Report: Iterations: 15, Initial cost: 3.654396e+02, Final cost: 3.425893e+02, Termination: CONVERGENCE\n",
      "2020-07-31 16:48:07,453 DEBUG: Ceres Solver Report: Iterations: 13, Initial cost: 3.871034e+02, Final cost: 3.707237e+02, Termination: CONVERGENCE\n",
      "2020-07-31 16:48:07,468 INFO: Removed outliers: 0\n",
      "2020-07-31 16:48:07,474 INFO: -------------------------------------------------------\n",
      "2020-07-31 16:48:07,497 INFO: 0172.png resection inliers: 1388 / 1408\n",
      "2020-07-31 16:48:07,529 DEBUG: Ceres Solver Report: Iterations: 4, Initial cost: 6.701310e+01, Final cost: 6.272232e+01, Termination: CONVERGENCE\n",
      "2020-07-31 16:48:07,530 INFO: Adding 0172.png to the reconstruction\n",
      "2020-07-31 16:48:07,613 DEBUG: Local bundle sets: interior 8  boundary 0  other 0\n",
      "2020-07-31 16:48:07,850 DEBUG: Ceres Solver Report: Iterations: 11, Initial cost: 4.539849e+02, Final cost: 4.350658e+02, Termination: NO_CONVERGENCE\n",
      "2020-07-31 16:48:07,868 INFO: Removed outliers: 1\n",
      "2020-07-31 16:48:07,874 INFO: -------------------------------------------------------\n",
      "2020-07-31 16:48:07,897 INFO: 0171.png resection inliers: 1415 / 1441\n",
      "2020-07-31 16:48:07,928 DEBUG: Ceres Solver Report: Iterations: 4, Initial cost: 7.919384e+01, Final cost: 7.260831e+01, Termination: CONVERGENCE\n",
      "2020-07-31 16:48:07,930 INFO: Adding 0171.png to the reconstruction\n",
      "2020-07-31 16:48:08,016 DEBUG: Local bundle sets: interior 9  boundary 0  other 0\n",
      "2020-07-31 16:48:08,312 DEBUG: Ceres Solver Report: Iterations: 11, Initial cost: 5.493185e+02, Final cost: 5.308932e+02, Termination: NO_CONVERGENCE\n",
      "2020-07-31 16:48:08,333 INFO: Removed outliers: 3\n",
      "2020-07-31 16:48:08,339 INFO: -------------------------------------------------------\n",
      "2020-07-31 16:48:08,364 INFO: 0170.png resection inliers: 1457 / 1481\n",
      "2020-07-31 16:48:08,395 DEBUG: Ceres Solver Report: Iterations: 4, Initial cost: 9.028259e+01, Final cost: 7.744362e+01, Termination: CONVERGENCE\n",
      "2020-07-31 16:48:08,396 INFO: Adding 0170.png to the reconstruction\n",
      "2020-07-31 16:48:08,486 DEBUG: Local bundle sets: interior 10  boundary 0  other 0\n",
      "2020-07-31 16:48:08,789 DEBUG: Ceres Solver Report: Iterations: 10, Initial cost: 6.491815e+02, Final cost: 6.289544e+02, Termination: CONVERGENCE\n",
      "2020-07-31 16:48:08,812 INFO: Removed outliers: 1\n",
      "2020-07-31 16:48:08,817 INFO: -------------------------------------------------------\n",
      "2020-07-31 16:48:08,843 INFO: 0168.png resection inliers: 1481 / 1519\n",
      "2020-07-31 16:48:08,877 DEBUG: Ceres Solver Report: Iterations: 4, Initial cost: 1.020072e+02, Final cost: 9.888537e+01, Termination: CONVERGENCE\n",
      "2020-07-31 16:48:08,878 INFO: Adding 0168.png to the reconstruction\n",
      "2020-07-31 16:48:08,967 INFO: Re-triangulating\n",
      "2020-07-31 16:48:09,603 DEBUG: Ceres Solver Report: Iterations: 17, Initial cost: 8.641232e+02, Final cost: 8.271818e+02, Termination: CONVERGENCE\n",
      "2020-07-31 16:48:10,841 DEBUG: Ceres Solver Report: Iterations: 17, Initial cost: 9.376238e+02, Final cost: 8.908811e+02, Termination: CONVERGENCE\n",
      "2020-07-31 16:48:10,867 INFO: Removed outliers: 2\n",
      "2020-07-31 16:48:10,872 INFO: -------------------------------------------------------\n",
      "2020-07-31 16:48:10,898 INFO: 0167.png resection inliers: 1572 / 1620\n",
      "2020-07-31 16:48:10,943 DEBUG: Ceres Solver Report: Iterations: 5, Initial cost: 1.186753e+02, Final cost: 1.062957e+02, Termination: CONVERGENCE\n",
      "2020-07-31 16:48:10,944 INFO: Adding 0167.png to the reconstruction\n",
      "2020-07-31 16:48:11,047 DEBUG: Local bundle sets: interior 12  boundary 0  other 0\n",
      "2020-07-31 16:48:11,495 DEBUG: Ceres Solver Report: Iterations: 11, Initial cost: 1.097000e+03, Final cost: 1.066762e+03, Termination: NO_CONVERGENCE\n",
      "2020-07-31 16:48:11,527 INFO: Removed outliers: 2\n",
      "2020-07-31 16:48:11,533 INFO: -------------------------------------------------------\n",
      "2020-07-31 16:48:11,562 INFO: 0166.png resection inliers: 1709 / 1748\n",
      "2020-07-31 16:48:11,602 DEBUG: Ceres Solver Report: Iterations: 4, Initial cost: 1.363492e+02, Final cost: 1.145220e+02, Termination: CONVERGENCE\n",
      "2020-07-31 16:48:11,603 INFO: Adding 0166.png to the reconstruction\n",
      "2020-07-31 16:48:11,702 INFO: Re-triangulating\n",
      "2020-07-31 16:48:12,730 DEBUG: Ceres Solver Report: Iterations: 18, Initial cost: 1.280821e+03, Final cost: 1.248202e+03, Termination: CONVERGENCE\n",
      "2020-07-31 16:48:14,371 DEBUG: Ceres Solver Report: Iterations: 16, Initial cost: 1.338117e+03, Final cost: 1.277186e+03, Termination: CONVERGENCE\n"
     ]
    },
    {
     "name": "stderr",
     "output_type": "stream",
     "text": [
      "2020-07-31 16:48:14,406 INFO: Removed outliers: 1\n",
      "2020-07-31 16:48:14,413 INFO: -------------------------------------------------------\n",
      "2020-07-31 16:48:14,448 INFO: 0164.png resection inliers: 1794 / 1830\n",
      "2020-07-31 16:48:14,487 DEBUG: Ceres Solver Report: Iterations: 4, Initial cost: 1.499805e+02, Final cost: 1.303304e+02, Termination: CONVERGENCE\n",
      "2020-07-31 16:48:14,488 INFO: Adding 0164.png to the reconstruction\n",
      "2020-07-31 16:48:14,583 DEBUG: Local bundle sets: interior 14  boundary 0  other 0\n",
      "2020-07-31 16:48:15,222 DEBUG: Ceres Solver Report: Iterations: 11, Initial cost: 1.525303e+03, Final cost: 1.488610e+03, Termination: NO_CONVERGENCE\n",
      "2020-07-31 16:48:15,270 INFO: Removed outliers: 2\n",
      "2020-07-31 16:48:15,276 INFO: -------------------------------------------------------\n",
      "2020-07-31 16:48:15,304 INFO: 0163.png resection inliers: 2016 / 2050\n",
      "2020-07-31 16:48:15,350 DEBUG: Ceres Solver Report: Iterations: 4, Initial cost: 1.484484e+02, Final cost: 1.328896e+02, Termination: CONVERGENCE\n",
      "2020-07-31 16:48:15,351 INFO: Adding 0163.png to the reconstruction\n",
      "2020-07-31 16:48:15,413 INFO: Re-triangulating\n",
      "2020-07-31 16:48:17,019 DEBUG: Ceres Solver Report: Iterations: 25, Initial cost: 1.746746e+03, Final cost: 1.706203e+03, Termination: CONVERGENCE\n",
      "2020-07-31 16:48:19,221 DEBUG: Ceres Solver Report: Iterations: 17, Initial cost: 1.838694e+03, Final cost: 1.752086e+03, Termination: CONVERGENCE\n",
      "2020-07-31 16:48:19,266 INFO: Removed outliers: 3\n",
      "2020-07-31 16:48:19,271 INFO: -------------------------------------------------------\n",
      "2020-07-31 16:48:19,303 INFO: 0162.png resection inliers: 2071 / 2116\n",
      "2020-07-31 16:48:19,351 DEBUG: Ceres Solver Report: Iterations: 4, Initial cost: 1.819487e+02, Final cost: 1.441139e+02, Termination: CONVERGENCE\n",
      "2020-07-31 16:48:19,352 INFO: Adding 0162.png to the reconstruction\n",
      "2020-07-31 16:48:19,434 DEBUG: Local bundle sets: interior 16  boundary 0  other 0\n",
      "2020-07-31 16:48:20,171 DEBUG: Ceres Solver Report: Iterations: 10, Initial cost: 1.952688e+03, Final cost: 1.918123e+03, Termination: CONVERGENCE\n",
      "2020-07-31 16:48:20,228 INFO: Removed outliers: 0\n",
      "2020-07-31 16:48:20,233 INFO: -------------------------------------------------------\n",
      "2020-07-31 16:48:20,264 INFO: 0160.png resection inliers: 2094 / 2151\n",
      "2020-07-31 16:48:20,315 DEBUG: Ceres Solver Report: Iterations: 4, Initial cost: 2.004475e+02, Final cost: 1.500743e+02, Termination: CONVERGENCE\n",
      "2020-07-31 16:48:20,316 INFO: Adding 0160.png to the reconstruction\n",
      "2020-07-31 16:48:20,398 DEBUG: Local bundle sets: interior 17  boundary 0  other 0\n",
      "2020-07-31 16:48:21,098 DEBUG: Ceres Solver Report: Iterations: 7, Initial cost: 2.202203e+03, Final cost: 2.164792e+03, Termination: CONVERGENCE\n",
      "2020-07-31 16:48:21,156 INFO: Removed outliers: 1\n",
      "2020-07-31 16:48:21,161 INFO: -------------------------------------------------------\n",
      "2020-07-31 16:48:21,196 INFO: 0159.png resection inliers: 2175 / 2234\n",
      "2020-07-31 16:48:21,245 DEBUG: Ceres Solver Report: Iterations: 4, Initial cost: 2.156830e+02, Final cost: 1.847091e+02, Termination: CONVERGENCE\n",
      "2020-07-31 16:48:21,246 INFO: Adding 0159.png to the reconstruction\n",
      "2020-07-31 16:48:21,301 INFO: Re-triangulating\n",
      "2020-07-31 16:48:22,949 DEBUG: Ceres Solver Report: Iterations: 17, Initial cost: 2.465410e+03, Final cost: 2.419939e+03, Termination: CONVERGENCE\n",
      "2020-07-31 16:48:25,494 DEBUG: Ceres Solver Report: Iterations: 15, Initial cost: 2.601685e+03, Final cost: 2.490591e+03, Termination: CONVERGENCE\n",
      "2020-07-31 16:48:25,551 INFO: Removed outliers: 4\n",
      "2020-07-31 16:48:25,556 INFO: -------------------------------------------------------\n",
      "2020-07-31 16:48:25,590 INFO: 0158.png resection inliers: 2296 / 2330\n",
      "2020-07-31 16:48:25,639 DEBUG: Ceres Solver Report: Iterations: 4, Initial cost: 1.972544e+02, Final cost: 1.895977e+02, Termination: CONVERGENCE\n",
      "2020-07-31 16:48:25,640 INFO: Adding 0158.png to the reconstruction\n",
      "2020-07-31 16:48:25,716 DEBUG: Local bundle sets: interior 19  boundary 0  other 0\n",
      "2020-07-31 16:48:26,714 DEBUG: Ceres Solver Report: Iterations: 10, Initial cost: 2.717596e+03, Final cost: 2.673738e+03, Termination: CONVERGENCE\n",
      "2020-07-31 16:48:26,775 INFO: Removed outliers: 1\n",
      "2020-07-31 16:48:26,781 INFO: -------------------------------------------------------\n",
      "2020-07-31 16:48:26,811 INFO: 0157.png resection inliers: 2193 / 2237\n",
      "2020-07-31 16:48:26,862 DEBUG: Ceres Solver Report: Iterations: 4, Initial cost: 2.097454e+02, Final cost: 1.877015e+02, Termination: CONVERGENCE\n",
      "2020-07-31 16:48:26,863 INFO: Adding 0157.png to the reconstruction\n",
      "2020-07-31 16:48:26,941 DEBUG: Local bundle sets: interior 20  boundary 0  other 0\n",
      "2020-07-31 16:48:27,839 DEBUG: Ceres Solver Report: Iterations: 7, Initial cost: 2.904500e+03, Final cost: 2.865297e+03, Termination: CONVERGENCE\n",
      "2020-07-31 16:48:27,908 INFO: Removed outliers: 0\n",
      "2020-07-31 16:48:27,912 INFO: -------------------------------------------------------\n",
      "2020-07-31 16:48:27,949 INFO: 0156.png resection inliers: 2230 / 2281\n",
      "2020-07-31 16:48:28,000 DEBUG: Ceres Solver Report: Iterations: 4, Initial cost: 2.125788e+02, Final cost: 1.816017e+02, Termination: CONVERGENCE\n",
      "2020-07-31 16:48:28,001 INFO: Adding 0156.png to the reconstruction\n",
      "2020-07-31 16:48:28,076 DEBUG: Local bundle sets: interior 21  boundary 0  other 0\n",
      "2020-07-31 16:48:29,271 DEBUG: Ceres Solver Report: Iterations: 10, Initial cost: 3.125240e+03, Final cost: 3.088402e+03, Termination: CONVERGENCE\n",
      "2020-07-31 16:48:29,356 INFO: Removed outliers: 0\n",
      "2020-07-31 16:48:29,361 INFO: -------------------------------------------------------\n",
      "2020-07-31 16:48:29,401 INFO: 0155.png resection inliers: 2175 / 2234\n",
      "2020-07-31 16:48:29,461 DEBUG: Ceres Solver Report: Iterations: 4, Initial cost: 2.054833e+02, Final cost: 1.814116e+02, Termination: CONVERGENCE\n",
      "2020-07-31 16:48:29,463 INFO: Adding 0155.png to the reconstruction\n",
      "2020-07-31 16:48:29,553 DEBUG: Local bundle sets: interior 22  boundary 0  other 0\n",
      "2020-07-31 16:48:30,717 DEBUG: Ceres Solver Report: Iterations: 7, Initial cost: 3.309750e+03, Final cost: 3.275153e+03, Termination: CONVERGENCE\n",
      "2020-07-31 16:48:30,811 INFO: Removed outliers: 1\n",
      "2020-07-31 16:48:30,816 INFO: -------------------------------------------------------\n",
      "2020-07-31 16:48:30,852 INFO: 0161.png resection inliers: 2206 / 2244\n",
      "2020-07-31 16:48:30,909 DEBUG: Ceres Solver Report: Iterations: 5, Initial cost: 2.040206e+02, Final cost: 1.728433e+02, Termination: CONVERGENCE\n",
      "2020-07-31 16:48:30,910 INFO: Adding 0161.png to the reconstruction\n",
      "2020-07-31 16:48:31,004 DEBUG: Local bundle sets: interior 23  boundary 0  other 0\n",
      "2020-07-31 16:48:32,293 DEBUG: Ceres Solver Report: Iterations: 9, Initial cost: 3.474119e+03, Final cost: 3.441089e+03, Termination: CONVERGENCE\n",
      "2020-07-31 16:48:32,390 INFO: Removed outliers: 3\n",
      "2020-07-31 16:48:32,395 INFO: -------------------------------------------------------\n",
      "2020-07-31 16:48:32,426 INFO: 0154.png resection inliers: 2166 / 2235\n",
      "2020-07-31 16:48:32,481 DEBUG: Ceres Solver Report: Iterations: 4, Initial cost: 2.460368e+02, Final cost: 1.865540e+02, Termination: CONVERGENCE\n",
      "2020-07-31 16:48:32,482 INFO: Adding 0154.png to the reconstruction\n",
      "2020-07-31 16:48:32,535 INFO: Re-triangulating\n",
      "2020-07-31 16:48:35,620 DEBUG: Ceres Solver Report: Iterations: 22, Initial cost: 3.709728e+03, Final cost: 3.670781e+03, Termination: CONVERGENCE\n",
      "2020-07-31 16:48:39,543 DEBUG: Ceres Solver Report: Iterations: 16, Initial cost: 3.926677e+03, Final cost: 3.767564e+03, Termination: CONVERGENCE\n",
      "2020-07-31 16:48:39,626 INFO: Removed outliers: 8\n",
      "2020-07-31 16:48:39,630 INFO: -------------------------------------------------------\n",
      "2020-07-31 16:48:39,661 INFO: 0165.png resection inliers: 2165 / 2198\n",
      "2020-07-31 16:48:39,711 DEBUG: Ceres Solver Report: Iterations: 5, Initial cost: 2.025446e+02, Final cost: 1.483086e+02, Termination: CONVERGENCE\n",
      "2020-07-31 16:48:39,712 INFO: Adding 0165.png to the reconstruction\n",
      "2020-07-31 16:48:39,795 DEBUG: Local bundle sets: interior 25  boundary 0  other 0\n",
      "2020-07-31 16:48:40,995 DEBUG: Ceres Solver Report: Iterations: 7, Initial cost: 3.882742e+03, Final cost: 3.857178e+03, Termination: CONVERGENCE\n",
      "2020-07-31 16:48:41,095 INFO: Removed outliers: 0\n",
      "2020-07-31 16:48:41,099 INFO: -------------------------------------------------------\n"
     ]
    },
    {
     "name": "stderr",
     "output_type": "stream",
     "text": [
      "2020-07-31 16:48:41,131 INFO: 0153.png resection inliers: 2135 / 2180\n",
      "2020-07-31 16:48:41,189 DEBUG: Ceres Solver Report: Iterations: 5, Initial cost: 2.215703e+02, Final cost: 1.922331e+02, Termination: CONVERGENCE\n",
      "2020-07-31 16:48:41,191 INFO: Adding 0153.png to the reconstruction\n",
      "2020-07-31 16:48:41,278 DEBUG: Local bundle sets: interior 26  boundary 0  other 0\n",
      "2020-07-31 16:48:42,547 DEBUG: Ceres Solver Report: Iterations: 7, Initial cost: 4.115372e+03, Final cost: 4.075901e+03, Termination: CONVERGENCE\n",
      "2020-07-31 16:48:42,643 INFO: Removed outliers: 0\n",
      "2020-07-31 16:48:42,646 INFO: -------------------------------------------------------\n",
      "2020-07-31 16:48:42,678 INFO: 0169.png resection inliers: 2107 / 2151\n",
      "2020-07-31 16:48:42,729 DEBUG: Ceres Solver Report: Iterations: 4, Initial cost: 1.552785e+02, Final cost: 1.479803e+02, Termination: CONVERGENCE\n",
      "2020-07-31 16:48:42,731 INFO: Adding 0169.png to the reconstruction\n",
      "2020-07-31 16:48:42,827 DEBUG: Local bundle sets: interior 27  boundary 0  other 0\n",
      "2020-07-31 16:48:44,044 DEBUG: Ceres Solver Report: Iterations: 6, Initial cost: 4.260488e+03, Final cost: 4.238286e+03, Termination: CONVERGENCE\n",
      "2020-07-31 16:48:44,148 INFO: Removed outliers: 0\n",
      "2020-07-31 16:48:44,151 INFO: -------------------------------------------------------\n",
      "2020-07-31 16:48:44,178 INFO: 0177.png resection inliers: 1914 / 1974\n",
      "2020-07-31 16:48:44,229 DEBUG: Ceres Solver Report: Iterations: 4, Initial cost: 2.122561e+02, Final cost: 1.906632e+02, Termination: CONVERGENCE\n",
      "2020-07-31 16:48:44,230 INFO: Adding 0177.png to the reconstruction\n",
      "2020-07-31 16:48:44,339 DEBUG: Local bundle sets: interior 28  boundary 0  other 0\n",
      "2020-07-31 16:48:45,810 DEBUG: Ceres Solver Report: Iterations: 8, Initial cost: 4.494093e+03, Final cost: 4.448370e+03, Termination: CONVERGENCE\n",
      "2020-07-31 16:48:45,912 INFO: Removed outliers: 0\n",
      "2020-07-31 16:48:45,915 INFO: -------------------------------------------------------\n",
      "2020-07-31 16:48:45,946 INFO: 0178.png resection inliers: 1951 / 2020\n",
      "2020-07-31 16:48:45,994 DEBUG: Ceres Solver Report: Iterations: 4, Initial cost: 2.040610e+02, Final cost: 1.893380e+02, Termination: CONVERGENCE\n",
      "2020-07-31 16:48:45,995 INFO: Adding 0178.png to the reconstruction\n",
      "2020-07-31 16:48:46,108 DEBUG: Local bundle sets: interior 29  boundary 0  other 0\n",
      "2020-07-31 16:48:47,637 DEBUG: Ceres Solver Report: Iterations: 8, Initial cost: 4.692076e+03, Final cost: 4.654376e+03, Termination: CONVERGENCE\n",
      "2020-07-31 16:48:47,755 INFO: Removed outliers: 0\n",
      "2020-07-31 16:48:47,758 INFO: -------------------------------------------------------\n",
      "2020-07-31 16:48:47,789 INFO: 0179.png resection inliers: 1894 / 1969\n",
      "2020-07-31 16:48:47,834 DEBUG: Ceres Solver Report: Iterations: 4, Initial cost: 2.100851e+02, Final cost: 1.757440e+02, Termination: CONVERGENCE\n",
      "2020-07-31 16:48:47,836 INFO: Adding 0179.png to the reconstruction\n",
      "2020-07-31 16:48:47,933 DEBUG: Local bundle sets: interior 30  boundary 0  other 0\n",
      "2020-07-31 16:48:49,504 DEBUG: Ceres Solver Report: Iterations: 7, Initial cost: 4.916722e+03, Final cost: 4.879269e+03, Termination: CONVERGENCE\n",
      "2020-07-31 16:48:49,618 INFO: Removed outliers: 0\n",
      "2020-07-31 16:48:49,622 INFO: -------------------------------------------------------\n",
      "2020-07-31 16:48:49,650 INFO: 0180.png resection inliers: 1862 / 1943\n",
      "2020-07-31 16:48:49,695 DEBUG: Ceres Solver Report: Iterations: 4, Initial cost: 2.050969e+02, Final cost: 1.759877e+02, Termination: CONVERGENCE\n",
      "2020-07-31 16:48:49,697 INFO: Adding 0180.png to the reconstruction\n",
      "2020-07-31 16:48:49,794 DEBUG: Local bundle sets: interior 30  boundary 1  other 0\n",
      "2020-07-31 16:48:51,386 DEBUG: Ceres Solver Report: Iterations: 7, Initial cost: 5.115362e+03, Final cost: 5.077605e+03, Termination: CONVERGENCE\n",
      "2020-07-31 16:48:51,501 INFO: Removed outliers: 0\n",
      "2020-07-31 16:48:51,504 INFO: -------------------------------------------------------\n"
     ]
    }
   ],
   "source": [
    "report, reconstructions = incremental_reconstruction(data, tracks_manager, foc_len=0.7)"
   ]
  },
  {
   "cell_type": "code",
   "execution_count": null,
   "metadata": {},
   "outputs": [],
   "source": [
    "from opensfm import io\n",
    "# with open(data.profile_log(), 'a') as fout:\n",
    "#             fout.write('reconstruct: {0}\\n'.format(end - start))\n",
    "data.save_reconstruction(reconstructions)\n",
    "data.save_report(io.json_dumps(report), 'reconstruction.json')"
   ]
  },
  {
   "cell_type": "code",
   "execution_count": 110,
   "metadata": {},
   "outputs": [
    {
     "data": {
      "text/plain": [
       "0.39947916666666666"
      ]
     },
     "execution_count": 110,
     "metadata": {},
     "output_type": "execute_result"
    }
   ],
   "source": [
    "(1920-1153) / 1920"
   ]
  },
  {
   "cell_type": "code",
   "execution_count": 77,
   "metadata": {},
   "outputs": [
    {
     "data": {
      "text/plain": [
       "1344.0"
      ]
     },
     "execution_count": 77,
     "metadata": {},
     "output_type": "execute_result"
    }
   ],
   "source": [
    "0.7 * 1920"
   ]
  },
  {
   "cell_type": "markdown",
   "metadata": {},
   "source": [
    "# How are we calculating bearings?"
   ]
  },
  {
   "cell_type": "code",
   "execution_count": 16,
   "metadata": {},
   "outputs": [],
   "source": [
    "camera_priors = data.load_camera_models()"
   ]
  },
  {
   "cell_type": "code",
   "execution_count": 152,
   "metadata": {},
   "outputs": [],
   "source": [
    "common_tracks = tracking.all_common_tracks(tracks_manager)\n",
    "_, p1, p2 = common_tracks['0004.png', '0030.png']"
   ]
  },
  {
   "cell_type": "code",
   "execution_count": 27,
   "metadata": {},
   "outputs": [
    {
     "data": {
      "text/plain": [
       "array([[0.8, 0. , 0. ],\n",
       "       [0. , 0.8, 0. ],\n",
       "       [0. , 0. , 1. ]])"
      ]
     },
     "execution_count": 27,
     "metadata": {},
     "output_type": "execute_result"
    }
   ],
   "source": [
    "camera_priors['v2 unknown unknown 1920 1080 perspective 0'].get_K()"
   ]
  },
  {
   "cell_type": "code",
   "execution_count": 158,
   "metadata": {},
   "outputs": [],
   "source": [
    "K = camera_priors['v2 unknown unknown 1920 1080 perspective 0'].get_K_in_pixel_coordinates(1920,1080)"
   ]
  },
  {
   "cell_type": "code",
   "execution_count": 159,
   "metadata": {},
   "outputs": [
    {
     "data": {
      "text/plain": [
       "array([[1.632e+03, 0.000e+00, 9.600e+02],\n",
       "       [0.000e+00, 1.632e+03, 5.400e+02],\n",
       "       [0.000e+00, 0.000e+00, 1.000e+00]])"
      ]
     },
     "execution_count": 159,
     "metadata": {},
     "output_type": "execute_result"
    }
   ],
   "source": [
    "K"
   ]
  },
  {
   "cell_type": "code",
   "execution_count": 90,
   "metadata": {},
   "outputs": [],
   "source": [
    "def sqrNorm(a):\n",
    "    return a[0]**2 + a[1]**2"
   ]
  },
  {
   "cell_type": "code",
   "execution_count": 83,
   "metadata": {},
   "outputs": [],
   "source": [
    "b1 = a[0] / (0.85) * 0.98956846"
   ]
  },
  {
   "cell_type": "code",
   "execution_count": 88,
   "metadata": {},
   "outputs": [
    {
     "data": {
      "text/plain": [
       "0.038353701673151545"
      ]
     },
     "execution_count": 88,
     "metadata": {},
     "output_type": "execute_result"
    }
   ],
   "source": [
    "0.04465131 / 0.98956846 * 0.85"
   ]
  },
  {
   "cell_type": "code",
   "execution_count": 148,
   "metadata": {},
   "outputs": [],
   "source": [
    "point = np.array([ p1[0,0] , p1[0,1]])\n",
    "\n",
    "inv_norm = 1.0 / ((sqrNorm(point) + 1.0)**0.5)"
   ]
  },
  {
   "cell_type": "code",
   "execution_count": 149,
   "metadata": {},
   "outputs": [
    {
     "data": {
      "text/plain": [
       "0.038258862027737504"
      ]
     },
     "execution_count": 149,
     "metadata": {},
     "output_type": "execute_result"
    }
   ],
   "source": [
    "a2[0] * inv_norm"
   ]
  },
  {
   "cell_type": "code",
   "execution_count": 150,
   "metadata": {},
   "outputs": [
    {
     "data": {
      "text/plain": [
       "0.9924304410101045"
      ]
     },
     "execution_count": 150,
     "metadata": {},
     "output_type": "execute_result"
    }
   ],
   "source": [
    "inv_norm"
   ]
  },
  {
   "cell_type": "code",
   "execution_count": 162,
   "metadata": {},
   "outputs": [],
   "source": [
    "from opensfm import exif"
   ]
  },
  {
   "cell_type": "code",
   "execution_count": null,
   "metadata": {},
   "outputs": [],
   "source": [
    "d = exif.extract_exif_from_file('data/office/images/0006.png')"
   ]
  },
  {
   "cell_type": "code",
   "execution_count": 250,
   "metadata": {},
   "outputs": [
    {
     "data": {
      "text/plain": [
       "988.9500846863486"
      ]
     },
     "execution_count": 250,
     "metadata": {},
     "output_type": "execute_result"
    }
   ],
   "source": [
    "0.5150781691074733* 1920"
   ]
  },
  {
   "cell_type": "markdown",
   "metadata": {},
   "source": [
    "# Camera Metadata Test"
   ]
  },
  {
   "cell_type": "code",
   "execution_count": 2,
   "metadata": {},
   "outputs": [],
   "source": [
    "import copy\n",
    "import logging\n",
    "import time\n",
    "\n",
    "from opensfm import dataset\n",
    "from opensfm import exif"
   ]
  },
  {
   "cell_type": "code",
   "execution_count": 3,
   "metadata": {},
   "outputs": [],
   "source": [
    "logger = logging.getLogger(__name__)\n",
    "logging.getLogger(\"exifread\").setLevel(logging.WARNING)"
   ]
  },
  {
   "cell_type": "code",
   "execution_count": 4,
   "metadata": {},
   "outputs": [],
   "source": [
    "def _extract_exif(image, data):\n",
    "     # EXIF data in Image\n",
    "    d = exif.extract_exif_from_file(data.open_image_file(image))\n",
    "\n",
    "    # Image Height and Image Width\n",
    "    if d['width'] <= 0 or not data.config['use_exif_size']:\n",
    "        d['height'], d['width'] = data.image_size(image)\n",
    "\n",
    "    d['camera'] = exif.camera_id(d)\n",
    "\n",
    "    return d\n",
    "\n",
    "\n",
    "start = time.time()\n",
    "data = dataset.DataSet('data/office')\n",
    "\n",
    "exif_overrides = {}\n",
    "if data.exif_overrides_exists():\n",
    "    exif_overrides = data.load_exif_overrides()\n",
    "\n",
    "camera_models = {}\n",
    "for image in data.images():\n",
    "#     if data.exif_exists(image):\n",
    "#         logging.info('Loading existing EXIF for {}'.format(image))\n",
    "#         d = data.load_exif(image)\n",
    "#     else:\n",
    "        \n",
    "    logging.info('Extracting EXIF for {}'.format(image))\n",
    "    d = _extract_exif(image, data)\n",
    "\n",
    "    if image in exif_overrides:\n",
    "        \n",
    "        d.update(exif_overrides[image])\n",
    "\n",
    "    data.save_exif(image, d)\n",
    "\n",
    "    if d['camera'] not in camera_models:\n",
    "        \n",
    "        camera = exif.camera_from_exif_metadata(d, data)\n",
    "        camera_models[d['camera']] = camera\n",
    "        break\n",
    "\n",
    "# Override any camera specified in the camera models overrides file.\n",
    "if data.camera_models_overrides_exists():\n",
    "    overrides = data.load_camera_models_overrides()\n",
    "    if \"all\" in overrides:\n",
    "        for key in camera_models:\n",
    "            camera_models[key] = copy.copy(overrides[\"all\"])\n",
    "            camera_models[key].id = key\n",
    "    else:\n",
    "        for key, value in overrides.items():\n",
    "            camera_models[key] = value\n",
    "data.save_camera_models(camera_models)\n",
    "\n",
    "end = time.time()\n",
    "with open(data.profile_log(), 'a') as fout:\n",
    "    fout.write('extract_metadata: {0}\\n'.format(end - start))\n",
    "\n"
   ]
  },
  {
   "cell_type": "code",
   "execution_count": 5,
   "metadata": {},
   "outputs": [
    {
     "data": {
      "text/plain": [
       "{'use_exif_size': True,\n",
       " 'default_focal_prior': 0.9,\n",
       " 'feature_type': 'HAHOG',\n",
       " 'feature_root': 1,\n",
       " 'feature_min_frames': 4000,\n",
       " 'feature_process_size': 2048,\n",
       " 'feature_use_adaptive_suppression': False,\n",
       " 'sift_peak_threshold': 0.1,\n",
       " 'sift_edge_threshold': 10,\n",
       " 'surf_hessian_threshold': 3000,\n",
       " 'surf_n_octaves': 4,\n",
       " 'surf_n_octavelayers': 2,\n",
       " 'surf_upright': 0,\n",
       " 'akaze_omax': 4,\n",
       " 'akaze_dthreshold': 0.001,\n",
       " 'akaze_descriptor': 'MSURF',\n",
       " 'akaze_descriptor_size': 0,\n",
       " 'akaze_descriptor_channels': 3,\n",
       " 'akaze_kcontrast_percentile': 0.7,\n",
       " 'akaze_use_isotropic_diffusion': False,\n",
       " 'hahog_peak_threshold': 1e-05,\n",
       " 'hahog_edge_threshold': 10,\n",
       " 'hahog_normalize_to_uchar': True,\n",
       " 'lowes_ratio': 0.8,\n",
       " 'matcher_type': 'FLANN',\n",
       " 'symmetric_matching': True,\n",
       " 'flann_algorithm': 'KMEANS',\n",
       " 'flann_branching': 8,\n",
       " 'flann_iterations': 10,\n",
       " 'flann_tree': 8,\n",
       " 'flann_checks': 20,\n",
       " 'bow_file': 'bow_hahog_root_uchar_10000.npz',\n",
       " 'bow_words_to_match': 50,\n",
       " 'bow_num_checks': 20,\n",
       " 'bow_matcher_type': 'FLANN',\n",
       " 'vlad_file': 'bow_hahog_root_uchar_64.npz',\n",
       " 'matching_gps_distance': 150,\n",
       " 'matching_gps_neighbors': 0,\n",
       " 'matching_time_neighbors': 0,\n",
       " 'matching_order_neighbors': 0,\n",
       " 'matching_bow_neighbors': 0,\n",
       " 'matching_bow_gps_distance': 0,\n",
       " 'matching_bow_gps_neighbors': 0,\n",
       " 'matching_bow_other_cameras': False,\n",
       " 'matching_vlad_neighbors': 0,\n",
       " 'matching_vlad_gps_distance': 0,\n",
       " 'matching_vlad_gps_neighbors': 0,\n",
       " 'matching_vlad_other_cameras': False,\n",
       " 'matching_use_filters': False,\n",
       " 'robust_matching_threshold': 0.004,\n",
       " 'robust_matching_calib_threshold': 0.004,\n",
       " 'robust_matching_min_match': 20,\n",
       " 'five_point_algo_threshold': 0.004,\n",
       " 'five_point_algo_min_inliers': 20,\n",
       " 'five_point_refine_match_iterations': 10,\n",
       " 'five_point_refine_rec_iterations': 1000,\n",
       " 'triangulation_threshold': 0.006,\n",
       " 'triangulation_min_ray_angle': 1.0,\n",
       " 'triangulation_type': 'FULL',\n",
       " 'resection_threshold': 0.004,\n",
       " 'resection_min_inliers': 10,\n",
       " 'min_track_length': 2,\n",
       " 'loss_function': 'SoftLOneLoss',\n",
       " 'loss_function_threshold': 1,\n",
       " 'reprojection_error_sd': 0.004,\n",
       " 'exif_focal_sd': 0.01,\n",
       " 'principal_point_sd': 0.01,\n",
       " 'radial_distorsion_k1_sd': 0.01,\n",
       " 'radial_distorsion_k2_sd': 0.01,\n",
       " 'radial_distorsion_k3_sd': 0.01,\n",
       " 'radial_distorsion_p1_sd': 0.01,\n",
       " 'radial_distorsion_p2_sd': 0.01,\n",
       " 'bundle_outlier_filtering_type': 'FIXED',\n",
       " 'bundle_outlier_auto_ratio': 3.0,\n",
       " 'bundle_outlier_fixed_threshold': 0.006,\n",
       " 'optimize_camera_parameters': True,\n",
       " 'bundle_max_iterations': 100,\n",
       " 'retriangulation': True,\n",
       " 'retriangulation_ratio': 1.2,\n",
       " 'bundle_analytic_derivatives': True,\n",
       " 'bundle_interval': 999999,\n",
       " 'bundle_new_points_ratio': 1.2,\n",
       " 'local_bundle_radius': 3,\n",
       " 'local_bundle_min_common_points': 20,\n",
       " 'local_bundle_max_shots': 30,\n",
       " 'save_partial_reconstructions': False,\n",
       " 'use_altitude_tag': False,\n",
       " 'align_method': 'orientation_prior',\n",
       " 'align_orientation_prior': 'horizontal',\n",
       " 'bundle_use_gps': True,\n",
       " 'bundle_use_gcp': False,\n",
       " 'nav_min_distance': 0.01,\n",
       " 'nav_step_pref_distance': 6,\n",
       " 'nav_step_max_distance': 20,\n",
       " 'nav_turn_max_distance': 15,\n",
       " 'nav_step_forward_view_threshold': 15,\n",
       " 'nav_step_view_threshold': 30,\n",
       " 'nav_step_drift_threshold': 36,\n",
       " 'nav_turn_view_threshold': 40,\n",
       " 'nav_vertical_threshold': 20,\n",
       " 'nav_rotation_threshold': 30,\n",
       " 'undistorted_image_format': 'jpg',\n",
       " 'undistorted_image_max_size': 100000,\n",
       " 'depthmap_method': 'PATCH_MATCH_SAMPLE',\n",
       " 'depthmap_resolution': 640,\n",
       " 'depthmap_num_neighbors': 10,\n",
       " 'depthmap_num_matching_views': 6,\n",
       " 'depthmap_min_depth': 0,\n",
       " 'depthmap_max_depth': 0,\n",
       " 'depthmap_patchmatch_iterations': 3,\n",
       " 'depthmap_patch_size': 7,\n",
       " 'depthmap_min_patch_sd': 1.0,\n",
       " 'depthmap_min_correlation_score': 0.1,\n",
       " 'depthmap_same_depth_threshold': 0.01,\n",
       " 'depthmap_min_consistent_views': 3,\n",
       " 'depthmap_save_debug_files': False,\n",
       " 'processes': 1,\n",
       " 'submodel_size': 80,\n",
       " 'submodel_overlap': 30.0,\n",
       " 'submodels_relpath': 'submodels',\n",
       " 'submodel_relpath_template': 'submodels/submodel_%04d',\n",
       " 'submodel_images_relpath_template': 'submodels/submodel_%04d/images'}"
      ]
     },
     "execution_count": 5,
     "metadata": {},
     "output_type": "execute_result"
    }
   ],
   "source": [
    "data.config"
   ]
  },
  {
   "cell_type": "markdown",
   "metadata": {},
   "source": [
    "# focal length"
   ]
  },
  {
   "cell_type": "code",
   "execution_count": 129,
   "metadata": {},
   "outputs": [
    {
     "data": {
      "text/plain": [
       "1350.0000000923687"
      ]
     },
     "execution_count": 129,
     "metadata": {},
     "output_type": "execute_result"
    }
   ],
   "source": [
    "(1080 / 2) / (math.tan(math.pi*43.60281897/360.0))"
   ]
  },
  {
   "cell_type": "code",
   "execution_count": 122,
   "metadata": {},
   "outputs": [
    {
     "data": {
      "text/plain": [
       "35.99983029809857"
      ]
     },
     "execution_count": 122,
     "metadata": {},
     "output_type": "execute_result"
    }
   ],
   "source": [
    "2*(30*math.tan(0.5*61.92751306/57.296))"
   ]
  },
  {
   "cell_type": "code",
   "execution_count": 267,
   "metadata": {},
   "outputs": [
    {
     "data": {
      "text/plain": [
       "1984.5333333333333"
      ]
     },
     "execution_count": 267,
     "metadata": {},
     "output_type": "execute_result"
    }
   ],
   "source": [
    "37.21 * 1920 / 36"
   ]
  },
  {
   "cell_type": "code",
   "execution_count": null,
   "metadata": {},
   "outputs": [],
   "source": [
    "f_px = f__mm * image_width / sensor_width"
   ]
  },
  {
   "cell_type": "code",
   "execution_count": 240,
   "metadata": {},
   "outputs": [
    {
     "data": {
      "text/plain": [
       "108.44444444444444"
      ]
     },
     "execution_count": 240,
     "metadata": {},
     "output_type": "execute_result"
    }
   ],
   "source": [
    "61 * 16/9"
   ]
  },
  {
   "cell_type": "code",
   "execution_count": 239,
   "metadata": {},
   "outputs": [
    {
     "data": {
      "text/plain": [
       "33.795300000000005"
      ]
     },
     "execution_count": 239,
     "metadata": {},
     "output_type": "execute_result"
    }
   ],
   "source": [
    "3.99*(8.47)"
   ]
  },
  {
   "cell_type": "code",
   "execution_count": 238,
   "metadata": {},
   "outputs": [
    {
     "data": {
      "text/plain": [
       "1802.4160000000002"
      ]
     },
     "execution_count": 238,
     "metadata": {},
     "output_type": "execute_result"
    }
   ],
   "source": [
    "# f_mm to f_px\n",
    "3.99*(8.47)/36 * 1920"
   ]
  },
  {
   "cell_type": "code",
   "execution_count": 237,
   "metadata": {},
   "outputs": [
    {
     "data": {
      "text/plain": [
       "8.470588235294118"
      ]
     },
     "execution_count": 237,
     "metadata": {},
     "output_type": "execute_result"
    }
   ],
   "source": [
    "# ratio of sensor widths\n",
    "36/4.25"
   ]
  }
 ],
 "metadata": {
  "kernelspec": {
   "display_name": "Python 3",
   "language": "python",
   "name": "python3"
  },
  "language_info": {
   "codemirror_mode": {
    "name": "ipython",
    "version": 3
   },
   "file_extension": ".py",
   "mimetype": "text/x-python",
   "name": "python",
   "nbconvert_exporter": "python",
   "pygments_lexer": "ipython3",
   "version": "3.8.0"
  }
 },
 "nbformat": 4,
 "nbformat_minor": 4
}
