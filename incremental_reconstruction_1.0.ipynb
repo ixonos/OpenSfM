{
 "cells": [
  {
   "cell_type": "code",
   "execution_count": 1,
   "metadata": {},
   "outputs": [],
   "source": [
    "import opensfm.reconstruction as rec\n",
    "from opensfm import dataset\n",
    "from opensfm import pysfm\n",
    "from opensfm import tracking\n",
    "\n",
    "import logging\n",
    "from timeit import default_timer as timer\n",
    "import numpy as np\n",
    "import math\n",
    "import time\n",
    "\n",
    "logger = logging.getLogger(__name__)"
   ]
  },
  {
   "cell_type": "code",
   "execution_count": 10,
   "metadata": {},
   "outputs": [],
   "source": [
    "def incremental_reconstruction(data, tracks_manager, foc_len):\n",
    "    \"\"\"Run the entire incremental reconstruction pipeline.\"\"\"\n",
    "    logger.info(\"Starting incremental reconstruction\")\n",
    "    report = {}\n",
    "    chrono = rec.Chronometer()\n",
    "\n",
    "    images = tracks_manager.get_shot_ids()\n",
    "    \n",
    "    if not data.reference_lla_exists():\n",
    "        data.invent_reference_lla(images)\n",
    "\n",
    "    remaining_images = set(images)\n",
    "    camera_priors = data.load_camera_models()\n",
    "#     for i in camera_priors.keys():\n",
    "#         camera_priors[i].focal = foc_len\n",
    "\n",
    "    cam_key = next(iter(camera_priors.keys()))\n",
    "    logger.info(\"FOCAL KEYS: {}\".format(cam_key))\n",
    "    camera_priors[cam_key].focal = foc_len\n",
    "    gcp = data.load_ground_control_points()\n",
    "    common_tracks = tracking.all_common_tracks(tracks_manager)\n",
    "    reconstructions = []\n",
    "    pairs = rec.compute_image_pairs(common_tracks, camera_priors, data)\n",
    "    \n",
    "    if len(pairs) == 0:\n",
    "        return\n",
    "    \n",
    "    chrono.lap('compute_image_pairs')\n",
    "    report['num_candidate_image_pairs'] = len(pairs)\n",
    "    report['reconstructions'] = []\n",
    "    \n",
    "    t0 = time.time()\n",
    "    \n",
    "    for im1, im2 in pairs:\n",
    "        if im1 in remaining_images and im2 in remaining_images:\n",
    "            \"Running boostrap and BA\"\n",
    "            rec_report = {}\n",
    "            report['reconstructions'].append(rec_report)\n",
    "            _, p1, p2 = common_tracks[im1, im2]\n",
    "            reconstruction, graph_inliers, rec_report['bootstrap'] = rec.bootstrap_reconstruction(\n",
    "                data, tracks_manager, camera_priors, im1, im2, p1, p2)\n",
    "\n",
    "            if reconstruction:\n",
    "                remaining_images.remove(im1)\n",
    "                remaining_images.remove(im2)\n",
    "                reconstruction, rec_report['grow'] = rec.grow_reconstruction(\n",
    "                    data, tracks_manager, graph_inliers, reconstruction, remaining_images, camera_priors, gcp)\n",
    "                reconstructions.append(reconstruction)\n",
    "                reconstructions = sorted(reconstructions,\n",
    "                                         key=lambda x: -len(x.shots))\n",
    "                rec_report['stats'] = rec.compute_statistics(reconstruction, graph_inliers)\n",
    "                logger.info(rec_report['stats'])\n",
    "                \n",
    "    t1 = time.time()\n",
    "    \n",
    "    print(\"time: \", t1-t0)\n",
    "\n",
    "    for k, r in enumerate(reconstructions):\n",
    "        logger.info(\"Reconstruction {}: {} images, {} points\".format(\n",
    "            k, len(r.shots), len(r.points)))\n",
    "    logger.info(\"{} partial reconstructions in total.\".format(\n",
    "        len(reconstructions)))\n",
    "    chrono.lap('compute_reconstructions')\n",
    "    report['wall_times'] = dict(chrono.lap_times())\n",
    "    report['not_reconstructed_images'] = list(remaining_images)\n",
    "    return report, reconstructions"
   ]
  },
  {
   "cell_type": "code",
   "execution_count": 11,
   "metadata": {},
   "outputs": [],
   "source": [
    "data = dataset.DataSet('data/iphone11pro_wide_office_30_parallax')\n",
    "tracks_manager = data.load_tracks_manager()\n",
    "\n",
    "# tracks_manager = pysfm.TracksManager.instanciate_from_file('/Users/jarrodhaas/torus-fast-track-dependencies/OpenSfM/data/gopro8_grass/tracks.csv')"
   ]
  },
  {
   "cell_type": "code",
   "execution_count": 12,
   "metadata": {
    "scrolled": true
   },
   "outputs": [
    {
     "name": "stderr",
     "output_type": "stream",
     "text": [
      "2020-08-14 10:46:33,189 INFO: Starting incremental reconstruction\n",
      "2020-08-14 10:46:33,191 INFO: FOCAL KEYS: v2 unknown unknown 1920 1080 perspective 0\n",
      "2020-08-14 10:46:36,684 INFO: Starting reconstruction with 0208.png and 0225.png\n",
      "2020-08-14 10:46:36,717 INFO: Two-view reconstruction inliers: 1354 / 1384\n",
      "2020-08-14 10:46:36,849 INFO: Triangulated: 1364\n",
      "2020-08-14 10:46:36,870 DEBUG: Ceres Solver Report: Iterations: 5, Initial cost: 1.275642e+02, Final cost: 1.230574e+02, Termination: CONVERGENCE\n",
      "2020-08-14 10:46:37,043 DEBUG: Ceres Solver Report: Iterations: 4, Initial cost: 1.238982e+02, Final cost: 1.215318e+02, Termination: CONVERGENCE\n",
      "2020-08-14 10:46:37,142 DEBUG: Ceres Solver Report: Iterations: 17, Initial cost: 2.446647e+02, Final cost: 2.200588e+02, Termination: CONVERGENCE\n",
      "2020-08-14 10:46:37,147 INFO: Removed outliers: 2\n",
      "2020-08-14 10:46:37,153 INFO: -------------------------------------------------------\n",
      "2020-08-14 10:46:37,173 INFO: 0224.png resection inliers: 1187 / 1205\n",
      "2020-08-14 10:46:37,198 DEBUG: Ceres Solver Report: Iterations: 4, Initial cost: 2.336271e+02, Final cost: 1.394991e+02, Termination: CONVERGENCE\n",
      "2020-08-14 10:46:37,199 INFO: Adding 0224.png to the reconstruction\n",
      "2020-08-14 10:46:37,281 INFO: Re-triangulating\n",
      "2020-08-14 10:46:37,496 DEBUG: Ceres Solver Report: Iterations: 15, Initial cost: 4.626490e+02, Final cost: 3.775036e+02, Termination: CONVERGENCE\n",
      "2020-08-14 10:46:37,977 DEBUG: Ceres Solver Report: Iterations: 18, Initial cost: 4.037365e+02, Final cost: 3.849765e+02, Termination: CONVERGENCE\n",
      "2020-08-14 10:46:37,988 INFO: Removed outliers: 2\n",
      "2020-08-14 10:46:37,994 INFO: -------------------------------------------------------\n",
      "2020-08-14 10:46:38,023 INFO: 0220.png resection inliers: 1464 / 1782\n",
      "2020-08-14 10:46:38,059 DEBUG: Ceres Solver Report: Iterations: 7, Initial cost: 6.240185e+02, Final cost: 6.001634e+02, Termination: CONVERGENCE\n",
      "2020-08-14 10:46:38,060 INFO: Adding 0220.png to the reconstruction\n",
      "2020-08-14 10:46:38,109 INFO: Re-triangulating\n",
      "2020-08-14 10:46:38,431 DEBUG: Ceres Solver Report: Iterations: 18, Initial cost: 1.244281e+03, Final cost: 8.615401e+02, Termination: CONVERGENCE\n",
      "2020-08-14 10:46:39,162 DEBUG: Ceres Solver Report: Iterations: 21, Initial cost: 1.061112e+03, Final cost: 1.011294e+03, Termination: CONVERGENCE\n",
      "2020-08-14 10:46:39,179 INFO: Removed outliers: 3\n",
      "2020-08-14 10:46:39,186 INFO: -------------------------------------------------------\n",
      "2020-08-14 10:46:39,219 INFO: 0218.png resection inliers: 1932 / 2060\n",
      "2020-08-14 10:46:39,262 DEBUG: Ceres Solver Report: Iterations: 5, Initial cost: 6.581780e+02, Final cost: 5.543885e+02, Termination: CONVERGENCE\n",
      "2020-08-14 10:46:39,263 INFO: Adding 0218.png to the reconstruction\n",
      "2020-08-14 10:46:39,311 INFO: Re-triangulating\n",
      "2020-08-14 10:46:39,699 DEBUG: Ceres Solver Report: Iterations: 14, Initial cost: 1.525653e+03, Final cost: 1.353125e+03, Termination: CONVERGENCE\n",
      "2020-08-14 10:46:40,558 DEBUG: Ceres Solver Report: Iterations: 18, Initial cost: 1.465109e+03, Final cost: 1.424382e+03, Termination: CONVERGENCE\n",
      "2020-08-14 10:46:40,578 INFO: Removed outliers: 0\n",
      "2020-08-14 10:46:40,585 INFO: -------------------------------------------------------\n",
      "2020-08-14 10:46:40,617 INFO: 0215.png resection inliers: 2036 / 2113\n",
      "2020-08-14 10:46:40,664 DEBUG: Ceres Solver Report: Iterations: 5, Initial cost: 6.365810e+02, Final cost: 5.818260e+02, Termination: CONVERGENCE\n",
      "2020-08-14 10:46:40,665 INFO: Adding 0215.png to the reconstruction\n",
      "2020-08-14 10:46:40,726 DEBUG: Local bundle sets: interior 6  boundary 0  other 0\n",
      "2020-08-14 10:46:41,092 DEBUG: Ceres Solver Report: Iterations: 11, Initial cost: 1.887575e+03, Final cost: 1.769582e+03, Termination: NO_CONVERGENCE\n",
      "2020-08-14 10:46:41,120 INFO: Removed outliers: 1\n",
      "2020-08-14 10:46:41,127 INFO: -------------------------------------------------------\n",
      "2020-08-14 10:46:41,162 INFO: 0212.png resection inliers: 2197 / 2296\n",
      "2020-08-14 10:46:41,213 DEBUG: Ceres Solver Report: Iterations: 4, Initial cost: 5.948208e+02, Final cost: 5.617385e+02, Termination: CONVERGENCE\n",
      "2020-08-14 10:46:41,214 INFO: Adding 0212.png to the reconstruction\n",
      "2020-08-14 10:46:41,256 INFO: Re-triangulating\n"
     ]
    },
    {
     "ename": "KeyboardInterrupt",
     "evalue": "",
     "output_type": "error",
     "traceback": [
      "\u001b[0;31m---------------------------------------------------------------------------\u001b[0m",
      "\u001b[0;31mKeyboardInterrupt\u001b[0m                         Traceback (most recent call last)",
      "\u001b[0;32m<ipython-input-12-48df1997fc40>\u001b[0m in \u001b[0;36m<module>\u001b[0;34m\u001b[0m\n\u001b[1;32m      6\u001b[0m \u001b[0;32mfor\u001b[0m \u001b[0mi\u001b[0m \u001b[0;32min\u001b[0m \u001b[0mrange\u001b[0m\u001b[0;34m(\u001b[0m\u001b[0;36m2\u001b[0m\u001b[0;34m)\u001b[0m\u001b[0;34m:\u001b[0m\u001b[0;34m\u001b[0m\u001b[0;34m\u001b[0m\u001b[0m\n\u001b[1;32m      7\u001b[0m \u001b[0;34m\u001b[0m\u001b[0m\n\u001b[0;32m----> 8\u001b[0;31m     \u001b[0mreport\u001b[0m\u001b[0;34m,\u001b[0m \u001b[0mreconstructions\u001b[0m \u001b[0;34m=\u001b[0m \u001b[0mincremental_reconstruction\u001b[0m\u001b[0;34m(\u001b[0m\u001b[0mdata\u001b[0m\u001b[0;34m,\u001b[0m \u001b[0mtracks_manager\u001b[0m\u001b[0;34m,\u001b[0m \u001b[0mfoc_len\u001b[0m\u001b[0;34m=\u001b[0m\u001b[0minit_focal\u001b[0m\u001b[0;34m)\u001b[0m\u001b[0;34m\u001b[0m\u001b[0;34m\u001b[0m\u001b[0m\n\u001b[0m\u001b[1;32m      9\u001b[0m \u001b[0;34m\u001b[0m\u001b[0m\n\u001b[1;32m     10\u001b[0m     \u001b[0mrec1\u001b[0m \u001b[0;34m=\u001b[0m \u001b[0mreconstructions\u001b[0m\u001b[0;34m.\u001b[0m\u001b[0mpop\u001b[0m\u001b[0;34m(\u001b[0m\u001b[0;34m)\u001b[0m\u001b[0;34m\u001b[0m\u001b[0;34m\u001b[0m\u001b[0m\n",
      "\u001b[0;32m<ipython-input-10-9d0658b2ed86>\u001b[0m in \u001b[0;36mincremental_reconstruction\u001b[0;34m(data, tracks_manager, foc_len)\u001b[0m\n\u001b[1;32m     44\u001b[0m                 \u001b[0mremaining_images\u001b[0m\u001b[0;34m.\u001b[0m\u001b[0mremove\u001b[0m\u001b[0;34m(\u001b[0m\u001b[0mim1\u001b[0m\u001b[0;34m)\u001b[0m\u001b[0;34m\u001b[0m\u001b[0;34m\u001b[0m\u001b[0m\n\u001b[1;32m     45\u001b[0m                 \u001b[0mremaining_images\u001b[0m\u001b[0;34m.\u001b[0m\u001b[0mremove\u001b[0m\u001b[0;34m(\u001b[0m\u001b[0mim2\u001b[0m\u001b[0;34m)\u001b[0m\u001b[0;34m\u001b[0m\u001b[0;34m\u001b[0m\u001b[0m\n\u001b[0;32m---> 46\u001b[0;31m                 reconstruction, rec_report['grow'] = rec.grow_reconstruction(\n\u001b[0m\u001b[1;32m     47\u001b[0m                     data, tracks_manager, graph_inliers, reconstruction, remaining_images, camera_priors, gcp)\n\u001b[1;32m     48\u001b[0m                 \u001b[0mreconstructions\u001b[0m\u001b[0;34m.\u001b[0m\u001b[0mappend\u001b[0m\u001b[0;34m(\u001b[0m\u001b[0mreconstruction\u001b[0m\u001b[0;34m)\u001b[0m\u001b[0;34m\u001b[0m\u001b[0;34m\u001b[0m\u001b[0m\n",
      "\u001b[0;32m~/torus-fast-track-dependencies/OpenSfM/opensfm/reconstruction.py\u001b[0m in \u001b[0;36mgrow_reconstruction\u001b[0;34m(data, tracks_manager, graph_inliers, reconstruction, images, camera_priors, gcp)\u001b[0m\n\u001b[1;32m   1245\u001b[0m                 \u001b[0mlogger\u001b[0m\u001b[0;34m.\u001b[0m\u001b[0minfo\u001b[0m\u001b[0;34m(\u001b[0m\u001b[0;34m\"Re-triangulating\"\u001b[0m\u001b[0;34m)\u001b[0m\u001b[0;34m\u001b[0m\u001b[0;34m\u001b[0m\u001b[0m\n\u001b[1;32m   1246\u001b[0m                 \u001b[0malign_reconstruction\u001b[0m\u001b[0;34m(\u001b[0m\u001b[0mreconstruction\u001b[0m\u001b[0;34m,\u001b[0m \u001b[0mgcp\u001b[0m\u001b[0;34m,\u001b[0m \u001b[0mconfig\u001b[0m\u001b[0;34m)\u001b[0m\u001b[0;34m\u001b[0m\u001b[0;34m\u001b[0m\u001b[0m\n\u001b[0;32m-> 1247\u001b[0;31m                 b1rep = bundle(graph_inliers, reconstruction, camera_priors,\n\u001b[0m\u001b[1;32m   1248\u001b[0m                                None, config)\n\u001b[1;32m   1249\u001b[0m                 \u001b[0mrrep\u001b[0m \u001b[0;34m=\u001b[0m \u001b[0mretriangulate\u001b[0m\u001b[0;34m(\u001b[0m\u001b[0mtracks_manager\u001b[0m\u001b[0;34m,\u001b[0m \u001b[0mgraph_inliers\u001b[0m\u001b[0;34m,\u001b[0m \u001b[0mreconstruction\u001b[0m\u001b[0;34m,\u001b[0m \u001b[0mconfig\u001b[0m\u001b[0;34m)\u001b[0m\u001b[0;34m\u001b[0m\u001b[0;34m\u001b[0m\u001b[0m\n",
      "\u001b[0;32m~/torus-fast-track-dependencies/OpenSfM/opensfm/reconstruction.py\u001b[0m in \u001b[0;36mbundle\u001b[0;34m(graph, reconstruction, camera_priors, gcp, config)\u001b[0m\n\u001b[1;32m    161\u001b[0m \u001b[0;34m\u001b[0m\u001b[0m\n\u001b[1;32m    162\u001b[0m     \u001b[0mchrono\u001b[0m\u001b[0;34m.\u001b[0m\u001b[0mlap\u001b[0m\u001b[0;34m(\u001b[0m\u001b[0;34m'setup'\u001b[0m\u001b[0;34m)\u001b[0m\u001b[0;34m\u001b[0m\u001b[0;34m\u001b[0m\u001b[0m\n\u001b[0;32m--> 163\u001b[0;31m     \u001b[0mba\u001b[0m\u001b[0;34m.\u001b[0m\u001b[0mrun\u001b[0m\u001b[0;34m(\u001b[0m\u001b[0;34m)\u001b[0m\u001b[0;34m\u001b[0m\u001b[0;34m\u001b[0m\u001b[0m\n\u001b[0m\u001b[1;32m    164\u001b[0m     \u001b[0mchrono\u001b[0m\u001b[0;34m.\u001b[0m\u001b[0mlap\u001b[0m\u001b[0;34m(\u001b[0m\u001b[0;34m'run'\u001b[0m\u001b[0;34m)\u001b[0m\u001b[0;34m\u001b[0m\u001b[0;34m\u001b[0m\u001b[0m\n\u001b[1;32m    165\u001b[0m \u001b[0;34m\u001b[0m\u001b[0m\n",
      "\u001b[0;31mKeyboardInterrupt\u001b[0m: "
     ]
    }
   ],
   "source": [
    "tol = 0.01\n",
    "init_focal = 0.8\n",
    "\n",
    "t0 = time.time()\n",
    "\n",
    "for i in range(2):\n",
    "\n",
    "    report, reconstructions = incremental_reconstruction(data, tracks_manager, foc_len=init_focal)\n",
    "\n",
    "    rec1 = reconstructions.pop()\n",
    "    for i in rec1.cameras.keys():\n",
    "        est_focal = rec1.cameras[i].focal\n",
    "\n",
    "    if ((init_focal - est_focal) <= tol):\n",
    "        print(\"Tolerance reached. Focal est: \", est_focal, \"Iteration: \",i)\n",
    "        t1 = time.time()\n",
    "        print(\"Total time: \", t1-t0)\n",
    "        break\n",
    "    else:\n",
    "        print(\"est focal: \", est_focal)\n",
    "        init_focal = est_focal\n",
    "        t1 = time.time()\n",
    "        print(\"Total time: \", t1-t0)\n",
    "        \n",
    "    "
   ]
  },
  {
   "cell_type": "code",
   "execution_count": 44,
   "metadata": {},
   "outputs": [],
   "source": [
    "camera_priors = data.load_camera_models()\n",
    "for i in camera_priors.keys():\n",
    "    img_width = camera_priors[i].width\n",
    "    img_height = camera_priors[i].height"
   ]
  },
  {
   "cell_type": "code",
   "execution_count": 49,
   "metadata": {},
   "outputs": [],
   "source": [
    "key = next(iter(camera_priors.keys()))\n",
    "img_width = camera_priors[key].width\n"
   ]
  },
  {
   "cell_type": "code",
   "execution_count": 50,
   "metadata": {},
   "outputs": [
    {
     "data": {
      "text/plain": [
       "1920"
      ]
     },
     "execution_count": 50,
     "metadata": {},
     "output_type": "execute_result"
    }
   ],
   "source": [
    "img_width"
   ]
  },
  {
   "cell_type": "code",
   "execution_count": 51,
   "metadata": {},
   "outputs": [
    {
     "data": {
      "text/plain": [
       "(1, 'tets')"
      ]
     },
     "execution_count": 51,
     "metadata": {},
     "output_type": "execute_result"
    }
   ],
   "source": [
    "(1, \"tets\")"
   ]
  },
  {
   "cell_type": "code",
   "execution_count": 30,
   "metadata": {},
   "outputs": [
    {
     "data": {
      "text/plain": [
       "34548"
      ]
     },
     "execution_count": 30,
     "metadata": {},
     "output_type": "execute_result"
    }
   ],
   "source": [
    "from opensfm import io\n",
    "# with open(data.profile_log(), 'a') as fout:\n",
    "#             fout.write('reconstruct: {0}\\n'.format(end - start))\n",
    "data.save_reconstruction(reconstructions)\n",
    "data.save_report(io.json_dumps(report), 'reconstruction.json')"
   ]
  },
  {
   "cell_type": "code",
   "execution_count": 110,
   "metadata": {},
   "outputs": [
    {
     "data": {
      "text/plain": [
       "0.39947916666666666"
      ]
     },
     "execution_count": 110,
     "metadata": {},
     "output_type": "execute_result"
    }
   ],
   "source": [
    "(1920-1153) / 1920"
   ]
  },
  {
   "cell_type": "code",
   "execution_count": 31,
   "metadata": {},
   "outputs": [
    {
     "data": {
      "text/plain": [
       "837.12"
      ]
     },
     "execution_count": 31,
     "metadata": {},
     "output_type": "execute_result"
    }
   ],
   "source": [
    ".436 * 1920"
   ]
  },
  {
   "cell_type": "markdown",
   "metadata": {},
   "source": [
    "# How are we calculating bearings?"
   ]
  },
  {
   "cell_type": "code",
   "execution_count": 16,
   "metadata": {},
   "outputs": [],
   "source": [
    "camera_priors = data.load_camera_models()"
   ]
  },
  {
   "cell_type": "code",
   "execution_count": 152,
   "metadata": {},
   "outputs": [],
   "source": [
    "common_tracks = tracking.all_common_tracks(tracks_manager)\n",
    "_, p1, p2 = common_tracks['0004.png', '0030.png']"
   ]
  },
  {
   "cell_type": "code",
   "execution_count": 27,
   "metadata": {},
   "outputs": [
    {
     "data": {
      "text/plain": [
       "array([[0.8, 0. , 0. ],\n",
       "       [0. , 0.8, 0. ],\n",
       "       [0. , 0. , 1. ]])"
      ]
     },
     "execution_count": 27,
     "metadata": {},
     "output_type": "execute_result"
    }
   ],
   "source": [
    "camera_priors['v2 unknown unknown 1920 1080 perspective 0'].get_K()"
   ]
  },
  {
   "cell_type": "code",
   "execution_count": 158,
   "metadata": {},
   "outputs": [],
   "source": [
    "K = camera_priors['v2 unknown unknown 1920 1080 perspective 0'].get_K_in_pixel_coordinates(1920,1080)"
   ]
  },
  {
   "cell_type": "code",
   "execution_count": 159,
   "metadata": {},
   "outputs": [
    {
     "data": {
      "text/plain": [
       "array([[1.632e+03, 0.000e+00, 9.600e+02],\n",
       "       [0.000e+00, 1.632e+03, 5.400e+02],\n",
       "       [0.000e+00, 0.000e+00, 1.000e+00]])"
      ]
     },
     "execution_count": 159,
     "metadata": {},
     "output_type": "execute_result"
    }
   ],
   "source": [
    "K"
   ]
  },
  {
   "cell_type": "code",
   "execution_count": 90,
   "metadata": {},
   "outputs": [],
   "source": [
    "def sqrNorm(a):\n",
    "    return a[0]**2 + a[1]**2"
   ]
  },
  {
   "cell_type": "code",
   "execution_count": 83,
   "metadata": {},
   "outputs": [],
   "source": [
    "b1 = a[0] / (0.85) * 0.98956846"
   ]
  },
  {
   "cell_type": "code",
   "execution_count": 88,
   "metadata": {},
   "outputs": [
    {
     "data": {
      "text/plain": [
       "0.038353701673151545"
      ]
     },
     "execution_count": 88,
     "metadata": {},
     "output_type": "execute_result"
    }
   ],
   "source": [
    "0.04465131 / 0.98956846 * 0.85"
   ]
  },
  {
   "cell_type": "code",
   "execution_count": 148,
   "metadata": {},
   "outputs": [],
   "source": [
    "point = np.array([ p1[0,0] , p1[0,1]])\n",
    "\n",
    "inv_norm = 1.0 / ((sqrNorm(point) + 1.0)**0.5)"
   ]
  },
  {
   "cell_type": "code",
   "execution_count": 149,
   "metadata": {},
   "outputs": [
    {
     "data": {
      "text/plain": [
       "0.038258862027737504"
      ]
     },
     "execution_count": 149,
     "metadata": {},
     "output_type": "execute_result"
    }
   ],
   "source": [
    "a2[0] * inv_norm"
   ]
  },
  {
   "cell_type": "code",
   "execution_count": 150,
   "metadata": {},
   "outputs": [
    {
     "data": {
      "text/plain": [
       "0.9924304410101045"
      ]
     },
     "execution_count": 150,
     "metadata": {},
     "output_type": "execute_result"
    }
   ],
   "source": [
    "inv_norm"
   ]
  },
  {
   "cell_type": "code",
   "execution_count": 162,
   "metadata": {},
   "outputs": [],
   "source": [
    "from opensfm import exif"
   ]
  },
  {
   "cell_type": "code",
   "execution_count": null,
   "metadata": {},
   "outputs": [],
   "source": [
    "d = exif.extract_exif_from_file('data/office/images/0006.png')"
   ]
  },
  {
   "cell_type": "code",
   "execution_count": 250,
   "metadata": {},
   "outputs": [
    {
     "data": {
      "text/plain": [
       "988.9500846863486"
      ]
     },
     "execution_count": 250,
     "metadata": {},
     "output_type": "execute_result"
    }
   ],
   "source": [
    "0.5150781691074733* 1920"
   ]
  },
  {
   "cell_type": "markdown",
   "metadata": {},
   "source": [
    "# Camera Metadata Test"
   ]
  },
  {
   "cell_type": "code",
   "execution_count": 2,
   "metadata": {},
   "outputs": [],
   "source": [
    "import copy\n",
    "import logging\n",
    "import time\n",
    "\n",
    "from opensfm import dataset\n",
    "from opensfm import exif"
   ]
  },
  {
   "cell_type": "code",
   "execution_count": 3,
   "metadata": {},
   "outputs": [],
   "source": [
    "logger = logging.getLogger(__name__)\n",
    "logging.getLogger(\"exifread\").setLevel(logging.WARNING)"
   ]
  },
  {
   "cell_type": "code",
   "execution_count": 4,
   "metadata": {},
   "outputs": [],
   "source": [
    "def _extract_exif(image, data):\n",
    "     # EXIF data in Image\n",
    "    d = exif.extract_exif_from_file(data.open_image_file(image))\n",
    "\n",
    "    # Image Height and Image Width\n",
    "    if d['width'] <= 0 or not data.config['use_exif_size']:\n",
    "        d['height'], d['width'] = data.image_size(image)\n",
    "\n",
    "    d['camera'] = exif.camera_id(d)\n",
    "\n",
    "    return d\n",
    "\n",
    "\n",
    "start = time.time()\n",
    "data = dataset.DataSet('data/office')\n",
    "\n",
    "exif_overrides = {}\n",
    "if data.exif_overrides_exists():\n",
    "    exif_overrides = data.load_exif_overrides()\n",
    "\n",
    "camera_models = {}\n",
    "for image in data.images():\n",
    "#     if data.exif_exists(image):\n",
    "#         logging.info('Loading existing EXIF for {}'.format(image))\n",
    "#         d = data.load_exif(image)\n",
    "#     else:\n",
    "        \n",
    "    logging.info('Extracting EXIF for {}'.format(image))\n",
    "    d = _extract_exif(image, data)\n",
    "\n",
    "    if image in exif_overrides:\n",
    "        \n",
    "        d.update(exif_overrides[image])\n",
    "\n",
    "    data.save_exif(image, d)\n",
    "\n",
    "    if d['camera'] not in camera_models:\n",
    "        \n",
    "        camera = exif.camera_from_exif_metadata(d, data)\n",
    "        camera_models[d['camera']] = camera\n",
    "        break\n",
    "\n",
    "# Override any camera specified in the camera models overrides file.\n",
    "if data.camera_models_overrides_exists():\n",
    "    overrides = data.load_camera_models_overrides()\n",
    "    if \"all\" in overrides:\n",
    "        for key in camera_models:\n",
    "            camera_models[key] = copy.copy(overrides[\"all\"])\n",
    "            camera_models[key].id = key\n",
    "    else:\n",
    "        for key, value in overrides.items():\n",
    "            camera_models[key] = value\n",
    "data.save_camera_models(camera_models)\n",
    "\n",
    "end = time.time()\n",
    "with open(data.profile_log(), 'a') as fout:\n",
    "    fout.write('extract_metadata: {0}\\n'.format(end - start))\n",
    "\n"
   ]
  },
  {
   "cell_type": "code",
   "execution_count": 5,
   "metadata": {},
   "outputs": [
    {
     "data": {
      "text/plain": [
       "{'use_exif_size': True,\n",
       " 'default_focal_prior': 0.9,\n",
       " 'feature_type': 'HAHOG',\n",
       " 'feature_root': 1,\n",
       " 'feature_min_frames': 4000,\n",
       " 'feature_process_size': 2048,\n",
       " 'feature_use_adaptive_suppression': False,\n",
       " 'sift_peak_threshold': 0.1,\n",
       " 'sift_edge_threshold': 10,\n",
       " 'surf_hessian_threshold': 3000,\n",
       " 'surf_n_octaves': 4,\n",
       " 'surf_n_octavelayers': 2,\n",
       " 'surf_upright': 0,\n",
       " 'akaze_omax': 4,\n",
       " 'akaze_dthreshold': 0.001,\n",
       " 'akaze_descriptor': 'MSURF',\n",
       " 'akaze_descriptor_size': 0,\n",
       " 'akaze_descriptor_channels': 3,\n",
       " 'akaze_kcontrast_percentile': 0.7,\n",
       " 'akaze_use_isotropic_diffusion': False,\n",
       " 'hahog_peak_threshold': 1e-05,\n",
       " 'hahog_edge_threshold': 10,\n",
       " 'hahog_normalize_to_uchar': True,\n",
       " 'lowes_ratio': 0.8,\n",
       " 'matcher_type': 'FLANN',\n",
       " 'symmetric_matching': True,\n",
       " 'flann_algorithm': 'KMEANS',\n",
       " 'flann_branching': 8,\n",
       " 'flann_iterations': 10,\n",
       " 'flann_tree': 8,\n",
       " 'flann_checks': 20,\n",
       " 'bow_file': 'bow_hahog_root_uchar_10000.npz',\n",
       " 'bow_words_to_match': 50,\n",
       " 'bow_num_checks': 20,\n",
       " 'bow_matcher_type': 'FLANN',\n",
       " 'vlad_file': 'bow_hahog_root_uchar_64.npz',\n",
       " 'matching_gps_distance': 150,\n",
       " 'matching_gps_neighbors': 0,\n",
       " 'matching_time_neighbors': 0,\n",
       " 'matching_order_neighbors': 0,\n",
       " 'matching_bow_neighbors': 0,\n",
       " 'matching_bow_gps_distance': 0,\n",
       " 'matching_bow_gps_neighbors': 0,\n",
       " 'matching_bow_other_cameras': False,\n",
       " 'matching_vlad_neighbors': 0,\n",
       " 'matching_vlad_gps_distance': 0,\n",
       " 'matching_vlad_gps_neighbors': 0,\n",
       " 'matching_vlad_other_cameras': False,\n",
       " 'matching_use_filters': False,\n",
       " 'robust_matching_threshold': 0.004,\n",
       " 'robust_matching_calib_threshold': 0.004,\n",
       " 'robust_matching_min_match': 20,\n",
       " 'five_point_algo_threshold': 0.004,\n",
       " 'five_point_algo_min_inliers': 20,\n",
       " 'five_point_refine_match_iterations': 10,\n",
       " 'five_point_refine_rec_iterations': 1000,\n",
       " 'triangulation_threshold': 0.006,\n",
       " 'triangulation_min_ray_angle': 1.0,\n",
       " 'triangulation_type': 'FULL',\n",
       " 'resection_threshold': 0.004,\n",
       " 'resection_min_inliers': 10,\n",
       " 'min_track_length': 2,\n",
       " 'loss_function': 'SoftLOneLoss',\n",
       " 'loss_function_threshold': 1,\n",
       " 'reprojection_error_sd': 0.004,\n",
       " 'exif_focal_sd': 0.01,\n",
       " 'principal_point_sd': 0.01,\n",
       " 'radial_distorsion_k1_sd': 0.01,\n",
       " 'radial_distorsion_k2_sd': 0.01,\n",
       " 'radial_distorsion_k3_sd': 0.01,\n",
       " 'radial_distorsion_p1_sd': 0.01,\n",
       " 'radial_distorsion_p2_sd': 0.01,\n",
       " 'bundle_outlier_filtering_type': 'FIXED',\n",
       " 'bundle_outlier_auto_ratio': 3.0,\n",
       " 'bundle_outlier_fixed_threshold': 0.006,\n",
       " 'optimize_camera_parameters': True,\n",
       " 'bundle_max_iterations': 100,\n",
       " 'retriangulation': True,\n",
       " 'retriangulation_ratio': 1.2,\n",
       " 'bundle_analytic_derivatives': True,\n",
       " 'bundle_interval': 999999,\n",
       " 'bundle_new_points_ratio': 1.2,\n",
       " 'local_bundle_radius': 3,\n",
       " 'local_bundle_min_common_points': 20,\n",
       " 'local_bundle_max_shots': 30,\n",
       " 'save_partial_reconstructions': False,\n",
       " 'use_altitude_tag': False,\n",
       " 'align_method': 'orientation_prior',\n",
       " 'align_orientation_prior': 'horizontal',\n",
       " 'bundle_use_gps': True,\n",
       " 'bundle_use_gcp': False,\n",
       " 'nav_min_distance': 0.01,\n",
       " 'nav_step_pref_distance': 6,\n",
       " 'nav_step_max_distance': 20,\n",
       " 'nav_turn_max_distance': 15,\n",
       " 'nav_step_forward_view_threshold': 15,\n",
       " 'nav_step_view_threshold': 30,\n",
       " 'nav_step_drift_threshold': 36,\n",
       " 'nav_turn_view_threshold': 40,\n",
       " 'nav_vertical_threshold': 20,\n",
       " 'nav_rotation_threshold': 30,\n",
       " 'undistorted_image_format': 'jpg',\n",
       " 'undistorted_image_max_size': 100000,\n",
       " 'depthmap_method': 'PATCH_MATCH_SAMPLE',\n",
       " 'depthmap_resolution': 640,\n",
       " 'depthmap_num_neighbors': 10,\n",
       " 'depthmap_num_matching_views': 6,\n",
       " 'depthmap_min_depth': 0,\n",
       " 'depthmap_max_depth': 0,\n",
       " 'depthmap_patchmatch_iterations': 3,\n",
       " 'depthmap_patch_size': 7,\n",
       " 'depthmap_min_patch_sd': 1.0,\n",
       " 'depthmap_min_correlation_score': 0.1,\n",
       " 'depthmap_same_depth_threshold': 0.01,\n",
       " 'depthmap_min_consistent_views': 3,\n",
       " 'depthmap_save_debug_files': False,\n",
       " 'processes': 1,\n",
       " 'submodel_size': 80,\n",
       " 'submodel_overlap': 30.0,\n",
       " 'submodels_relpath': 'submodels',\n",
       " 'submodel_relpath_template': 'submodels/submodel_%04d',\n",
       " 'submodel_images_relpath_template': 'submodels/submodel_%04d/images'}"
      ]
     },
     "execution_count": 5,
     "metadata": {},
     "output_type": "execute_result"
    }
   ],
   "source": [
    "data.config"
   ]
  },
  {
   "cell_type": "markdown",
   "metadata": {},
   "source": [
    "# focal length"
   ]
  },
  {
   "cell_type": "code",
   "execution_count": 129,
   "metadata": {},
   "outputs": [
    {
     "data": {
      "text/plain": [
       "1350.0000000923687"
      ]
     },
     "execution_count": 129,
     "metadata": {},
     "output_type": "execute_result"
    }
   ],
   "source": [
    "(1080 / 2) / (math.tan(math.pi*43.60281897/360.0))"
   ]
  },
  {
   "cell_type": "code",
   "execution_count": 122,
   "metadata": {},
   "outputs": [
    {
     "data": {
      "text/plain": [
       "35.99983029809857"
      ]
     },
     "execution_count": 122,
     "metadata": {},
     "output_type": "execute_result"
    }
   ],
   "source": [
    "2*(30*math.tan(0.5*61.92751306/57.296))"
   ]
  },
  {
   "cell_type": "code",
   "execution_count": 267,
   "metadata": {},
   "outputs": [
    {
     "data": {
      "text/plain": [
       "1984.5333333333333"
      ]
     },
     "execution_count": 267,
     "metadata": {},
     "output_type": "execute_result"
    }
   ],
   "source": [
    "37.21 * 1920 / 36"
   ]
  },
  {
   "cell_type": "code",
   "execution_count": null,
   "metadata": {},
   "outputs": [],
   "source": [
    "f_px = f__mm * image_width / sensor_width"
   ]
  },
  {
   "cell_type": "code",
   "execution_count": 240,
   "metadata": {},
   "outputs": [
    {
     "data": {
      "text/plain": [
       "108.44444444444444"
      ]
     },
     "execution_count": 240,
     "metadata": {},
     "output_type": "execute_result"
    }
   ],
   "source": [
    "61 * 16/9"
   ]
  },
  {
   "cell_type": "code",
   "execution_count": 239,
   "metadata": {},
   "outputs": [
    {
     "data": {
      "text/plain": [
       "33.795300000000005"
      ]
     },
     "execution_count": 239,
     "metadata": {},
     "output_type": "execute_result"
    }
   ],
   "source": [
    "3.99*(8.47)"
   ]
  },
  {
   "cell_type": "code",
   "execution_count": 238,
   "metadata": {},
   "outputs": [
    {
     "data": {
      "text/plain": [
       "1802.4160000000002"
      ]
     },
     "execution_count": 238,
     "metadata": {},
     "output_type": "execute_result"
    }
   ],
   "source": [
    "# f_mm to f_px\n",
    "3.99*(8.47)/36 * 1920"
   ]
  },
  {
   "cell_type": "code",
   "execution_count": 237,
   "metadata": {},
   "outputs": [
    {
     "data": {
      "text/plain": [
       "8.470588235294118"
      ]
     },
     "execution_count": 237,
     "metadata": {},
     "output_type": "execute_result"
    }
   ],
   "source": [
    "# ratio of sensor widths\n",
    "36/4.25"
   ]
  }
 ],
 "metadata": {
  "kernelspec": {
   "display_name": "Python 3",
   "language": "python",
   "name": "python3"
  },
  "language_info": {
   "codemirror_mode": {
    "name": "ipython",
    "version": 3
   },
   "file_extension": ".py",
   "mimetype": "text/x-python",
   "name": "python",
   "nbconvert_exporter": "python",
   "pygments_lexer": "ipython3",
   "version": "3.8.0"
  }
 },
 "nbformat": 4,
 "nbformat_minor": 4
}
