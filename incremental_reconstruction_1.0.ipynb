{
 "cells": [
  {
   "cell_type": "code",
   "execution_count": 1,
   "metadata": {},
   "outputs": [],
   "source": [
    "import opensfm.reconstruction as rec\n",
    "from opensfm import dataset\n",
    "from opensfm import pysfm\n",
    "from opensfm import tracking\n",
    "\n",
    "import logging\n",
    "from timeit import default_timer as timer\n",
    "import numpy as np\n",
    "import math\n",
    "import time\n",
    "\n",
    "logger = logging.getLogger(__name__)"
   ]
  },
  {
   "cell_type": "code",
   "execution_count": 2,
   "metadata": {},
   "outputs": [],
   "source": [
    "def incremental_reconstruction(data, tracks_manager, foc_len):\n",
    "    \"\"\"Run the entire incremental reconstruction pipeline.\"\"\"\n",
    "    logger.info(\"Starting incremental reconstruction\")\n",
    "    report = {}\n",
    "    chrono = rec.Chronometer()\n",
    "\n",
    "    images = tracks_manager.get_shot_ids()\n",
    "    \n",
    "    if not data.reference_lla_exists():\n",
    "        data.invent_reference_lla(images)\n",
    "\n",
    "    remaining_images = set(images)\n",
    "    camera_priors = data.load_camera_models()\n",
    "    for i in camera_priors.keys():\n",
    "        camera_priors[i].focal = foc_len\n",
    "    gcp = data.load_ground_control_points()\n",
    "    common_tracks = tracking.all_common_tracks(tracks_manager)\n",
    "    reconstructions = []\n",
    "    pairs = rec.compute_image_pairs(common_tracks, camera_priors, data)\n",
    "    chrono.lap('compute_image_pairs')\n",
    "    report['num_candidate_image_pairs'] = len(pairs)\n",
    "    report['reconstructions'] = []\n",
    "    \n",
    "    t0 = time.time()\n",
    "    \n",
    "    for im1, im2 in pairs:\n",
    "        if im1 in remaining_images and im2 in remaining_images:\n",
    "            \"Running boostrap and BA\"\n",
    "            rec_report = {}\n",
    "            report['reconstructions'].append(rec_report)\n",
    "            _, p1, p2 = common_tracks[im1, im2]\n",
    "            reconstruction, graph_inliers, rec_report['bootstrap'] = rec.bootstrap_reconstruction(\n",
    "                data, tracks_manager, camera_priors, im1, im2, p1, p2)\n",
    "\n",
    "            if reconstruction:\n",
    "                remaining_images.remove(im1)\n",
    "                remaining_images.remove(im2)\n",
    "                reconstruction, rec_report['grow'] = rec.grow_reconstruction(\n",
    "                    data, tracks_manager, graph_inliers, reconstruction, remaining_images, camera_priors, gcp)\n",
    "                reconstructions.append(reconstruction)\n",
    "                reconstructions = sorted(reconstructions,\n",
    "                                         key=lambda x: -len(x.shots))\n",
    "                rec_report['stats'] = rec.compute_statistics(reconstruction, graph_inliers)\n",
    "                logger.info(rec_report['stats'])\n",
    "                \n",
    "    t1 = time.time()\n",
    "    \n",
    "    print(\"time: \", t1-t0)\n",
    "\n",
    "    for k, r in enumerate(reconstructions):\n",
    "        logger.info(\"Reconstruction {}: {} images, {} points\".format(\n",
    "            k, len(r.shots), len(r.points)))\n",
    "    logger.info(\"{} partial reconstructions in total.\".format(\n",
    "        len(reconstructions)))\n",
    "    chrono.lap('compute_reconstructions')\n",
    "    report['wall_times'] = dict(chrono.lap_times())\n",
    "    report['not_reconstructed_images'] = list(remaining_images)\n",
    "    return report, reconstructions"
   ]
  },
  {
   "cell_type": "code",
   "execution_count": 43,
   "metadata": {},
   "outputs": [],
   "source": [
    "data = dataset.DataSet('data/iphone11pro_wide_office_30_parallax')\n",
    "tracks_manager = data.load_tracks_manager()\n",
    "\n",
    "# tracks_manager = pysfm.TracksManager.instanciate_from_file('/Users/jarrodhaas/torus-fast-track-dependencies/OpenSfM/data/gopro8_grass/tracks.csv')"
   ]
  },
  {
   "cell_type": "code",
   "execution_count": 42,
   "metadata": {
    "scrolled": true
   },
   "outputs": [
    {
     "name": "stderr",
     "output_type": "stream",
     "text": [
      "2020-08-04 13:58:32,872 INFO: Starting incremental reconstruction\n",
      "2020-08-04 13:58:36,167 INFO: Starting reconstruction with 0208.png and 0225.png\n",
      "2020-08-04 13:58:36,203 INFO: Two-view reconstruction inliers: 1354 / 1384\n",
      "2020-08-04 13:58:36,340 INFO: Triangulated: 1364\n",
      "2020-08-04 13:58:36,359 DEBUG: Ceres Solver Report: Iterations: 5, Initial cost: 1.275642e+02, Final cost: 1.230574e+02, Termination: CONVERGENCE\n",
      "2020-08-04 13:58:36,547 DEBUG: Ceres Solver Report: Iterations: 4, Initial cost: 1.238982e+02, Final cost: 1.215318e+02, Termination: CONVERGENCE\n",
      "2020-08-04 13:58:36,655 DEBUG: Ceres Solver Report: Iterations: 17, Initial cost: 2.446647e+02, Final cost: 2.200588e+02, Termination: CONVERGENCE\n",
      "2020-08-04 13:58:36,659 INFO: Removed outliers: 2\n",
      "2020-08-04 13:58:36,666 INFO: -------------------------------------------------------\n",
      "2020-08-04 13:58:36,685 INFO: 0224.png resection inliers: 1187 / 1205\n",
      "2020-08-04 13:58:36,714 DEBUG: Ceres Solver Report: Iterations: 4, Initial cost: 2.336271e+02, Final cost: 1.394991e+02, Termination: CONVERGENCE\n",
      "2020-08-04 13:58:36,715 INFO: Adding 0224.png to the reconstruction\n",
      "2020-08-04 13:58:36,813 INFO: Re-triangulating\n",
      "2020-08-04 13:58:37,035 DEBUG: Ceres Solver Report: Iterations: 15, Initial cost: 4.626490e+02, Final cost: 3.775036e+02, Termination: CONVERGENCE\n",
      "2020-08-04 13:58:37,504 DEBUG: Ceres Solver Report: Iterations: 18, Initial cost: 4.037365e+02, Final cost: 3.849765e+02, Termination: CONVERGENCE\n",
      "2020-08-04 13:58:37,514 INFO: Removed outliers: 2\n",
      "2020-08-04 13:58:37,523 INFO: -------------------------------------------------------\n",
      "2020-08-04 13:58:37,554 INFO: 0220.png resection inliers: 1464 / 1782\n",
      "2020-08-04 13:58:37,597 DEBUG: Ceres Solver Report: Iterations: 7, Initial cost: 6.240185e+02, Final cost: 6.001634e+02, Termination: CONVERGENCE\n",
      "2020-08-04 13:58:37,599 INFO: Adding 0220.png to the reconstruction\n",
      "2020-08-04 13:58:37,656 INFO: Re-triangulating\n",
      "2020-08-04 13:58:37,980 DEBUG: Ceres Solver Report: Iterations: 18, Initial cost: 1.244281e+03, Final cost: 8.615401e+02, Termination: CONVERGENCE\n",
      "2020-08-04 13:58:38,685 DEBUG: Ceres Solver Report: Iterations: 21, Initial cost: 1.061112e+03, Final cost: 1.011294e+03, Termination: CONVERGENCE\n",
      "2020-08-04 13:58:38,700 INFO: Removed outliers: 3\n",
      "2020-08-04 13:58:38,707 INFO: -------------------------------------------------------\n",
      "2020-08-04 13:58:38,737 INFO: 0218.png resection inliers: 1932 / 2060\n",
      "2020-08-04 13:58:38,783 DEBUG: Ceres Solver Report: Iterations: 5, Initial cost: 6.581780e+02, Final cost: 5.543885e+02, Termination: CONVERGENCE\n",
      "2020-08-04 13:58:38,785 INFO: Adding 0218.png to the reconstruction\n",
      "2020-08-04 13:58:38,840 INFO: Re-triangulating\n",
      "2020-08-04 13:58:39,228 DEBUG: Ceres Solver Report: Iterations: 14, Initial cost: 1.525653e+03, Final cost: 1.353125e+03, Termination: CONVERGENCE\n",
      "2020-08-04 13:58:39,997 DEBUG: Ceres Solver Report: Iterations: 18, Initial cost: 1.465109e+03, Final cost: 1.424382e+03, Termination: CONVERGENCE\n",
      "2020-08-04 13:58:40,015 INFO: Removed outliers: 0\n",
      "2020-08-04 13:58:40,023 INFO: -------------------------------------------------------\n",
      "2020-08-04 13:58:40,058 INFO: 0215.png resection inliers: 2036 / 2113\n",
      "2020-08-04 13:58:40,108 DEBUG: Ceres Solver Report: Iterations: 5, Initial cost: 6.365810e+02, Final cost: 5.818260e+02, Termination: CONVERGENCE\n",
      "2020-08-04 13:58:40,110 INFO: Adding 0215.png to the reconstruction\n",
      "2020-08-04 13:58:40,171 DEBUG: Local bundle sets: interior 6  boundary 0  other 0\n",
      "2020-08-04 13:58:40,539 DEBUG: Ceres Solver Report: Iterations: 11, Initial cost: 1.887575e+03, Final cost: 1.769582e+03, Termination: NO_CONVERGENCE\n",
      "2020-08-04 13:58:40,566 INFO: Removed outliers: 1\n",
      "2020-08-04 13:58:40,574 INFO: -------------------------------------------------------\n",
      "2020-08-04 13:58:40,609 INFO: 0212.png resection inliers: 2197 / 2296\n",
      "2020-08-04 13:58:40,659 DEBUG: Ceres Solver Report: Iterations: 4, Initial cost: 5.948208e+02, Final cost: 5.617385e+02, Termination: CONVERGENCE\n",
      "2020-08-04 13:58:40,661 INFO: Adding 0212.png to the reconstruction\n",
      "2020-08-04 13:58:40,708 INFO: Re-triangulating\n",
      "2020-08-04 13:58:41,375 DEBUG: Ceres Solver Report: Iterations: 14, Initial cost: 2.210667e+03, Final cost: 2.090677e+03, Termination: CONVERGENCE\n",
      "2020-08-04 13:58:42,594 DEBUG: Ceres Solver Report: Iterations: 17, Initial cost: 2.220782e+03, Final cost: 2.163053e+03, Termination: CONVERGENCE\n",
      "2020-08-04 13:58:42,625 INFO: Removed outliers: 6\n",
      "2020-08-04 13:58:42,632 INFO: -------------------------------------------------------\n",
      "2020-08-04 13:58:42,666 INFO: 0205.png resection inliers: 1805 / 2008\n",
      "2020-08-04 13:58:42,714 DEBUG: Ceres Solver Report: Iterations: 5, Initial cost: 8.637477e+02, Final cost: 8.100199e+02, Termination: CONVERGENCE\n",
      "2020-08-04 13:58:42,715 INFO: Adding 0205.png to the reconstruction\n",
      "2020-08-04 13:58:42,783 DEBUG: Local bundle sets: interior 8  boundary 0  other 0\n",
      "2020-08-04 13:58:43,285 DEBUG: Ceres Solver Report: Iterations: 10, Initial cost: 2.686470e+03, Final cost: 2.505219e+03, Termination: CONVERGENCE\n",
      "2020-08-04 13:58:43,323 INFO: Removed outliers: 2\n",
      "2020-08-04 13:58:43,332 INFO: -------------------------------------------------------\n",
      "2020-08-04 13:58:43,369 INFO: 0204.png resection inliers: 2111 / 2321\n",
      "2020-08-04 13:58:43,422 DEBUG: Ceres Solver Report: Iterations: 5, Initial cost: 8.752653e+02, Final cost: 7.100458e+02, Termination: CONVERGENCE\n",
      "2020-08-04 13:58:43,423 INFO: Adding 0204.png to the reconstruction\n",
      "2020-08-04 13:58:43,481 DEBUG: Local bundle sets: interior 9  boundary 0  other 0\n",
      "2020-08-04 13:58:44,065 DEBUG: Ceres Solver Report: Iterations: 11, Initial cost: 2.964934e+03, Final cost: 2.845124e+03, Termination: NO_CONVERGENCE\n",
      "2020-08-04 13:58:44,106 INFO: Removed outliers: 6\n",
      "2020-08-04 13:58:44,113 INFO: -------------------------------------------------------\n",
      "2020-08-04 13:58:44,151 INFO: 0202.png resection inliers: 1999 / 2235\n",
      "2020-08-04 13:58:44,199 DEBUG: Ceres Solver Report: Iterations: 5, Initial cost: 8.074616e+02, Final cost: 7.690292e+02, Termination: CONVERGENCE\n",
      "2020-08-04 13:58:44,200 INFO: Adding 0202.png to the reconstruction\n",
      "2020-08-04 13:58:44,247 INFO: Re-triangulating\n",
      "2020-08-04 13:58:45,313 DEBUG: Ceres Solver Report: Iterations: 17, Initial cost: 3.413491e+03, Final cost: 3.214148e+03, Termination: CONVERGENCE\n",
      "2020-08-04 13:58:47,078 DEBUG: Ceres Solver Report: Iterations: 17, Initial cost: 3.590941e+03, Final cost: 3.476298e+03, Termination: CONVERGENCE\n",
      "2020-08-04 13:58:47,122 INFO: Removed outliers: 8\n",
      "2020-08-04 13:58:47,128 INFO: -------------------------------------------------------\n",
      "2020-08-04 13:58:47,161 INFO: 0198.png resection inliers: 1865 / 2085\n",
      "2020-08-04 13:58:47,208 DEBUG: Ceres Solver Report: Iterations: 5, Initial cost: 9.891785e+02, Final cost: 9.407873e+02, Termination: CONVERGENCE\n",
      "2020-08-04 13:58:47,209 INFO: Adding 0198.png to the reconstruction\n",
      "2020-08-04 13:58:47,271 DEBUG: Local bundle sets: interior 11  boundary 0  other 0\n",
      "2020-08-04 13:58:47,961 DEBUG: Ceres Solver Report: Iterations: 10, Initial cost: 3.941351e+03, Final cost: 3.791652e+03, Termination: CONVERGENCE\n",
      "2020-08-04 13:58:48,010 INFO: Removed outliers: 2\n",
      "2020-08-04 13:58:48,017 INFO: -------------------------------------------------------\n",
      "2020-08-04 13:58:48,051 INFO: 0194.png resection inliers: 1765 / 2057\n",
      "2020-08-04 13:58:48,097 DEBUG: Ceres Solver Report: Iterations: 5, Initial cost: 9.640485e+02, Final cost: 9.432135e+02, Termination: CONVERGENCE\n",
      "2020-08-04 13:58:48,098 INFO: Adding 0194.png to the reconstruction\n",
      "2020-08-04 13:58:48,170 DEBUG: Local bundle sets: interior 12  boundary 0  other 0\n",
      "2020-08-04 13:58:48,963 DEBUG: Ceres Solver Report: Iterations: 10, Initial cost: 4.324688e+03, Final cost: 4.170667e+03, Termination: CONVERGENCE\n",
      "2020-08-04 13:58:49,017 INFO: Removed outliers: 3\n",
      "2020-08-04 13:58:49,024 INFO: -------------------------------------------------------\n",
      "2020-08-04 13:58:49,061 INFO: 0191.png resection inliers: 1768 / 2079\n",
      "2020-08-04 13:58:49,105 DEBUG: Ceres Solver Report: Iterations: 5, Initial cost: 1.067333e+03, Final cost: 1.004299e+03, Termination: CONVERGENCE\n",
      "2020-08-04 13:58:49,107 INFO: Adding 0191.png to the reconstruction\n",
      "2020-08-04 13:58:49,153 INFO: Re-triangulating\n"
     ]
    },
    {
     "name": "stderr",
     "output_type": "stream",
     "text": [
      "2020-08-04 13:58:50,403 DEBUG: Ceres Solver Report: Iterations: 14, Initial cost: 4.794066e+03, Final cost: 4.554298e+03, Termination: CONVERGENCE\n",
      "2020-08-04 13:58:52,690 DEBUG: Ceres Solver Report: Iterations: 17, Initial cost: 4.914976e+03, Final cost: 4.758110e+03, Termination: CONVERGENCE\n",
      "2020-08-04 13:58:52,743 INFO: Removed outliers: 10\n",
      "2020-08-04 13:58:52,750 INFO: -------------------------------------------------------\n",
      "2020-08-04 13:58:52,778 INFO: 0189.png resection inliers: 1688 / 1906\n",
      "2020-08-04 13:58:52,821 DEBUG: Ceres Solver Report: Iterations: 6, Initial cost: 1.105129e+03, Final cost: 1.052303e+03, Termination: CONVERGENCE\n",
      "2020-08-04 13:58:52,822 INFO: Adding 0189.png to the reconstruction\n",
      "2020-08-04 13:58:52,894 DEBUG: Local bundle sets: interior 14  boundary 0  other 0\n",
      "2020-08-04 13:58:53,806 DEBUG: Ceres Solver Report: Iterations: 11, Initial cost: 5.227726e+03, Final cost: 5.090088e+03, Termination: NO_CONVERGENCE\n",
      "2020-08-04 13:58:53,868 INFO: Removed outliers: 4\n",
      "2020-08-04 13:58:53,875 INFO: -------------------------------------------------------\n",
      "2020-08-04 13:58:53,905 INFO: 0186.png resection inliers: 1617 / 1952\n",
      "2020-08-04 13:58:53,949 DEBUG: Ceres Solver Report: Iterations: 6, Initial cost: 1.204434e+03, Final cost: 1.094174e+03, Termination: CONVERGENCE\n",
      "2020-08-04 13:58:53,950 INFO: Adding 0186.png to the reconstruction\n",
      "2020-08-04 13:58:54,022 DEBUG: Local bundle sets: interior 15  boundary 0  other 0\n",
      "2020-08-04 13:58:55,016 DEBUG: Ceres Solver Report: Iterations: 11, Initial cost: 5.656801e+03, Final cost: 5.524567e+03, Termination: NO_CONVERGENCE\n",
      "2020-08-04 13:58:55,084 INFO: Removed outliers: 3\n",
      "2020-08-04 13:58:55,090 INFO: -------------------------------------------------------\n",
      "2020-08-04 13:58:55,120 INFO: 0183.png resection inliers: 1420 / 1881\n",
      "2020-08-04 13:58:55,158 DEBUG: Ceres Solver Report: Iterations: 6, Initial cost: 1.160202e+03, Final cost: 1.125656e+03, Termination: CONVERGENCE\n",
      "2020-08-04 13:58:55,159 INFO: Adding 0183.png to the reconstruction\n",
      "2020-08-04 13:58:55,233 DEBUG: Local bundle sets: interior 16  boundary 0  other 0\n",
      "2020-08-04 13:58:56,198 DEBUG: Ceres Solver Report: Iterations: 9, Initial cost: 6.135479e+03, Final cost: 5.995319e+03, Termination: CONVERGENCE\n",
      "2020-08-04 13:58:56,272 INFO: Removed outliers: 1\n",
      "2020-08-04 13:58:56,278 INFO: -------------------------------------------------------\n",
      "2020-08-04 13:58:56,307 INFO: 0180.png resection inliers: 1166 / 1790\n",
      "2020-08-04 13:58:56,341 DEBUG: Ceres Solver Report: Iterations: 6, Initial cost: 1.065368e+03, Final cost: 1.038723e+03, Termination: CONVERGENCE\n",
      "2020-08-04 13:58:56,342 INFO: Adding 0180.png to the reconstruction\n",
      "2020-08-04 13:58:56,416 DEBUG: Local bundle sets: interior 17  boundary 0  other 0\n",
      "2020-08-04 13:58:57,461 DEBUG: Ceres Solver Report: Iterations: 10, Initial cost: 6.551184e+03, Final cost: 6.430901e+03, Termination: CONVERGENCE\n",
      "2020-08-04 13:58:57,533 INFO: Removed outliers: 2\n",
      "2020-08-04 13:58:57,539 INFO: -------------------------------------------------------\n",
      "2020-08-04 13:58:57,572 INFO: 0177.png resection inliers: 922 / 1742\n",
      "2020-08-04 13:58:57,599 DEBUG: Ceres Solver Report: Iterations: 6, Initial cost: 1.000764e+03, Final cost: 9.677503e+02, Termination: CONVERGENCE\n",
      "2020-08-04 13:58:57,600 INFO: Adding 0177.png to the reconstruction\n",
      "2020-08-04 13:58:57,676 DEBUG: Local bundle sets: interior 18  boundary 0  other 0\n",
      "2020-08-04 13:58:58,815 DEBUG: Ceres Solver Report: Iterations: 11, Initial cost: 6.917604e+03, Final cost: 6.792824e+03, Termination: NO_CONVERGENCE\n",
      "2020-08-04 13:58:58,894 INFO: Removed outliers: 2\n",
      "2020-08-04 13:58:58,900 INFO: -------------------------------------------------------\n",
      "2020-08-04 13:58:58,938 INFO: 0175.png resection inliers: 832 / 1813\n",
      "2020-08-04 13:58:58,963 DEBUG: Ceres Solver Report: Iterations: 6, Initial cost: 9.946993e+02, Final cost: 9.493281e+02, Termination: CONVERGENCE\n",
      "2020-08-04 13:58:58,964 INFO: Adding 0175.png to the reconstruction\n",
      "2020-08-04 13:58:59,019 INFO: Re-triangulating\n",
      "2020-08-04 13:59:00,924 DEBUG: Ceres Solver Report: Iterations: 17, Initial cost: 7.279075e+03, Final cost: 6.862941e+03, Termination: CONVERGENCE\n",
      "2020-08-04 13:59:03,985 DEBUG: Ceres Solver Report: Iterations: 19, Initial cost: 8.034923e+03, Final cost: 7.293479e+03, Termination: CONVERGENCE\n",
      "2020-08-04 13:59:04,054 INFO: Removed outliers: 54\n",
      "2020-08-04 13:59:04,060 INFO: -------------------------------------------------------\n",
      "2020-08-04 13:59:04,087 INFO: 0231.png resection inliers: 961 / 1677\n",
      "2020-08-04 13:59:04,114 DEBUG: Ceres Solver Report: Iterations: 6, Initial cost: 1.128846e+03, Final cost: 1.078624e+03, Termination: CONVERGENCE\n",
      "2020-08-04 13:59:04,115 INFO: Adding 0231.png to the reconstruction\n",
      "2020-08-04 13:59:04,184 DEBUG: Local bundle sets: interior 20  boundary 0  other 0\n",
      "2020-08-04 13:59:05,321 DEBUG: Ceres Solver Report: Iterations: 11, Initial cost: 7.547739e+03, Final cost: 7.443311e+03, Termination: NO_CONVERGENCE\n",
      "2020-08-04 13:59:05,395 INFO: Removed outliers: 14\n",
      "2020-08-04 13:59:05,401 INFO: -------------------------------------------------------\n",
      "2020-08-04 13:59:05,426 INFO: 0173.png resection inliers: 941 / 1459\n",
      "2020-08-04 13:59:05,455 DEBUG: Ceres Solver Report: Iterations: 6, Initial cost: 1.172471e+03, Final cost: 1.127514e+03, Termination: CONVERGENCE\n",
      "2020-08-04 13:59:05,456 INFO: Adding 0173.png to the reconstruction\n",
      "2020-08-04 13:59:05,583 DEBUG: Local bundle sets: interior 21  boundary 0  other 0\n",
      "2020-08-04 13:59:06,778 DEBUG: Ceres Solver Report: Iterations: 11, Initial cost: 7.891730e+03, Final cost: 7.782788e+03, Termination: NO_CONVERGENCE\n",
      "2020-08-04 13:59:06,857 INFO: Removed outliers: 3\n",
      "2020-08-04 13:59:06,863 INFO: -------------------------------------------------------\n",
      "2020-08-04 13:59:06,892 INFO: 0171.png resection inliers: 929 / 1507\n",
      "2020-08-04 13:59:06,920 DEBUG: Ceres Solver Report: Iterations: 6, Initial cost: 1.141335e+03, Final cost: 1.118461e+03, Termination: CONVERGENCE\n",
      "2020-08-04 13:59:06,921 INFO: Adding 0171.png to the reconstruction\n",
      "2020-08-04 13:59:07,041 DEBUG: Local bundle sets: interior 22  boundary 0  other 0\n",
      "2020-08-04 13:59:08,172 DEBUG: Ceres Solver Report: Iterations: 9, Initial cost: 8.173822e+03, Final cost: 8.098431e+03, Termination: CONVERGENCE\n",
      "2020-08-04 13:59:08,254 INFO: Removed outliers: 1\n",
      "2020-08-04 13:59:08,260 INFO: -------------------------------------------------------\n",
      "2020-08-04 13:59:08,289 INFO: 0168.png resection inliers: 665 / 1475\n",
      "2020-08-04 13:59:08,310 DEBUG: Ceres Solver Report: Iterations: 6, Initial cost: 1.064450e+03, Final cost: 1.037552e+03, Termination: CONVERGENCE\n",
      "2020-08-04 13:59:08,311 INFO: Adding 0168.png to the reconstruction\n",
      "2020-08-04 13:59:08,436 DEBUG: Local bundle sets: interior 23  boundary 0  other 0\n",
      "2020-08-04 13:59:09,711 DEBUG: Ceres Solver Report: Iterations: 11, Initial cost: 8.602017e+03, Final cost: 8.505983e+03, Termination: NO_CONVERGENCE\n",
      "2020-08-04 13:59:09,801 INFO: Removed outliers: 2\n",
      "2020-08-04 13:59:09,806 INFO: -------------------------------------------------------\n",
      "2020-08-04 13:59:09,842 INFO: 0164.png resection inliers: 587 / 1421\n",
      "2020-08-04 13:59:09,862 DEBUG: Ceres Solver Report: Iterations: 7, Initial cost: 1.120321e+03, Final cost: 1.106897e+03, Termination: CONVERGENCE\n",
      "2020-08-04 13:59:09,863 INFO: Adding 0164.png to the reconstruction\n",
      "2020-08-04 13:59:09,990 DEBUG: Local bundle sets: interior 24  boundary 0  other 0\n",
      "2020-08-04 13:59:11,297 DEBUG: Ceres Solver Report: Iterations: 11, Initial cost: 9.000000e+03, Final cost: 8.881537e+03, Termination: NO_CONVERGENCE\n",
      "2020-08-04 13:59:11,388 INFO: Removed outliers: 7\n",
      "2020-08-04 13:59:11,393 INFO: -------------------------------------------------------\n",
      "2020-08-04 13:59:11,426 INFO: 0165.png resection inliers: 766 / 1467\n",
      "2020-08-04 13:59:11,449 DEBUG: Ceres Solver Report: Iterations: 5, Initial cost: 1.156073e+03, Final cost: 1.140546e+03, Termination: CONVERGENCE\n",
      "2020-08-04 13:59:11,449 INFO: Adding 0165.png to the reconstruction\n",
      "2020-08-04 13:59:11,583 DEBUG: Local bundle sets: interior 25  boundary 0  other 0\n",
      "2020-08-04 13:59:12,886 DEBUG: Ceres Solver Report: Iterations: 11, Initial cost: 9.262409e+03, Final cost: 9.163462e+03, Termination: NO_CONVERGENCE\n"
     ]
    },
    {
     "name": "stderr",
     "output_type": "stream",
     "text": [
      "2020-08-04 13:59:12,974 INFO: Removed outliers: 1\n",
      "2020-08-04 13:59:12,979 INFO: -------------------------------------------------------\n",
      "2020-08-04 13:59:13,011 INFO: 0162.png resection inliers: 653 / 1459\n",
      "2020-08-04 13:59:13,033 DEBUG: Ceres Solver Report: Iterations: 5, Initial cost: 1.140525e+03, Final cost: 1.116023e+03, Termination: CONVERGENCE\n",
      "2020-08-04 13:59:13,034 INFO: Adding 0162.png to the reconstruction\n",
      "2020-08-04 13:59:13,173 DEBUG: Local bundle sets: interior 26  boundary 0  other 0\n",
      "2020-08-04 13:59:14,526 DEBUG: Ceres Solver Report: Iterations: 11, Initial cost: 9.572059e+03, Final cost: 9.477768e+03, Termination: NO_CONVERGENCE\n",
      "2020-08-04 13:59:14,617 INFO: Removed outliers: 4\n",
      "2020-08-04 13:59:14,622 INFO: -------------------------------------------------------\n",
      "2020-08-04 13:59:14,655 INFO: 0159.png resection inliers: 599 / 1372\n",
      "2020-08-04 13:59:14,671 DEBUG: Ceres Solver Report: Iterations: 6, Initial cost: 1.104125e+03, Final cost: 1.079796e+03, Termination: CONVERGENCE\n",
      "2020-08-04 13:59:14,672 INFO: Adding 0159.png to the reconstruction\n",
      "2020-08-04 13:59:14,781 INFO: Re-triangulating\n",
      "2020-08-04 13:59:16,803 DEBUG: Ceres Solver Report: Iterations: 14, Initial cost: 1.001395e+04, Final cost: 9.550663e+03, Termination: CONVERGENCE\n",
      "2020-08-04 13:59:20,244 DEBUG: Ceres Solver Report: Iterations: 17, Initial cost: 1.114536e+04, Final cost: 1.017528e+04, Termination: CONVERGENCE\n",
      "2020-08-04 13:59:20,318 INFO: Removed outliers: 43\n",
      "2020-08-04 13:59:20,323 INFO: -------------------------------------------------------\n",
      "2020-08-04 13:59:20,344 INFO: 0156.png resection inliers: 750 / 954\n",
      "2020-08-04 13:59:20,366 DEBUG: Ceres Solver Report: Iterations: 5, Initial cost: 1.354983e+03, Final cost: 1.344694e+03, Termination: CONVERGENCE\n",
      "2020-08-04 13:59:20,367 INFO: Adding 0156.png to the reconstruction\n",
      "2020-08-04 13:59:20,581 DEBUG: Local bundle sets: interior 28  boundary 0  other 0\n",
      "2020-08-04 13:59:21,698 DEBUG: Ceres Solver Report: Iterations: 8, Initial cost: 1.065411e+04, Final cost: 1.053608e+04, Termination: CONVERGENCE\n",
      "2020-08-04 13:59:21,784 INFO: Removed outliers: 17\n",
      "2020-08-04 13:59:21,788 INFO: -------------------------------------------------------\n",
      "2020-08-04 13:59:21,814 INFO: 0150.png resection inliers: 601 / 975\n",
      "2020-08-04 13:59:21,834 DEBUG: Ceres Solver Report: Iterations: 6, Initial cost: 1.346655e+03, Final cost: 1.327011e+03, Termination: CONVERGENCE\n",
      "2020-08-04 13:59:21,835 INFO: Adding 0150.png to the reconstruction\n",
      "2020-08-04 13:59:22,029 DEBUG: Local bundle sets: interior 29  boundary 0  other 0\n",
      "2020-08-04 13:59:23,197 DEBUG: Ceres Solver Report: Iterations: 8, Initial cost: 1.098239e+04, Final cost: 1.088495e+04, Termination: CONVERGENCE\n",
      "2020-08-04 13:59:23,282 INFO: Removed outliers: 6\n",
      "2020-08-04 13:59:23,286 INFO: -------------------------------------------------------\n",
      "2020-08-04 13:59:23,307 INFO: 0153.png resection inliers: 897 / 1141\n",
      "2020-08-04 13:59:23,335 DEBUG: Ceres Solver Report: Iterations: 5, Initial cost: 1.349644e+03, Final cost: 1.338425e+03, Termination: CONVERGENCE\n",
      "2020-08-04 13:59:23,336 INFO: Adding 0153.png to the reconstruction\n",
      "2020-08-04 13:59:23,514 DEBUG: Local bundle sets: interior 30  boundary 0  other 0\n",
      "2020-08-04 13:59:24,648 DEBUG: Ceres Solver Report: Iterations: 7, Initial cost: 1.129517e+04, Final cost: 1.123636e+04, Termination: CONVERGENCE\n",
      "2020-08-04 13:59:24,747 INFO: Removed outliers: 4\n",
      "2020-08-04 13:59:24,751 INFO: -------------------------------------------------------\n",
      "2020-08-04 13:59:28,122 DEBUG: Ceres Solver Report: Iterations: 28, Initial cost: 1.132626e+04, Final cost: 1.126548e+04, Termination: CONVERGENCE\n",
      "2020-08-04 13:59:28,220 INFO: Removed outliers: 24\n",
      "2020-08-04 13:59:28,336 INFO: {'points_count': 9173, 'cameras_count': 30, 'observations_count': 52516, 'average_track_length': 5.725062683963807, 'average_track_length_notwo': 7.559713634884478}\n",
      "2020-08-04 13:59:28,337 INFO: Reconstruction 0: 30 images, 9173 points\n",
      "2020-08-04 13:59:28,337 INFO: 1 partial reconstructions in total.\n",
      "2020-08-04 13:59:28,462 INFO: Starting incremental reconstruction\n"
     ]
    },
    {
     "name": "stdout",
     "output_type": "stream",
     "text": [
      "time:  52.169692039489746\n",
      "est focal:  0.5375769194446509\n",
      "Total time:  55.59014010429382\n"
     ]
    },
    {
     "name": "stderr",
     "output_type": "stream",
     "text": [
      "2020-08-04 13:59:32,604 INFO: Starting reconstruction with 0175.png and 0204.png\n",
      "2020-08-04 13:59:32,627 INFO: Two-view reconstruction inliers: 1124 / 1143\n",
      "2020-08-04 13:59:32,790 INFO: Triangulated: 1018\n",
      "2020-08-04 13:59:32,807 DEBUG: Ceres Solver Report: Iterations: 3, Initial cost: 3.544465e+01, Final cost: 3.482414e+01, Termination: CONVERGENCE\n",
      "2020-08-04 13:59:32,984 DEBUG: Ceres Solver Report: Iterations: 3, Initial cost: 3.491706e+01, Final cost: 3.463823e+01, Termination: CONVERGENCE\n",
      "2020-08-04 13:59:33,050 DEBUG: Ceres Solver Report: Iterations: 13, Initial cost: 7.422283e+01, Final cost: 6.258332e+01, Termination: CONVERGENCE\n",
      "2020-08-04 13:59:33,053 INFO: Removed outliers: 1\n",
      "2020-08-04 13:59:33,060 INFO: -------------------------------------------------------\n",
      "2020-08-04 13:59:33,075 INFO: 0177.png resection inliers: 858 / 869\n",
      "2020-08-04 13:59:33,094 DEBUG: Ceres Solver Report: Iterations: 4, Initial cost: 8.277240e+01, Final cost: 4.069081e+01, Termination: CONVERGENCE\n",
      "2020-08-04 13:59:33,095 INFO: Adding 0177.png to the reconstruction\n",
      "2020-08-04 13:59:33,163 DEBUG: Local bundle sets: interior 3  boundary 0  other 0\n",
      "2020-08-04 13:59:33,232 DEBUG: Ceres Solver Report: Iterations: 11, Initial cost: 1.208888e+02, Final cost: 1.041772e+02, Termination: NO_CONVERGENCE\n",
      "2020-08-04 13:59:33,238 INFO: Removed outliers: 0\n",
      "2020-08-04 13:59:33,246 INFO: -------------------------------------------------------\n",
      "2020-08-04 13:59:33,264 INFO: 0205.png resection inliers: 957 / 982\n",
      "2020-08-04 13:59:33,288 DEBUG: Ceres Solver Report: Iterations: 4, Initial cost: 7.256888e+01, Final cost: 5.204780e+01, Termination: CONVERGENCE\n",
      "2020-08-04 13:59:33,289 INFO: Adding 0205.png to the reconstruction\n",
      "2020-08-04 13:59:33,365 INFO: Re-triangulating\n",
      "2020-08-04 13:59:33,501 DEBUG: Ceres Solver Report: Iterations: 14, Initial cost: 1.908369e+02, Final cost: 1.638237e+02, Termination: CONVERGENCE\n",
      "2020-08-04 13:59:33,877 DEBUG: Ceres Solver Report: Iterations: 13, Initial cost: 1.832015e+02, Final cost: 1.742791e+02, Termination: CONVERGENCE\n",
      "2020-08-04 13:59:33,885 INFO: Removed outliers: 0\n",
      "2020-08-04 13:59:33,893 INFO: -------------------------------------------------------\n",
      "2020-08-04 13:59:33,913 INFO: 0202.png resection inliers: 1019 / 1046\n",
      "2020-08-04 13:59:33,937 DEBUG: Ceres Solver Report: Iterations: 4, Initial cost: 6.966428e+01, Final cost: 6.027122e+01, Termination: CONVERGENCE\n",
      "2020-08-04 13:59:33,938 INFO: Adding 0202.png to the reconstruction\n",
      "2020-08-04 13:59:34,024 DEBUG: Local bundle sets: interior 5  boundary 0  other 0\n",
      "2020-08-04 13:59:34,153 DEBUG: Ceres Solver Report: Iterations: 11, Initial cost: 2.466200e+02, Final cost: 2.306167e+02, Termination: NO_CONVERGENCE\n",
      "2020-08-04 13:59:34,162 INFO: Removed outliers: 0\n",
      "2020-08-04 13:59:34,169 INFO: -------------------------------------------------------\n",
      "2020-08-04 13:59:34,190 INFO: 0194.png resection inliers: 1096 / 1139\n",
      "2020-08-04 13:59:34,217 DEBUG: Ceres Solver Report: Iterations: 4, Initial cost: 8.366942e+01, Final cost: 7.759993e+01, Termination: CONVERGENCE\n",
      "2020-08-04 13:59:34,218 INFO: Adding 0194.png to the reconstruction\n",
      "2020-08-04 13:59:34,305 INFO: Re-triangulating\n",
      "2020-08-04 13:59:34,535 DEBUG: Ceres Solver Report: Iterations: 11, Initial cost: 4.011038e+02, Final cost: 3.674056e+02, Termination: CONVERGENCE\n",
      "2020-08-04 13:59:35,133 DEBUG: Ceres Solver Report: Iterations: 13, Initial cost: 4.067422e+02, Final cost: 3.869121e+02, Termination: CONVERGENCE\n",
      "2020-08-04 13:59:35,147 INFO: Removed outliers: 0\n",
      "2020-08-04 13:59:35,154 INFO: -------------------------------------------------------\n",
      "2020-08-04 13:59:35,178 INFO: 0191.png resection inliers: 1408 / 1456\n",
      "2020-08-04 13:59:35,210 DEBUG: Ceres Solver Report: Iterations: 4, Initial cost: 1.201724e+02, Final cost: 9.211119e+01, Termination: CONVERGENCE\n",
      "2020-08-04 13:59:35,212 INFO: Adding 0191.png to the reconstruction\n",
      "2020-08-04 13:59:35,291 DEBUG: Local bundle sets: interior 7  boundary 0  other 0\n",
      "2020-08-04 13:59:35,527 DEBUG: Ceres Solver Report: Iterations: 11, Initial cost: 5.123890e+02, Final cost: 4.856252e+02, Termination: NO_CONVERGENCE\n",
      "2020-08-04 13:59:35,544 INFO: Removed outliers: 0\n",
      "2020-08-04 13:59:35,550 INFO: -------------------------------------------------------\n",
      "2020-08-04 13:59:35,578 INFO: 0186.png resection inliers: 1478 / 1556\n",
      "2020-08-04 13:59:35,613 DEBUG: Ceres Solver Report: Iterations: 4, Initial cost: 1.285851e+02, Final cost: 1.159278e+02, Termination: CONVERGENCE\n",
      "2020-08-04 13:59:35,614 INFO: Adding 0186.png to the reconstruction\n",
      "2020-08-04 13:59:35,677 INFO: Re-triangulating\n",
      "2020-08-04 13:59:36,026 DEBUG: Ceres Solver Report: Iterations: 10, Initial cost: 6.634055e+02, Final cost: 6.274449e+02, Termination: CONVERGENCE\n",
      "2020-08-04 13:59:36,939 DEBUG: Ceres Solver Report: Iterations: 12, Initial cost: 6.911619e+02, Final cost: 6.614710e+02, Termination: CONVERGENCE\n",
      "2020-08-04 13:59:36,961 INFO: Removed outliers: 0\n",
      "2020-08-04 13:59:36,968 INFO: -------------------------------------------------------\n",
      "2020-08-04 13:59:36,996 INFO: 0183.png resection inliers: 1644 / 1692\n",
      "2020-08-04 13:59:37,037 DEBUG: Ceres Solver Report: Iterations: 4, Initial cost: 1.754600e+02, Final cost: 1.258290e+02, Termination: CONVERGENCE\n",
      "2020-08-04 13:59:37,038 INFO: Adding 0183.png to the reconstruction\n",
      "2020-08-04 13:59:37,104 DEBUG: Local bundle sets: interior 9  boundary 0  other 0\n",
      "2020-08-04 13:59:37,449 DEBUG: Ceres Solver Report: Iterations: 9, Initial cost: 8.087098e+02, Final cost: 7.760375e+02, Termination: CONVERGENCE\n",
      "2020-08-04 13:59:37,475 INFO: Removed outliers: 0\n",
      "2020-08-04 13:59:37,482 INFO: -------------------------------------------------------\n",
      "2020-08-04 13:59:37,512 INFO: 0180.png resection inliers: 1700 / 1772\n",
      "2020-08-04 13:59:37,554 DEBUG: Ceres Solver Report: Iterations: 4, Initial cost: 1.566387e+02, Final cost: 1.431132e+02, Termination: CONVERGENCE\n",
      "2020-08-04 13:59:37,556 INFO: Adding 0180.png to the reconstruction\n",
      "2020-08-04 13:59:37,615 DEBUG: Local bundle sets: interior 10  boundary 0  other 0\n",
      "2020-08-04 13:59:37,970 DEBUG: Ceres Solver Report: Iterations: 7, Initial cost: 9.421295e+02, Final cost: 9.089482e+02, Termination: CONVERGENCE\n",
      "2020-08-04 13:59:38,000 INFO: Removed outliers: 0\n",
      "2020-08-04 13:59:38,007 INFO: -------------------------------------------------------\n",
      "2020-08-04 13:59:38,037 INFO: 0189.png resection inliers: 1678 / 1760\n",
      "2020-08-04 13:59:38,076 DEBUG: Ceres Solver Report: Iterations: 4, Initial cost: 1.429562e+02, Final cost: 1.216791e+02, Termination: CONVERGENCE\n",
      "2020-08-04 13:59:38,077 INFO: Adding 0189.png to the reconstruction\n",
      "2020-08-04 13:59:38,138 INFO: Re-triangulating\n",
      "2020-08-04 13:59:38,730 DEBUG: Ceres Solver Report: Iterations: 11, Initial cost: 1.063823e+03, Final cost: 1.032335e+03, Termination: CONVERGENCE\n",
      "2020-08-04 13:59:39,917 DEBUG: Ceres Solver Report: Iterations: 11, Initial cost: 1.112782e+03, Final cost: 1.064638e+03, Termination: CONVERGENCE\n",
      "2020-08-04 13:59:39,950 INFO: Removed outliers: 1\n",
      "2020-08-04 13:59:39,956 INFO: -------------------------------------------------------\n",
      "2020-08-04 13:59:39,986 INFO: 0173.png resection inliers: 1680 / 1772\n",
      "2020-08-04 13:59:40,024 DEBUG: Ceres Solver Report: Iterations: 4, Initial cost: 2.133504e+02, Final cost: 1.735998e+02, Termination: CONVERGENCE\n",
      "2020-08-04 13:59:40,025 INFO: Adding 0173.png to the reconstruction\n",
      "2020-08-04 13:59:40,094 DEBUG: Local bundle sets: interior 12  boundary 0  other 0\n",
      "2020-08-04 13:59:40,621 DEBUG: Ceres Solver Report: Iterations: 10, Initial cost: 1.262945e+03, Final cost: 1.216246e+03, Termination: CONVERGENCE\n",
      "2020-08-04 13:59:40,660 INFO: Removed outliers: 0\n",
      "2020-08-04 13:59:40,666 INFO: -------------------------------------------------------\n",
      "2020-08-04 13:59:40,695 INFO: 0171.png resection inliers: 1772 / 1864\n",
      "2020-08-04 13:59:40,735 DEBUG: Ceres Solver Report: Iterations: 4, Initial cost: 1.953685e+02, Final cost: 1.806971e+02, Termination: CONVERGENCE\n",
      "2020-08-04 13:59:40,736 INFO: Adding 0171.png to the reconstruction\n",
      "2020-08-04 13:59:40,798 DEBUG: Local bundle sets: interior 13  boundary 0  other 0\n",
      "2020-08-04 13:59:41,385 DEBUG: Ceres Solver Report: Iterations: 9, Initial cost: 1.429940e+03, Final cost: 1.383393e+03, Termination: CONVERGENCE\n"
     ]
    },
    {
     "name": "stderr",
     "output_type": "stream",
     "text": [
      "2020-08-04 13:59:41,429 INFO: Removed outliers: 0\n",
      "2020-08-04 13:59:41,436 INFO: -------------------------------------------------------\n",
      "2020-08-04 13:59:41,466 INFO: 0168.png resection inliers: 1784 / 1901\n",
      "2020-08-04 13:59:41,508 DEBUG: Ceres Solver Report: Iterations: 4, Initial cost: 2.411068e+02, Final cost: 2.169106e+02, Termination: CONVERGENCE\n",
      "2020-08-04 13:59:41,510 INFO: Adding 0168.png to the reconstruction\n",
      "2020-08-04 13:59:41,555 INFO: Re-triangulating\n",
      "2020-08-04 13:59:42,577 DEBUG: Ceres Solver Report: Iterations: 14, Initial cost: 1.685715e+03, Final cost: 1.616841e+03, Termination: CONVERGENCE\n",
      "2020-08-04 13:59:44,268 DEBUG: Ceres Solver Report: Iterations: 11, Initial cost: 1.755827e+03, Final cost: 1.687099e+03, Termination: CONVERGENCE\n",
      "2020-08-04 13:59:44,314 INFO: Removed outliers: 0\n",
      "2020-08-04 13:59:44,322 INFO: -------------------------------------------------------\n",
      "2020-08-04 13:59:44,356 INFO: 0164.png resection inliers: 1758 / 1857\n",
      "2020-08-04 13:59:44,398 DEBUG: Ceres Solver Report: Iterations: 5, Initial cost: 2.783398e+02, Final cost: 2.382356e+02, Termination: CONVERGENCE\n",
      "2020-08-04 13:59:44,400 INFO: Adding 0164.png to the reconstruction\n",
      "2020-08-04 13:59:44,463 DEBUG: Local bundle sets: interior 15  boundary 0  other 0\n",
      "2020-08-04 13:59:45,184 DEBUG: Ceres Solver Report: Iterations: 9, Initial cost: 1.949152e+03, Final cost: 1.869174e+03, Termination: CONVERGENCE\n",
      "2020-08-04 13:59:45,234 INFO: Removed outliers: 0\n",
      "2020-08-04 13:59:45,240 INFO: -------------------------------------------------------\n",
      "2020-08-04 13:59:45,271 INFO: 0165.png resection inliers: 1925 / 2005\n",
      "2020-08-04 13:59:45,316 DEBUG: Ceres Solver Report: Iterations: 4, Initial cost: 2.720716e+02, Final cost: 1.845097e+02, Termination: CONVERGENCE\n",
      "2020-08-04 13:59:45,318 INFO: Adding 0165.png to the reconstruction\n",
      "2020-08-04 13:59:45,381 DEBUG: Local bundle sets: interior 16  boundary 0  other 0\n",
      "2020-08-04 13:59:46,113 DEBUG: Ceres Solver Report: Iterations: 8, Initial cost: 2.054622e+03, Final cost: 2.005951e+03, Termination: CONVERGENCE\n",
      "2020-08-04 13:59:46,169 INFO: Removed outliers: 0\n",
      "2020-08-04 13:59:46,175 INFO: -------------------------------------------------------\n",
      "2020-08-04 13:59:46,206 INFO: 0162.png resection inliers: 1885 / 1999\n",
      "2020-08-04 13:59:46,250 DEBUG: Ceres Solver Report: Iterations: 5, Initial cost: 2.386058e+02, Final cost: 2.018081e+02, Termination: CONVERGENCE\n",
      "2020-08-04 13:59:46,251 INFO: Adding 0162.png to the reconstruction\n",
      "2020-08-04 13:59:46,315 DEBUG: Local bundle sets: interior 17  boundary 0  other 0\n",
      "2020-08-04 13:59:47,200 DEBUG: Ceres Solver Report: Iterations: 10, Initial cost: 2.237230e+03, Final cost: 2.177801e+03, Termination: CONVERGENCE\n",
      "2020-08-04 13:59:47,259 INFO: Removed outliers: 0\n",
      "2020-08-04 13:59:47,264 INFO: -------------------------------------------------------\n",
      "2020-08-04 13:59:47,295 INFO: 0159.png resection inliers: 1727 / 1838\n",
      "2020-08-04 13:59:47,334 DEBUG: Ceres Solver Report: Iterations: 4, Initial cost: 2.065495e+02, Final cost: 1.968965e+02, Termination: CONVERGENCE\n",
      "2020-08-04 13:59:47,336 INFO: Adding 0159.png to the reconstruction\n",
      "2020-08-04 13:59:47,382 INFO: Re-triangulating\n",
      "2020-08-04 13:59:49,237 DEBUG: Ceres Solver Report: Iterations: 20, Initial cost: 2.465888e+03, Final cost: 2.395862e+03, Termination: CONVERGENCE\n",
      "2020-08-04 13:59:51,553 DEBUG: Ceres Solver Report: Iterations: 12, Initial cost: 2.535617e+03, Final cost: 2.446310e+03, Termination: CONVERGENCE\n",
      "2020-08-04 13:59:51,611 INFO: Removed outliers: 1\n",
      "2020-08-04 13:59:51,616 INFO: -------------------------------------------------------\n",
      "2020-08-04 13:59:51,645 INFO: 0156.png resection inliers: 1792 / 1892\n",
      "2020-08-04 13:59:51,690 DEBUG: Ceres Solver Report: Iterations: 4, Initial cost: 2.273647e+02, Final cost: 2.139009e+02, Termination: CONVERGENCE\n",
      "2020-08-04 13:59:51,691 INFO: Adding 0156.png to the reconstruction\n",
      "2020-08-04 13:59:51,756 DEBUG: Local bundle sets: interior 19  boundary 0  other 0\n",
      "2020-08-04 13:59:52,779 DEBUG: Ceres Solver Report: Iterations: 10, Initial cost: 2.620577e+03, Final cost: 2.560313e+03, Termination: CONVERGENCE\n",
      "2020-08-04 13:59:52,847 INFO: Removed outliers: 1\n",
      "2020-08-04 13:59:52,853 INFO: -------------------------------------------------------\n",
      "2020-08-04 13:59:52,880 INFO: 0150.png resection inliers: 1653 / 1771\n",
      "2020-08-04 13:59:52,923 DEBUG: Ceres Solver Report: Iterations: 5, Initial cost: 2.412704e+02, Final cost: 2.262715e+02, Termination: CONVERGENCE\n",
      "2020-08-04 13:59:52,924 INFO: Adding 0150.png to the reconstruction\n",
      "2020-08-04 13:59:52,994 DEBUG: Local bundle sets: interior 20  boundary 0  other 0\n",
      "2020-08-04 13:59:53,908 DEBUG: Ceres Solver Report: Iterations: 7, Initial cost: 2.798348e+03, Final cost: 2.722266e+03, Termination: CONVERGENCE\n",
      "2020-08-04 13:59:53,983 INFO: Removed outliers: 0\n",
      "2020-08-04 13:59:53,988 INFO: -------------------------------------------------------\n",
      "2020-08-04 13:59:54,015 INFO: 0153.png resection inliers: 1846 / 1961\n",
      "2020-08-04 13:59:54,059 DEBUG: Ceres Solver Report: Iterations: 4, Initial cost: 2.130919e+02, Final cost: 1.946574e+02, Termination: CONVERGENCE\n",
      "2020-08-04 13:59:54,060 INFO: Adding 0153.png to the reconstruction\n",
      "2020-08-04 13:59:54,122 DEBUG: Local bundle sets: interior 21  boundary 0  other 0\n",
      "2020-08-04 13:59:55,099 DEBUG: Ceres Solver Report: Iterations: 7, Initial cost: 2.915661e+03, Final cost: 2.871173e+03, Termination: CONVERGENCE\n",
      "2020-08-04 13:59:55,176 INFO: Removed outliers: 0\n",
      "2020-08-04 13:59:55,181 INFO: -------------------------------------------------------\n",
      "2020-08-04 13:59:55,207 INFO: 0198.png resection inliers: 1690 / 1761\n",
      "2020-08-04 13:59:55,249 DEBUG: Ceres Solver Report: Iterations: 4, Initial cost: 2.078067e+02, Final cost: 1.744138e+02, Termination: CONVERGENCE\n",
      "2020-08-04 13:59:55,250 INFO: Adding 0198.png to the reconstruction\n",
      "2020-08-04 13:59:55,325 INFO: Re-triangulating\n",
      "2020-08-04 13:59:56,817 DEBUG: Ceres Solver Report: Iterations: 10, Initial cost: 3.116887e+03, Final cost: 3.074482e+03, Termination: CONVERGENCE\n",
      "2020-08-04 13:59:59,691 DEBUG: Ceres Solver Report: Iterations: 12, Initial cost: 3.267624e+03, Final cost: 3.158185e+03, Termination: CONVERGENCE\n",
      "2020-08-04 13:59:59,768 INFO: Removed outliers: 5\n",
      "2020-08-04 13:59:59,773 INFO: -------------------------------------------------------\n",
      "2020-08-04 13:59:59,799 INFO: 0208.png resection inliers: 1469 / 1578\n",
      "2020-08-04 13:59:59,835 DEBUG: Ceres Solver Report: Iterations: 4, Initial cost: 1.987981e+02, Final cost: 1.774444e+02, Termination: CONVERGENCE\n",
      "2020-08-04 13:59:59,837 INFO: Adding 0208.png to the reconstruction\n",
      "2020-08-04 13:59:59,946 DEBUG: Local bundle sets: interior 23  boundary 0  other 0\n",
      "2020-08-04 14:00:01,080 DEBUG: Ceres Solver Report: Iterations: 8, Initial cost: 3.266245e+03, Final cost: 3.225250e+03, Termination: CONVERGENCE\n",
      "2020-08-04 14:00:01,166 INFO: Removed outliers: 0\n",
      "2020-08-04 14:00:01,171 INFO: -------------------------------------------------------\n",
      "2020-08-04 14:00:01,195 INFO: 0212.png resection inliers: 1315 / 1442\n",
      "2020-08-04 14:00:01,233 DEBUG: Ceres Solver Report: Iterations: 4, Initial cost: 1.781815e+02, Final cost: 1.714379e+02, Termination: CONVERGENCE\n",
      "2020-08-04 14:00:01,234 INFO: Adding 0212.png to the reconstruction\n",
      "2020-08-04 14:00:01,350 DEBUG: Local bundle sets: interior 24  boundary 0  other 0\n",
      "2020-08-04 14:00:02,467 DEBUG: Ceres Solver Report: Iterations: 7, Initial cost: 3.408574e+03, Final cost: 3.369478e+03, Termination: CONVERGENCE\n",
      "2020-08-04 14:00:02,552 INFO: Removed outliers: 0\n",
      "2020-08-04 14:00:02,556 INFO: -------------------------------------------------------\n",
      "2020-08-04 14:00:02,582 INFO: 0215.png resection inliers: 1264 / 1409\n",
      "2020-08-04 14:00:02,617 DEBUG: Ceres Solver Report: Iterations: 4, Initial cost: 1.877792e+02, Final cost: 1.697523e+02, Termination: CONVERGENCE\n",
      "2020-08-04 14:00:02,619 INFO: Adding 0215.png to the reconstruction\n",
      "2020-08-04 14:00:02,736 DEBUG: Local bundle sets: interior 25  boundary 0  other 0\n",
      "2020-08-04 14:00:03,973 DEBUG: Ceres Solver Report: Iterations: 8, Initial cost: 3.571633e+03, Final cost: 3.531566e+03, Termination: CONVERGENCE\n",
      "2020-08-04 14:00:04,064 INFO: Removed outliers: 1\n",
      "2020-08-04 14:00:04,068 INFO: -------------------------------------------------------\n"
     ]
    },
    {
     "name": "stderr",
     "output_type": "stream",
     "text": [
      "2020-08-04 14:00:04,095 INFO: 0218.png resection inliers: 1257 / 1412\n",
      "2020-08-04 14:00:04,129 DEBUG: Ceres Solver Report: Iterations: 4, Initial cost: 1.872609e+02, Final cost: 1.806278e+02, Termination: CONVERGENCE\n",
      "2020-08-04 14:00:04,131 INFO: Adding 0218.png to the reconstruction\n",
      "2020-08-04 14:00:04,254 DEBUG: Local bundle sets: interior 26  boundary 0  other 0\n",
      "2020-08-04 14:00:05,712 DEBUG: Ceres Solver Report: Iterations: 10, Initial cost: 3.777199e+03, Final cost: 3.727413e+03, Termination: CONVERGENCE\n",
      "2020-08-04 14:00:05,809 INFO: Removed outliers: 1\n",
      "2020-08-04 14:00:05,813 INFO: -------------------------------------------------------\n",
      "2020-08-04 14:00:05,839 INFO: 0220.png resection inliers: 1215 / 1392\n",
      "2020-08-04 14:00:05,871 DEBUG: Ceres Solver Report: Iterations: 4, Initial cost: 1.873980e+02, Final cost: 1.783854e+02, Termination: CONVERGENCE\n",
      "2020-08-04 14:00:05,872 INFO: Adding 0220.png to the reconstruction\n",
      "2020-08-04 14:00:05,995 DEBUG: Local bundle sets: interior 27  boundary 0  other 0\n",
      "2020-08-04 14:00:07,544 DEBUG: Ceres Solver Report: Iterations: 11, Initial cost: 3.955631e+03, Final cost: 3.911778e+03, Termination: NO_CONVERGENCE\n",
      "2020-08-04 14:00:07,644 INFO: Removed outliers: 0\n",
      "2020-08-04 14:00:07,648 INFO: -------------------------------------------------------\n",
      "2020-08-04 14:00:07,673 INFO: 0224.png resection inliers: 1126 / 1333\n",
      "2020-08-04 14:00:07,706 DEBUG: Ceres Solver Report: Iterations: 4, Initial cost: 1.975963e+02, Final cost: 1.819031e+02, Termination: CONVERGENCE\n",
      "2020-08-04 14:00:07,707 INFO: Adding 0224.png to the reconstruction\n",
      "2020-08-04 14:00:07,830 DEBUG: Local bundle sets: interior 28  boundary 0  other 0\n",
      "2020-08-04 14:00:09,244 DEBUG: Ceres Solver Report: Iterations: 8, Initial cost: 4.153594e+03, Final cost: 4.111500e+03, Termination: CONVERGENCE\n",
      "2020-08-04 14:00:09,347 INFO: Removed outliers: 2\n",
      "2020-08-04 14:00:09,351 INFO: -------------------------------------------------------\n",
      "2020-08-04 14:00:09,375 INFO: 0225.png resection inliers: 1254 / 1432\n",
      "2020-08-04 14:00:09,409 DEBUG: Ceres Solver Report: Iterations: 5, Initial cost: 2.124126e+02, Final cost: 1.927161e+02, Termination: CONVERGENCE\n",
      "2020-08-04 14:00:09,410 INFO: Adding 0225.png to the reconstruction\n",
      "2020-08-04 14:00:09,535 DEBUG: Local bundle sets: interior 29  boundary 0  other 0\n",
      "2020-08-04 14:00:10,795 DEBUG: Ceres Solver Report: Iterations: 6, Initial cost: 4.287237e+03, Final cost: 4.246455e+03, Termination: CONVERGENCE\n",
      "2020-08-04 14:00:10,901 INFO: Removed outliers: 0\n",
      "2020-08-04 14:00:10,904 INFO: -------------------------------------------------------\n",
      "2020-08-04 14:00:10,924 INFO: 0231.png resection inliers: 888 / 1102\n",
      "2020-08-04 14:00:10,949 DEBUG: Ceres Solver Report: Iterations: 4, Initial cost: 2.027192e+02, Final cost: 1.606481e+02, Termination: CONVERGENCE\n",
      "2020-08-04 14:00:10,950 INFO: Adding 0231.png to the reconstruction\n",
      "2020-08-04 14:00:11,034 INFO: Re-triangulating\n",
      "2020-08-04 14:00:12,978 DEBUG: Ceres Solver Report: Iterations: 9, Initial cost: 4.521791e+03, Final cost: 4.464353e+03, Termination: CONVERGENCE\n",
      "2020-08-04 14:00:16,822 DEBUG: Ceres Solver Report: Iterations: 12, Initial cost: 4.914674e+03, Final cost: 4.742923e+03, Termination: CONVERGENCE\n",
      "2020-08-04 14:00:16,935 INFO: Removed outliers: 5\n",
      "2020-08-04 14:00:16,938 INFO: -------------------------------------------------------\n",
      "2020-08-04 14:00:19,022 DEBUG: Ceres Solver Report: Iterations: 8, Initial cost: 4.737856e+03, Final cost: 4.724957e+03, Termination: CONVERGENCE\n",
      "2020-08-04 14:00:19,158 INFO: Removed outliers: 0\n",
      "2020-08-04 14:00:19,352 INFO: {'points_count': 8300, 'cameras_count': 30, 'observations_count': 64430, 'average_track_length': 7.7626506024096384, 'average_track_length_notwo': 9.693421264275374}\n",
      "2020-08-04 14:00:19,353 INFO: Reconstruction 0: 30 images, 8300 points\n",
      "2020-08-04 14:00:19,353 INFO: 1 partial reconstructions in total.\n",
      "2020-08-04 14:00:19,489 INFO: Starting incremental reconstruction\n"
     ]
    },
    {
     "name": "stdout",
     "output_type": "stream",
     "text": [
      "time:  46.74945020675659\n",
      "est focal:  0.48275485324556033\n",
      "Total time:  106.61740326881409\n"
     ]
    },
    {
     "name": "stderr",
     "output_type": "stream",
     "text": [
      "2020-08-04 14:00:25,058 INFO: Starting reconstruction with 0180.png and 0204.png\n",
      "2020-08-04 14:00:25,084 INFO: Two-view reconstruction inliers: 1178 / 1201\n",
      "2020-08-04 14:00:25,207 INFO: Triangulated: 994\n",
      "2020-08-04 14:00:25,223 DEBUG: Ceres Solver Report: Iterations: 4, Initial cost: 2.687825e+01, Final cost: 2.550564e+01, Termination: CONVERGENCE\n",
      "2020-08-04 14:00:25,403 DEBUG: Ceres Solver Report: Iterations: 3, Initial cost: 2.572273e+01, Final cost: 2.516759e+01, Termination: CONVERGENCE\n",
      "2020-08-04 14:00:25,471 DEBUG: Ceres Solver Report: Iterations: 13, Initial cost: 5.879781e+01, Final cost: 4.786545e+01, Termination: CONVERGENCE\n",
      "2020-08-04 14:00:25,475 INFO: Removed outliers: 0\n",
      "2020-08-04 14:00:25,482 INFO: -------------------------------------------------------\n",
      "2020-08-04 14:00:25,498 INFO: 0202.png resection inliers: 813 / 841\n",
      "2020-08-04 14:00:25,518 DEBUG: Ceres Solver Report: Iterations: 4, Initial cost: 4.624148e+01, Final cost: 3.809816e+01, Termination: CONVERGENCE\n",
      "2020-08-04 14:00:25,519 INFO: Adding 0202.png to the reconstruction\n",
      "2020-08-04 14:00:25,602 INFO: Re-triangulating\n",
      "2020-08-04 14:00:25,707 DEBUG: Ceres Solver Report: Iterations: 14, Initial cost: 1.095083e+02, Final cost: 8.993511e+01, Termination: CONVERGENCE\n",
      "2020-08-04 14:00:25,995 DEBUG: Ceres Solver Report: Iterations: 13, Initial cost: 9.599832e+01, Final cost: 9.007965e+01, Termination: CONVERGENCE\n",
      "2020-08-04 14:00:26,000 INFO: Removed outliers: 0\n",
      "2020-08-04 14:00:26,006 INFO: -------------------------------------------------------\n",
      "2020-08-04 14:00:26,023 INFO: 0183.png resection inliers: 910 / 933\n",
      "2020-08-04 14:00:26,046 DEBUG: Ceres Solver Report: Iterations: 4, Initial cost: 7.177229e+01, Final cost: 5.476111e+01, Termination: CONVERGENCE\n",
      "2020-08-04 14:00:26,047 INFO: Adding 0183.png to the reconstruction\n",
      "2020-08-04 14:00:26,128 INFO: Re-triangulating\n",
      "2020-08-04 14:00:26,265 DEBUG: Ceres Solver Report: Iterations: 11, Initial cost: 1.985342e+02, Final cost: 1.690329e+02, Termination: CONVERGENCE\n",
      "2020-08-04 14:00:26,686 DEBUG: Ceres Solver Report: Iterations: 13, Initial cost: 1.919607e+02, Final cost: 1.801489e+02, Termination: CONVERGENCE\n",
      "2020-08-04 14:00:26,694 INFO: Removed outliers: 0\n",
      "2020-08-04 14:00:26,700 INFO: -------------------------------------------------------\n",
      "2020-08-04 14:00:26,724 INFO: 0186.png resection inliers: 1126 / 1188\n",
      "2020-08-04 14:00:26,753 DEBUG: Ceres Solver Report: Iterations: 5, Initial cost: 7.666910e+01, Final cost: 6.440808e+01, Termination: CONVERGENCE\n",
      "2020-08-04 14:00:26,754 INFO: Adding 0186.png to the reconstruction\n",
      "2020-08-04 14:00:26,832 INFO: Re-triangulating\n",
      "2020-08-04 14:00:27,195 DEBUG: Ceres Solver Report: Iterations: 30, Initial cost: 2.850138e+02, Final cost: 2.536800e+02, Termination: CONVERGENCE\n",
      "2020-08-04 14:00:27,700 DEBUG: Ceres Solver Report: Iterations: 13, Initial cost: 2.988979e+02, Final cost: 2.820716e+02, Termination: CONVERGENCE\n",
      "2020-08-04 14:00:27,711 INFO: Removed outliers: 0\n",
      "2020-08-04 14:00:27,717 INFO: -------------------------------------------------------\n",
      "2020-08-04 14:00:27,742 INFO: 0175.png resection inliers: 1215 / 1320\n",
      "2020-08-04 14:00:27,772 DEBUG: Ceres Solver Report: Iterations: 4, Initial cost: 1.169266e+02, Final cost: 9.769553e+01, Termination: CONVERGENCE\n",
      "2020-08-04 14:00:27,773 INFO: Adding 0175.png to the reconstruction\n",
      "2020-08-04 14:00:27,853 INFO: Re-triangulating\n",
      "2020-08-04 14:00:28,155 DEBUG: Ceres Solver Report: Iterations: 13, Initial cost: 4.841199e+02, Final cost: 4.286893e+02, Termination: CONVERGENCE\n",
      "2020-08-04 14:00:28,858 DEBUG: Ceres Solver Report: Iterations: 12, Initial cost: 4.583335e+02, Final cost: 4.365202e+02, Termination: CONVERGENCE\n",
      "2020-08-04 14:00:28,874 INFO: Removed outliers: 0\n",
      "2020-08-04 14:00:28,881 INFO: -------------------------------------------------------\n",
      "2020-08-04 14:00:28,906 INFO: 0177.png resection inliers: 1622 / 1683\n",
      "2020-08-04 14:00:28,946 DEBUG: Ceres Solver Report: Iterations: 4, Initial cost: 1.050216e+02, Final cost: 9.431445e+01, Termination: CONVERGENCE\n",
      "2020-08-04 14:00:28,948 INFO: Adding 0177.png to the reconstruction\n",
      "2020-08-04 14:00:29,008 DEBUG: Local bundle sets: interior 7  boundary 0  other 0\n",
      "2020-08-04 14:00:29,293 DEBUG: Ceres Solver Report: Iterations: 7, Initial cost: 5.429724e+02, Final cost: 5.131882e+02, Termination: CONVERGENCE\n",
      "2020-08-04 14:00:29,317 INFO: Removed outliers: 0\n",
      "2020-08-04 14:00:29,325 INFO: -------------------------------------------------------\n",
      "2020-08-04 14:00:29,358 INFO: 0173.png resection inliers: 1564 / 1657\n",
      "2020-08-04 14:00:29,397 DEBUG: Ceres Solver Report: Iterations: 4, Initial cost: 1.247768e+02, Final cost: 1.070451e+02, Termination: CONVERGENCE\n",
      "2020-08-04 14:00:29,399 INFO: Adding 0173.png to the reconstruction\n",
      "2020-08-04 14:00:29,463 INFO: Re-triangulating\n",
      "2020-08-04 14:00:30,012 DEBUG: Ceres Solver Report: Iterations: 14, Initial cost: 7.093098e+02, Final cost: 6.660010e+02, Termination: CONVERGENCE\n",
      "2020-08-04 14:00:31,137 DEBUG: Ceres Solver Report: Iterations: 13, Initial cost: 7.539529e+02, Final cost: 7.188124e+02, Termination: CONVERGENCE\n",
      "2020-08-04 14:00:31,164 INFO: Removed outliers: 0\n",
      "2020-08-04 14:00:31,173 INFO: -------------------------------------------------------\n",
      "2020-08-04 14:00:31,203 INFO: 0171.png resection inliers: 1693 / 1765\n",
      "2020-08-04 14:00:31,246 DEBUG: Ceres Solver Report: Iterations: 4, Initial cost: 1.499508e+02, Final cost: 1.256509e+02, Termination: CONVERGENCE\n",
      "2020-08-04 14:00:31,247 INFO: Adding 0171.png to the reconstruction\n",
      "2020-08-04 14:00:31,312 DEBUG: Local bundle sets: interior 9  boundary 0  other 0\n",
      "2020-08-04 14:00:31,677 DEBUG: Ceres Solver Report: Iterations: 8, Initial cost: 8.821613e+02, Final cost: 8.412526e+02, Termination: CONVERGENCE\n",
      "2020-08-04 14:00:31,707 INFO: Removed outliers: 0\n",
      "2020-08-04 14:00:31,714 INFO: -------------------------------------------------------\n",
      "2020-08-04 14:00:31,745 INFO: 0168.png resection inliers: 1710 / 1807\n",
      "2020-08-04 14:00:31,787 DEBUG: Ceres Solver Report: Iterations: 4, Initial cost: 1.703820e+02, Final cost: 1.607899e+02, Termination: CONVERGENCE\n",
      "2020-08-04 14:00:31,789 INFO: Adding 0168.png to the reconstruction\n",
      "2020-08-04 14:00:31,843 INFO: Re-triangulating\n",
      "2020-08-04 14:00:33,077 DEBUG: Ceres Solver Report: Iterations: 32, Initial cost: 1.114123e+03, Final cost: 1.052982e+03, Termination: CONVERGENCE\n",
      "2020-08-04 14:00:34,536 DEBUG: Ceres Solver Report: Iterations: 12, Initial cost: 1.125075e+03, Final cost: 1.075316e+03, Termination: CONVERGENCE\n",
      "2020-08-04 14:00:34,572 INFO: Removed outliers: 1\n",
      "2020-08-04 14:00:34,580 INFO: -------------------------------------------------------\n",
      "2020-08-04 14:00:34,615 INFO: 0191.png resection inliers: 1703 / 1806\n",
      "2020-08-04 14:00:34,659 DEBUG: Ceres Solver Report: Iterations: 4, Initial cost: 1.713734e+02, Final cost: 1.332100e+02, Termination: CONVERGENCE\n",
      "2020-08-04 14:00:34,660 INFO: Adding 0191.png to the reconstruction\n",
      "2020-08-04 14:00:34,737 DEBUG: Local bundle sets: interior 11  boundary 0  other 0\n",
      "2020-08-04 14:00:35,336 DEBUG: Ceres Solver Report: Iterations: 9, Initial cost: 1.240943e+03, Final cost: 1.195991e+03, Termination: CONVERGENCE\n",
      "2020-08-04 14:00:35,379 INFO: Removed outliers: 0\n",
      "2020-08-04 14:00:35,386 INFO: -------------------------------------------------------\n",
      "2020-08-04 14:00:35,418 INFO: 0189.png resection inliers: 1773 / 1877\n",
      "2020-08-04 14:00:35,466 DEBUG: Ceres Solver Report: Iterations: 4, Initial cost: 1.525062e+02, Final cost: 1.287572e+02, Termination: CONVERGENCE\n",
      "2020-08-04 14:00:35,468 INFO: Adding 0189.png to the reconstruction\n",
      "2020-08-04 14:00:35,545 DEBUG: Local bundle sets: interior 12  boundary 0  other 0\n",
      "2020-08-04 14:00:36,173 DEBUG: Ceres Solver Report: Iterations: 8, Initial cost: 1.346475e+03, Final cost: 1.313903e+03, Termination: CONVERGENCE\n",
      "2020-08-04 14:00:36,215 INFO: Removed outliers: 0\n",
      "2020-08-04 14:00:36,221 INFO: -------------------------------------------------------\n",
      "2020-08-04 14:00:36,250 INFO: 0164.png resection inliers: 1748 / 1864\n",
      "2020-08-04 14:00:36,294 DEBUG: Ceres Solver Report: Iterations: 5, Initial cost: 2.254161e+02, Final cost: 2.074546e+02, Termination: CONVERGENCE\n",
      "2020-08-04 14:00:36,296 INFO: Adding 0164.png to the reconstruction\n"
     ]
    },
    {
     "name": "stderr",
     "output_type": "stream",
     "text": [
      "2020-08-04 14:00:36,341 INFO: Re-triangulating\n",
      "2020-08-04 14:00:37,176 DEBUG: Ceres Solver Report: Iterations: 10, Initial cost: 1.622950e+03, Final cost: 1.534465e+03, Termination: CONVERGENCE\n",
      "2020-08-04 14:00:39,041 DEBUG: Ceres Solver Report: Iterations: 12, Initial cost: 1.676607e+03, Final cost: 1.612733e+03, Termination: CONVERGENCE\n",
      "2020-08-04 14:00:39,093 INFO: Removed outliers: 0\n",
      "2020-08-04 14:00:39,099 INFO: -------------------------------------------------------\n",
      "2020-08-04 14:00:39,131 INFO: 0165.png resection inliers: 1930 / 1989\n",
      "2020-08-04 14:00:39,177 DEBUG: Ceres Solver Report: Iterations: 4, Initial cost: 1.663537e+02, Final cost: 1.422371e+02, Termination: CONVERGENCE\n",
      "2020-08-04 14:00:39,178 INFO: Adding 0165.png to the reconstruction\n",
      "2020-08-04 14:00:39,236 DEBUG: Local bundle sets: interior 14  boundary 0  other 0\n",
      "2020-08-04 14:00:39,984 DEBUG: Ceres Solver Report: Iterations: 8, Initial cost: 1.762997e+03, Final cost: 1.716229e+03, Termination: CONVERGENCE\n",
      "2020-08-04 14:00:40,045 INFO: Removed outliers: 0\n",
      "2020-08-04 14:00:40,051 INFO: -------------------------------------------------------\n",
      "2020-08-04 14:00:40,084 INFO: 0162.png resection inliers: 1880 / 1982\n",
      "2020-08-04 14:00:40,133 DEBUG: Ceres Solver Report: Iterations: 4, Initial cost: 1.819291e+02, Final cost: 1.595918e+02, Termination: CONVERGENCE\n",
      "2020-08-04 14:00:40,134 INFO: Adding 0162.png to the reconstruction\n",
      "2020-08-04 14:00:40,206 DEBUG: Local bundle sets: interior 15  boundary 0  other 0\n",
      "2020-08-04 14:00:41,095 DEBUG: Ceres Solver Report: Iterations: 9, Initial cost: 1.929647e+03, Final cost: 1.874488e+03, Termination: CONVERGENCE\n",
      "2020-08-04 14:00:41,163 INFO: Removed outliers: 0\n",
      "2020-08-04 14:00:41,170 INFO: -------------------------------------------------------\n",
      "2020-08-04 14:00:41,200 INFO: 0194.png resection inliers: 1721 / 1810\n",
      "2020-08-04 14:00:41,248 DEBUG: Ceres Solver Report: Iterations: 4, Initial cost: 1.484596e+02, Final cost: 1.290577e+02, Termination: CONVERGENCE\n",
      "2020-08-04 14:00:41,249 INFO: Adding 0194.png to the reconstruction\n",
      "2020-08-04 14:00:41,345 DEBUG: Local bundle sets: interior 16  boundary 0  other 0\n",
      "2020-08-04 14:00:42,287 DEBUG: Ceres Solver Report: Iterations: 9, Initial cost: 2.040178e+03, Final cost: 2.006012e+03, Termination: CONVERGENCE\n",
      "2020-08-04 14:00:42,349 INFO: Removed outliers: 0\n",
      "2020-08-04 14:00:42,355 INFO: -------------------------------------------------------\n",
      "2020-08-04 14:00:42,389 INFO: 0159.png resection inliers: 1714 / 1819\n",
      "2020-08-04 14:00:42,436 DEBUG: Ceres Solver Report: Iterations: 4, Initial cost: 1.990070e+02, Final cost: 1.586383e+02, Termination: CONVERGENCE\n",
      "2020-08-04 14:00:42,438 INFO: Adding 0159.png to the reconstruction\n",
      "2020-08-04 14:00:42,554 INFO: Re-triangulating\n",
      "2020-08-04 14:00:44,068 DEBUG: Ceres Solver Report: Iterations: 15, Initial cost: 2.277973e+03, Final cost: 2.215146e+03, Termination: CONVERGENCE\n",
      "2020-08-04 14:00:46,333 DEBUG: Ceres Solver Report: Iterations: 12, Initial cost: 2.346330e+03, Final cost: 2.263307e+03, Termination: CONVERGENCE\n",
      "2020-08-04 14:00:46,397 INFO: Removed outliers: 1\n",
      "2020-08-04 14:00:46,402 INFO: -------------------------------------------------------\n",
      "2020-08-04 14:00:46,433 INFO: 0156.png resection inliers: 1783 / 1891\n",
      "2020-08-04 14:00:46,483 DEBUG: Ceres Solver Report: Iterations: 4, Initial cost: 2.113222e+02, Final cost: 1.835178e+02, Termination: CONVERGENCE\n",
      "2020-08-04 14:00:46,484 INFO: Adding 0156.png to the reconstruction\n",
      "2020-08-04 14:00:46,555 DEBUG: Local bundle sets: interior 18  boundary 0  other 0\n",
      "2020-08-04 14:00:47,548 DEBUG: Ceres Solver Report: Iterations: 9, Initial cost: 2.443195e+03, Final cost: 2.376538e+03, Termination: CONVERGENCE\n",
      "2020-08-04 14:00:47,616 INFO: Removed outliers: 1\n",
      "2020-08-04 14:00:47,621 INFO: -------------------------------------------------------\n",
      "2020-08-04 14:00:47,653 INFO: 0150.png resection inliers: 1646 / 1767\n",
      "2020-08-04 14:00:47,696 DEBUG: Ceres Solver Report: Iterations: 4, Initial cost: 2.055160e+02, Final cost: 1.903789e+02, Termination: CONVERGENCE\n",
      "2020-08-04 14:00:47,697 INFO: Adding 0150.png to the reconstruction\n",
      "2020-08-04 14:00:47,770 DEBUG: Local bundle sets: interior 19  boundary 0  other 0\n",
      "2020-08-04 14:00:48,688 DEBUG: Ceres Solver Report: Iterations: 7, Initial cost: 2.609128e+03, Final cost: 2.533045e+03, Termination: CONVERGENCE\n",
      "2020-08-04 14:00:48,759 INFO: Removed outliers: 0\n",
      "2020-08-04 14:00:48,765 INFO: -------------------------------------------------------\n",
      "2020-08-04 14:00:48,798 INFO: 0153.png resection inliers: 1848 / 1961\n",
      "2020-08-04 14:00:48,848 DEBUG: Ceres Solver Report: Iterations: 4, Initial cost: 1.949352e+02, Final cost: 1.621738e+02, Termination: CONVERGENCE\n",
      "2020-08-04 14:00:48,850 INFO: Adding 0153.png to the reconstruction\n",
      "2020-08-04 14:00:48,919 DEBUG: Local bundle sets: interior 20  boundary 0  other 0\n",
      "2020-08-04 14:00:49,896 DEBUG: Ceres Solver Report: Iterations: 7, Initial cost: 2.725590e+03, Final cost: 2.680837e+03, Termination: CONVERGENCE\n",
      "2020-08-04 14:00:49,978 INFO: Removed outliers: 0\n",
      "2020-08-04 14:00:49,985 INFO: -------------------------------------------------------\n",
      "2020-08-04 14:00:50,012 INFO: 0198.png resection inliers: 1670 / 1751\n",
      "2020-08-04 14:00:50,058 DEBUG: Ceres Solver Report: Iterations: 4, Initial cost: 1.640512e+02, Final cost: 1.415030e+02, Termination: CONVERGENCE\n",
      "2020-08-04 14:00:50,060 INFO: Adding 0198.png to the reconstruction\n",
      "2020-08-04 14:00:50,137 INFO: Re-triangulating\n",
      "2020-08-04 14:00:51,742 DEBUG: Ceres Solver Report: Iterations: 11, Initial cost: 2.907015e+03, Final cost: 2.865384e+03, Termination: CONVERGENCE\n",
      "2020-08-04 14:00:54,566 DEBUG: Ceres Solver Report: Iterations: 12, Initial cost: 3.058567e+03, Final cost: 2.955162e+03, Termination: CONVERGENCE\n",
      "2020-08-04 14:00:54,642 INFO: Removed outliers: 5\n",
      "2020-08-04 14:00:54,648 INFO: -------------------------------------------------------\n",
      "2020-08-04 14:00:54,675 INFO: 0205.png resection inliers: 1544 / 1626\n",
      "2020-08-04 14:00:54,719 DEBUG: Ceres Solver Report: Iterations: 4, Initial cost: 1.591358e+02, Final cost: 1.253534e+02, Termination: CONVERGENCE\n",
      "2020-08-04 14:00:54,720 INFO: Adding 0205.png to the reconstruction\n",
      "2020-08-04 14:00:54,830 DEBUG: Local bundle sets: interior 22  boundary 0  other 0\n",
      "2020-08-04 14:00:55,827 DEBUG: Ceres Solver Report: Iterations: 6, Initial cost: 3.053296e+03, Final cost: 3.017372e+03, Termination: CONVERGENCE\n",
      "2020-08-04 14:00:55,914 INFO: Removed outliers: 0\n",
      "2020-08-04 14:00:55,920 INFO: -------------------------------------------------------\n",
      "2020-08-04 14:00:55,947 INFO: 0208.png resection inliers: 1434 / 1587\n",
      "2020-08-04 14:00:55,987 DEBUG: Ceres Solver Report: Iterations: 4, Initial cost: 2.188850e+02, Final cost: 1.257175e+02, Termination: CONVERGENCE\n",
      "2020-08-04 14:00:55,989 INFO: Adding 0208.png to the reconstruction\n",
      "2020-08-04 14:00:56,115 DEBUG: Local bundle sets: interior 23  boundary 0  other 0\n",
      "2020-08-04 14:00:57,250 DEBUG: Ceres Solver Report: Iterations: 7, Initial cost: 3.177880e+03, Final cost: 3.141172e+03, Termination: CONVERGENCE\n",
      "2020-08-04 14:00:57,338 INFO: Removed outliers: 0\n",
      "2020-08-04 14:00:57,343 INFO: -------------------------------------------------------\n",
      "2020-08-04 14:00:57,369 INFO: 0212.png resection inliers: 1326 / 1459\n",
      "2020-08-04 14:00:57,405 DEBUG: Ceres Solver Report: Iterations: 4, Initial cost: 1.500159e+02, Final cost: 1.334128e+02, Termination: CONVERGENCE\n",
      "2020-08-04 14:00:57,407 INFO: Adding 0212.png to the reconstruction\n",
      "2020-08-04 14:00:57,588 DEBUG: Local bundle sets: interior 24  boundary 0  other 0\n",
      "2020-08-04 14:00:58,806 DEBUG: Ceres Solver Report: Iterations: 8, Initial cost: 3.337578e+03, Final cost: 3.294585e+03, Termination: CONVERGENCE\n",
      "2020-08-04 14:00:58,896 INFO: Removed outliers: 0\n",
      "2020-08-04 14:00:58,901 INFO: -------------------------------------------------------\n",
      "2020-08-04 14:00:58,926 INFO: 0215.png resection inliers: 1283 / 1435\n",
      "2020-08-04 14:00:58,960 DEBUG: Ceres Solver Report: Iterations: 4, Initial cost: 1.485795e+02, Final cost: 1.353889e+02, Termination: CONVERGENCE\n",
      "2020-08-04 14:00:58,961 INFO: Adding 0215.png to the reconstruction\n",
      "2020-08-04 14:00:59,084 DEBUG: Local bundle sets: interior 25  boundary 0  other 0\n"
     ]
    },
    {
     "name": "stderr",
     "output_type": "stream",
     "text": [
      "2020-08-04 14:01:00,354 DEBUG: Ceres Solver Report: Iterations: 8, Initial cost: 3.507981e+03, Final cost: 3.464308e+03, Termination: CONVERGENCE\n",
      "2020-08-04 14:01:00,448 INFO: Removed outliers: 1\n",
      "2020-08-04 14:01:00,452 INFO: -------------------------------------------------------\n",
      "2020-08-04 14:01:00,477 INFO: 0218.png resection inliers: 1265 / 1439\n",
      "2020-08-04 14:01:00,510 DEBUG: Ceres Solver Report: Iterations: 4, Initial cost: 1.480351e+02, Final cost: 1.411379e+02, Termination: CONVERGENCE\n",
      "2020-08-04 14:01:00,511 INFO: Adding 0218.png to the reconstruction\n",
      "2020-08-04 14:01:00,638 DEBUG: Local bundle sets: interior 26  boundary 0  other 0\n",
      "2020-08-04 14:01:02,117 DEBUG: Ceres Solver Report: Iterations: 10, Initial cost: 3.749136e+03, Final cost: 3.694311e+03, Termination: CONVERGENCE\n",
      "2020-08-04 14:01:02,218 INFO: Removed outliers: 1\n",
      "2020-08-04 14:01:02,222 INFO: -------------------------------------------------------\n",
      "2020-08-04 14:01:02,245 INFO: 0220.png resection inliers: 1265 / 1468\n",
      "2020-08-04 14:01:02,278 DEBUG: Ceres Solver Report: Iterations: 4, Initial cost: 1.761457e+02, Final cost: 1.519922e+02, Termination: CONVERGENCE\n",
      "2020-08-04 14:01:02,279 INFO: Adding 0220.png to the reconstruction\n",
      "2020-08-04 14:01:02,397 DEBUG: Local bundle sets: interior 27  boundary 0  other 0\n",
      "2020-08-04 14:01:03,960 DEBUG: Ceres Solver Report: Iterations: 11, Initial cost: 3.897742e+03, Final cost: 3.853872e+03, Termination: NO_CONVERGENCE\n",
      "2020-08-04 14:01:04,059 INFO: Removed outliers: 0\n",
      "2020-08-04 14:01:04,063 INFO: -------------------------------------------------------\n",
      "2020-08-04 14:01:04,090 INFO: 0224.png resection inliers: 1152 / 1375\n",
      "2020-08-04 14:01:04,121 DEBUG: Ceres Solver Report: Iterations: 4, Initial cost: 1.483361e+02, Final cost: 1.450679e+02, Termination: CONVERGENCE\n",
      "2020-08-04 14:01:04,122 INFO: Adding 0224.png to the reconstruction\n",
      "2020-08-04 14:01:04,210 INFO: Re-triangulating\n",
      "2020-08-04 14:01:06,086 DEBUG: Ceres Solver Report: Iterations: 9, Initial cost: 4.170319e+03, Final cost: 4.110257e+03, Termination: CONVERGENCE\n",
      "2020-08-04 14:01:10,825 DEBUG: Ceres Solver Report: Iterations: 18, Initial cost: 4.477943e+03, Final cost: 4.318789e+03, Termination: CONVERGENCE\n",
      "2020-08-04 14:01:10,921 INFO: Removed outliers: 5\n",
      "2020-08-04 14:01:10,925 INFO: -------------------------------------------------------\n",
      "2020-08-04 14:01:10,950 INFO: 0225.png resection inliers: 1353 / 1459\n",
      "2020-08-04 14:01:10,986 DEBUG: Ceres Solver Report: Iterations: 4, Initial cost: 1.861647e+02, Final cost: 1.610576e+02, Termination: CONVERGENCE\n",
      "2020-08-04 14:01:10,987 INFO: Adding 0225.png to the reconstruction\n",
      "2020-08-04 14:01:11,118 DEBUG: Local bundle sets: interior 29  boundary 0  other 0\n",
      "2020-08-04 14:01:12,439 DEBUG: Ceres Solver Report: Iterations: 6, Initial cost: 4.428863e+03, Final cost: 4.382177e+03, Termination: CONVERGENCE\n",
      "2020-08-04 14:01:12,555 INFO: Removed outliers: 0\n",
      "2020-08-04 14:01:12,559 INFO: -------------------------------------------------------\n",
      "2020-08-04 14:01:12,581 INFO: 0231.png resection inliers: 958 / 1136\n",
      "2020-08-04 14:01:12,614 DEBUG: Ceres Solver Report: Iterations: 5, Initial cost: 1.488104e+02, Final cost: 1.309288e+02, Termination: CONVERGENCE\n",
      "2020-08-04 14:01:12,615 INFO: Adding 0231.png to the reconstruction\n",
      "2020-08-04 14:01:12,727 DEBUG: Local bundle sets: interior 30  boundary 0  other 0\n",
      "2020-08-04 14:01:13,984 DEBUG: Ceres Solver Report: Iterations: 5, Initial cost: 4.564292e+03, Final cost: 4.529783e+03, Termination: CONVERGENCE\n",
      "2020-08-04 14:01:14,091 INFO: Removed outliers: 0\n",
      "2020-08-04 14:01:14,095 INFO: -------------------------------------------------------\n",
      "2020-08-04 14:01:15,938 DEBUG: Ceres Solver Report: Iterations: 8, Initial cost: 4.620663e+03, Final cost: 4.609680e+03, Termination: CONVERGENCE\n",
      "2020-08-04 14:01:16,055 INFO: Removed outliers: 0\n",
      "2020-08-04 14:01:16,189 INFO: {'points_count': 8436, 'cameras_count': 30, 'observations_count': 65092, 'average_track_length': 7.715979137031769, 'average_track_length_notwo': 9.662482122993802}\n",
      "2020-08-04 14:01:16,190 INFO: Reconstruction 0: 30 images, 8436 points\n",
      "2020-08-04 14:01:16,191 INFO: 1 partial reconstructions in total.\n",
      "2020-08-04 14:01:16,329 INFO: Starting incremental reconstruction\n"
     ]
    },
    {
     "name": "stdout",
     "output_type": "stream",
     "text": [
      "time:  51.1324200630188\n",
      "est focal:  0.4667412816428425\n",
      "Total time:  163.45712208747864\n"
     ]
    },
    {
     "name": "stderr",
     "output_type": "stream",
     "text": [
      "2020-08-04 14:01:20,865 INFO: Starting reconstruction with 0194.png and 0208.png\n",
      "2020-08-04 14:01:20,897 INFO: Two-view reconstruction inliers: 1508 / 1531\n",
      "2020-08-04 14:01:21,021 INFO: Triangulated: 947\n",
      "2020-08-04 14:01:21,035 DEBUG: Ceres Solver Report: Iterations: 3, Initial cost: 1.832996e+01, Final cost: 1.359594e+01, Termination: CONVERGENCE\n",
      "2020-08-04 14:01:21,213 DEBUG: Ceres Solver Report: Iterations: 3, Initial cost: 1.407714e+01, Final cost: 1.211220e+01, Termination: CONVERGENCE\n",
      "2020-08-04 14:01:21,271 DEBUG: Ceres Solver Report: Iterations: 9, Initial cost: 3.250362e+01, Final cost: 2.311824e+01, Termination: CONVERGENCE\n",
      "2020-08-04 14:01:21,275 INFO: Removed outliers: 0\n",
      "2020-08-04 14:01:21,281 INFO: -------------------------------------------------------\n",
      "2020-08-04 14:01:21,298 INFO: 0198.png resection inliers: 794 / 810\n",
      "2020-08-04 14:01:21,315 DEBUG: Ceres Solver Report: Iterations: 4, Initial cost: 3.635434e+01, Final cost: 2.783016e+01, Termination: CONVERGENCE\n",
      "2020-08-04 14:01:21,316 INFO: Adding 0198.png to the reconstruction\n",
      "2020-08-04 14:01:21,400 INFO: Re-triangulating\n",
      "2020-08-04 14:01:21,482 DEBUG: Ceres Solver Report: Iterations: 8, Initial cost: 7.152060e+01, Final cost: 5.393749e+01, Termination: CONVERGENCE\n",
      "2020-08-04 14:01:21,754 DEBUG: Ceres Solver Report: Iterations: 9, Initial cost: 6.485240e+01, Final cost: 6.172417e+01, Termination: CONVERGENCE\n",
      "2020-08-04 14:01:21,759 INFO: Removed outliers: 0\n",
      "2020-08-04 14:01:21,766 INFO: -------------------------------------------------------\n",
      "2020-08-04 14:01:21,784 INFO: 0191.png resection inliers: 969 / 995\n",
      "2020-08-04 14:01:21,807 DEBUG: Ceres Solver Report: Iterations: 4, Initial cost: 5.501347e+01, Final cost: 4.858348e+01, Termination: CONVERGENCE\n",
      "2020-08-04 14:01:21,808 INFO: Adding 0191.png to the reconstruction\n",
      "2020-08-04 14:01:21,892 INFO: Re-triangulating\n",
      "2020-08-04 14:01:22,056 DEBUG: Ceres Solver Report: Iterations: 14, Initial cost: 1.443347e+02, Final cost: 1.122908e+02, Termination: CONVERGENCE\n",
      "2020-08-04 14:01:22,525 DEBUG: Ceres Solver Report: Iterations: 14, Initial cost: 1.249868e+02, Final cost: 1.186437e+02, Termination: CONVERGENCE\n",
      "2020-08-04 14:01:22,534 INFO: Removed outliers: 0\n",
      "2020-08-04 14:01:22,540 INFO: -------------------------------------------------------\n",
      "2020-08-04 14:01:22,560 INFO: 0189.png resection inliers: 1094 / 1129\n",
      "2020-08-04 14:01:22,587 DEBUG: Ceres Solver Report: Iterations: 4, Initial cost: 7.484016e+01, Final cost: 7.246793e+01, Termination: CONVERGENCE\n",
      "2020-08-04 14:01:22,588 INFO: Adding 0189.png to the reconstruction\n",
      "2020-08-04 14:01:22,667 DEBUG: Local bundle sets: interior 5  boundary 0  other 0\n",
      "2020-08-04 14:01:22,796 DEBUG: Ceres Solver Report: Iterations: 7, Initial cost: 2.085387e+02, Final cost: 1.751552e+02, Termination: CONVERGENCE\n",
      "2020-08-04 14:01:22,811 INFO: Removed outliers: 0\n",
      "2020-08-04 14:01:22,818 INFO: -------------------------------------------------------\n",
      "2020-08-04 14:01:22,840 INFO: 0186.png resection inliers: 1206 / 1279\n",
      "2020-08-04 14:01:22,871 DEBUG: Ceres Solver Report: Iterations: 4, Initial cost: 7.422530e+01, Final cost: 6.863831e+01, Termination: CONVERGENCE\n",
      "2020-08-04 14:01:22,872 INFO: Adding 0186.png to the reconstruction\n",
      "2020-08-04 14:01:22,951 INFO: Re-triangulating\n",
      "2020-08-04 14:01:23,217 DEBUG: Ceres Solver Report: Iterations: 12, Initial cost: 2.910351e+02, Final cost: 2.519570e+02, Termination: CONVERGENCE\n",
      "2020-08-04 14:01:23,841 DEBUG: Ceres Solver Report: Iterations: 14, Initial cost: 3.057041e+02, Final cost: 2.917253e+02, Termination: CONVERGENCE\n",
      "2020-08-04 14:01:23,857 INFO: Removed outliers: 0\n",
      "2020-08-04 14:01:23,863 INFO: -------------------------------------------------------\n",
      "2020-08-04 14:01:23,889 INFO: 0183.png resection inliers: 1308 / 1388\n",
      "2020-08-04 14:01:23,919 DEBUG: Ceres Solver Report: Iterations: 4, Initial cost: 1.021943e+02, Final cost: 8.687628e+01, Termination: CONVERGENCE\n",
      "2020-08-04 14:01:23,920 INFO: Adding 0183.png to the reconstruction\n",
      "2020-08-04 14:01:24,001 DEBUG: Local bundle sets: interior 7  boundary 0  other 0\n",
      "2020-08-04 14:01:24,245 DEBUG: Ceres Solver Report: Iterations: 11, Initial cost: 4.322184e+02, Final cost: 3.904825e+02, Termination: NO_CONVERGENCE\n",
      "2020-08-04 14:01:24,263 INFO: Removed outliers: 0\n",
      "2020-08-04 14:01:24,269 INFO: -------------------------------------------------------\n",
      "2020-08-04 14:01:24,299 INFO: 0180.png resection inliers: 1378 / 1488\n",
      "2020-08-04 14:01:24,332 DEBUG: Ceres Solver Report: Iterations: 4, Initial cost: 1.272224e+02, Final cost: 1.170678e+02, Termination: CONVERGENCE\n",
      "2020-08-04 14:01:24,333 INFO: Adding 0180.png to the reconstruction\n",
      "2020-08-04 14:01:24,395 INFO: Re-triangulating\n",
      "2020-08-04 14:01:24,783 DEBUG: Ceres Solver Report: Iterations: 11, Initial cost: 5.926548e+02, Final cost: 5.326606e+02, Termination: CONVERGENCE\n",
      "2020-08-04 14:01:25,655 DEBUG: Ceres Solver Report: Iterations: 14, Initial cost: 6.169279e+02, Final cost: 5.820802e+02, Termination: CONVERGENCE\n",
      "2020-08-04 14:01:25,682 INFO: Removed outliers: 0\n",
      "2020-08-04 14:01:25,689 INFO: -------------------------------------------------------\n",
      "2020-08-04 14:01:25,714 INFO: 0175.png resection inliers: 1465 / 1588\n",
      "2020-08-04 14:01:25,750 DEBUG: Ceres Solver Report: Iterations: 4, Initial cost: 1.456990e+02, Final cost: 1.364323e+02, Termination: CONVERGENCE\n",
      "2020-08-04 14:01:25,751 INFO: Adding 0175.png to the reconstruction\n",
      "2020-08-04 14:01:25,829 DEBUG: Local bundle sets: interior 9  boundary 0  other 0\n",
      "2020-08-04 14:01:26,168 DEBUG: Ceres Solver Report: Iterations: 7, Initial cost: 8.097232e+02, Final cost: 7.510084e+02, Termination: CONVERGENCE\n",
      "2020-08-04 14:01:26,197 INFO: Removed outliers: 0\n",
      "2020-08-04 14:01:26,203 INFO: -------------------------------------------------------\n",
      "2020-08-04 14:01:26,236 INFO: 0177.png resection inliers: 1787 / 1902\n",
      "2020-08-04 14:01:26,278 DEBUG: Ceres Solver Report: Iterations: 4, Initial cost: 1.325428e+02, Final cost: 1.177653e+02, Termination: CONVERGENCE\n",
      "2020-08-04 14:01:26,279 INFO: Adding 0177.png to the reconstruction\n",
      "2020-08-04 14:01:26,321 INFO: Re-triangulating\n",
      "2020-08-04 14:01:26,791 DEBUG: Ceres Solver Report: Iterations: 8, Initial cost: 9.313795e+02, Final cost: 8.796006e+02, Termination: CONVERGENCE\n",
      "2020-08-04 14:01:28,051 DEBUG: Ceres Solver Report: Iterations: 13, Initial cost: 9.714632e+02, Final cost: 9.274417e+02, Termination: CONVERGENCE\n",
      "2020-08-04 14:01:28,081 INFO: Removed outliers: 0\n",
      "2020-08-04 14:01:28,087 INFO: -------------------------------------------------------\n",
      "2020-08-04 14:01:28,115 INFO: 0173.png resection inliers: 1722 / 1817\n",
      "2020-08-04 14:01:28,157 DEBUG: Ceres Solver Report: Iterations: 4, Initial cost: 1.656965e+02, Final cost: 1.482245e+02, Termination: CONVERGENCE\n",
      "2020-08-04 14:01:28,158 INFO: Adding 0173.png to the reconstruction\n",
      "2020-08-04 14:01:28,222 DEBUG: Local bundle sets: interior 11  boundary 0  other 0\n",
      "2020-08-04 14:01:28,754 DEBUG: Ceres Solver Report: Iterations: 11, Initial cost: 1.117642e+03, Final cost: 1.069988e+03, Termination: NO_CONVERGENCE\n",
      "2020-08-04 14:01:28,792 INFO: Removed outliers: 0\n",
      "2020-08-04 14:01:28,799 INFO: -------------------------------------------------------\n",
      "2020-08-04 14:01:28,829 INFO: 0171.png resection inliers: 1768 / 1885\n",
      "2020-08-04 14:01:28,870 DEBUG: Ceres Solver Report: Iterations: 4, Initial cost: 1.721066e+02, Final cost: 1.440537e+02, Termination: CONVERGENCE\n",
      "2020-08-04 14:01:28,871 INFO: Adding 0171.png to the reconstruction\n",
      "2020-08-04 14:01:28,932 DEBUG: Local bundle sets: interior 12  boundary 0  other 0\n",
      "2020-08-04 14:01:29,489 DEBUG: Ceres Solver Report: Iterations: 9, Initial cost: 1.257443e+03, Final cost: 1.213275e+03, Termination: CONVERGENCE\n",
      "2020-08-04 14:01:29,530 INFO: Removed outliers: 0\n",
      "2020-08-04 14:01:29,536 INFO: -------------------------------------------------------\n",
      "2020-08-04 14:01:29,566 INFO: 0168.png resection inliers: 1761 / 1897\n",
      "2020-08-04 14:01:29,608 DEBUG: Ceres Solver Report: Iterations: 4, Initial cost: 1.914632e+02, Final cost: 1.718095e+02, Termination: CONVERGENCE\n",
      "2020-08-04 14:01:29,609 INFO: Adding 0168.png to the reconstruction\n",
      "2020-08-04 14:01:29,659 INFO: Re-triangulating\n",
      "2020-08-04 14:01:30,627 DEBUG: Ceres Solver Report: Iterations: 13, Initial cost: 1.510760e+03, Final cost: 1.433052e+03, Termination: CONVERGENCE\n"
     ]
    },
    {
     "name": "stderr",
     "output_type": "stream",
     "text": [
      "2020-08-04 14:01:32,289 DEBUG: Ceres Solver Report: Iterations: 12, Initial cost: 1.550067e+03, Final cost: 1.488284e+03, Termination: CONVERGENCE\n",
      "2020-08-04 14:01:32,330 INFO: Removed outliers: 0\n",
      "2020-08-04 14:01:32,337 INFO: -------------------------------------------------------\n",
      "2020-08-04 14:01:32,367 INFO: 0164.png resection inliers: 1756 / 1878\n",
      "2020-08-04 14:01:32,411 DEBUG: Ceres Solver Report: Iterations: 5, Initial cost: 2.557947e+02, Final cost: 1.964141e+02, Termination: CONVERGENCE\n",
      "2020-08-04 14:01:32,412 INFO: Adding 0164.png to the reconstruction\n",
      "2020-08-04 14:01:32,475 DEBUG: Local bundle sets: interior 14  boundary 0  other 0\n",
      "2020-08-04 14:01:33,091 DEBUG: Ceres Solver Report: Iterations: 7, Initial cost: 1.731977e+03, Final cost: 1.651332e+03, Termination: CONVERGENCE\n",
      "2020-08-04 14:01:33,141 INFO: Removed outliers: 0\n",
      "2020-08-04 14:01:33,147 INFO: -------------------------------------------------------\n",
      "2020-08-04 14:01:33,177 INFO: 0165.png resection inliers: 1918 / 2016\n",
      "2020-08-04 14:01:33,223 DEBUG: Ceres Solver Report: Iterations: 4, Initial cost: 1.534509e+02, Final cost: 1.412442e+02, Termination: CONVERGENCE\n",
      "2020-08-04 14:01:33,224 INFO: Adding 0165.png to the reconstruction\n",
      "2020-08-04 14:01:33,282 DEBUG: Local bundle sets: interior 15  boundary 0  other 0\n",
      "2020-08-04 14:01:33,977 DEBUG: Ceres Solver Report: Iterations: 8, Initial cost: 1.820417e+03, Final cost: 1.774921e+03, Termination: CONVERGENCE\n",
      "2020-08-04 14:01:34,034 INFO: Removed outliers: 0\n",
      "2020-08-04 14:01:34,040 INFO: -------------------------------------------------------\n",
      "2020-08-04 14:01:34,071 INFO: 0162.png resection inliers: 1866 / 1997\n",
      "2020-08-04 14:01:34,115 DEBUG: Ceres Solver Report: Iterations: 4, Initial cost: 1.635716e+02, Final cost: 1.504963e+02, Termination: CONVERGENCE\n",
      "2020-08-04 14:01:34,116 INFO: Adding 0162.png to the reconstruction\n",
      "2020-08-04 14:01:34,180 DEBUG: Local bundle sets: interior 16  boundary 0  other 0\n",
      "2020-08-04 14:01:34,989 DEBUG: Ceres Solver Report: Iterations: 9, Initial cost: 1.978193e+03, Final cost: 1.925661e+03, Termination: CONVERGENCE\n",
      "2020-08-04 14:01:35,050 INFO: Removed outliers: 0\n",
      "2020-08-04 14:01:35,057 INFO: -------------------------------------------------------\n",
      "2020-08-04 14:01:35,086 INFO: 0159.png resection inliers: 1705 / 1840\n",
      "2020-08-04 14:01:35,127 DEBUG: Ceres Solver Report: Iterations: 4, Initial cost: 1.905888e+02, Final cost: 1.498142e+02, Termination: CONVERGENCE\n",
      "2020-08-04 14:01:35,128 INFO: Adding 0159.png to the reconstruction\n",
      "2020-08-04 14:01:35,172 INFO: Re-triangulating\n",
      "2020-08-04 14:01:37,081 DEBUG: Ceres Solver Report: Iterations: 22, Initial cost: 2.212913e+03, Final cost: 2.131576e+03, Termination: CONVERGENCE\n",
      "2020-08-04 14:01:39,368 DEBUG: Ceres Solver Report: Iterations: 12, Initial cost: 2.312878e+03, Final cost: 2.228337e+03, Termination: CONVERGENCE\n",
      "2020-08-04 14:01:39,428 INFO: Removed outliers: 1\n",
      "2020-08-04 14:01:39,434 INFO: -------------------------------------------------------\n",
      "2020-08-04 14:01:39,468 INFO: 0156.png resection inliers: 1774 / 1892\n",
      "2020-08-04 14:01:39,515 DEBUG: Ceres Solver Report: Iterations: 4, Initial cost: 2.062283e+02, Final cost: 1.677981e+02, Termination: CONVERGENCE\n",
      "2020-08-04 14:01:39,517 INFO: Adding 0156.png to the reconstruction\n",
      "2020-08-04 14:01:39,591 DEBUG: Local bundle sets: interior 18  boundary 0  other 0\n",
      "2020-08-04 14:01:40,668 DEBUG: Ceres Solver Report: Iterations: 9, Initial cost: 2.401776e+03, Final cost: 2.344354e+03, Termination: CONVERGENCE\n",
      "2020-08-04 14:01:40,734 INFO: Removed outliers: 1\n",
      "2020-08-04 14:01:40,740 INFO: -------------------------------------------------------\n",
      "2020-08-04 14:01:40,769 INFO: 0150.png resection inliers: 1644 / 1770\n",
      "2020-08-04 14:01:40,813 DEBUG: Ceres Solver Report: Iterations: 5, Initial cost: 2.217169e+02, Final cost: 1.868384e+02, Termination: CONVERGENCE\n",
      "2020-08-04 14:01:40,814 INFO: Adding 0150.png to the reconstruction\n",
      "2020-08-04 14:01:40,882 DEBUG: Local bundle sets: interior 19  boundary 0  other 0\n",
      "2020-08-04 14:01:41,867 DEBUG: Ceres Solver Report: Iterations: 7, Initial cost: 2.577520e+03, Final cost: 2.499070e+03, Termination: CONVERGENCE\n",
      "2020-08-04 14:01:41,942 INFO: Removed outliers: 0\n",
      "2020-08-04 14:01:41,948 INFO: -------------------------------------------------------\n",
      "2020-08-04 14:01:41,980 INFO: 0153.png resection inliers: 1838 / 1957\n",
      "2020-08-04 14:01:42,027 DEBUG: Ceres Solver Report: Iterations: 4, Initial cost: 2.353113e+02, Final cost: 1.536408e+02, Termination: CONVERGENCE\n",
      "2020-08-04 14:01:42,030 INFO: Adding 0153.png to the reconstruction\n",
      "2020-08-04 14:01:42,108 DEBUG: Local bundle sets: interior 20  boundary 0  other 0\n",
      "2020-08-04 14:01:43,151 DEBUG: Ceres Solver Report: Iterations: 7, Initial cost: 2.687398e+03, Final cost: 2.644741e+03, Termination: CONVERGENCE\n",
      "2020-08-04 14:01:43,239 INFO: Removed outliers: 0\n",
      "2020-08-04 14:01:43,244 INFO: -------------------------------------------------------\n",
      "2020-08-04 14:01:43,273 INFO: 0202.png resection inliers: 1594 / 1725\n",
      "2020-08-04 14:01:43,317 DEBUG: Ceres Solver Report: Iterations: 4, Initial cost: 1.464315e+02, Final cost: 1.350562e+02, Termination: CONVERGENCE\n",
      "2020-08-04 14:01:43,318 INFO: Adding 0202.png to the reconstruction\n",
      "2020-08-04 14:01:43,397 INFO: Re-triangulating\n",
      "2020-08-04 14:01:46,203 DEBUG: Ceres Solver Report: Iterations: 23, Initial cost: 2.897522e+03, Final cost: 2.833709e+03, Termination: CONVERGENCE\n",
      "2020-08-04 14:01:49,483 DEBUG: Ceres Solver Report: Iterations: 13, Initial cost: 3.048861e+03, Final cost: 2.944912e+03, Termination: CONVERGENCE\n",
      "2020-08-04 14:01:49,557 INFO: Removed outliers: 3\n",
      "2020-08-04 14:01:49,562 INFO: -------------------------------------------------------\n",
      "2020-08-04 14:01:49,591 INFO: 0204.png resection inliers: 1633 / 1732\n",
      "2020-08-04 14:01:49,634 DEBUG: Ceres Solver Report: Iterations: 4, Initial cost: 1.531689e+02, Final cost: 1.355801e+02, Termination: CONVERGENCE\n",
      "2020-08-04 14:01:49,635 INFO: Adding 0204.png to the reconstruction\n",
      "2020-08-04 14:01:49,745 DEBUG: Local bundle sets: interior 22  boundary 0  other 0\n",
      "2020-08-04 14:01:50,939 DEBUG: Ceres Solver Report: Iterations: 9, Initial cost: 3.079883e+03, Final cost: 3.043818e+03, Termination: CONVERGENCE\n",
      "2020-08-04 14:01:51,023 INFO: Removed outliers: 0\n",
      "2020-08-04 14:01:51,028 INFO: -------------------------------------------------------\n",
      "2020-08-04 14:01:51,058 INFO: 0205.png resection inliers: 1604 / 1701\n",
      "2020-08-04 14:01:51,103 DEBUG: Ceres Solver Report: Iterations: 4, Initial cost: 1.533271e+02, Final cost: 1.187081e+02, Termination: CONVERGENCE\n",
      "2020-08-04 14:01:51,105 INFO: Adding 0205.png to the reconstruction\n",
      "2020-08-04 14:01:51,224 DEBUG: Local bundle sets: interior 23  boundary 0  other 0\n",
      "2020-08-04 14:01:52,344 DEBUG: Ceres Solver Report: Iterations: 6, Initial cost: 3.184288e+03, Final cost: 3.156374e+03, Termination: CONVERGENCE\n",
      "2020-08-04 14:01:52,435 INFO: Removed outliers: 0\n",
      "2020-08-04 14:01:52,439 INFO: -------------------------------------------------------\n",
      "2020-08-04 14:01:52,466 INFO: 0212.png resection inliers: 1334 / 1465\n",
      "2020-08-04 14:01:52,502 DEBUG: Ceres Solver Report: Iterations: 4, Initial cost: 1.508408e+02, Final cost: 1.292527e+02, Termination: CONVERGENCE\n",
      "2020-08-04 14:01:52,503 INFO: Adding 0212.png to the reconstruction\n",
      "2020-08-04 14:01:52,619 DEBUG: Local bundle sets: interior 24  boundary 0  other 0\n",
      "2020-08-04 14:01:53,850 DEBUG: Ceres Solver Report: Iterations: 8, Initial cost: 3.358222e+03, Final cost: 3.315903e+03, Termination: CONVERGENCE\n",
      "2020-08-04 14:01:53,945 INFO: Removed outliers: 0\n",
      "2020-08-04 14:01:53,950 INFO: -------------------------------------------------------\n",
      "2020-08-04 14:01:53,972 INFO: 0215.png resection inliers: 1262 / 1437\n",
      "2020-08-04 14:01:54,008 DEBUG: Ceres Solver Report: Iterations: 4, Initial cost: 2.076745e+02, Final cost: 1.253624e+02, Termination: CONVERGENCE\n",
      "2020-08-04 14:01:54,009 INFO: Adding 0215.png to the reconstruction\n",
      "2020-08-04 14:01:54,134 DEBUG: Local bundle sets: interior 25  boundary 0  other 0\n",
      "2020-08-04 14:01:55,427 DEBUG: Ceres Solver Report: Iterations: 8, Initial cost: 3.523058e+03, Final cost: 3.481719e+03, Termination: CONVERGENCE\n",
      "2020-08-04 14:01:55,521 INFO: Removed outliers: 1\n"
     ]
    },
    {
     "name": "stderr",
     "output_type": "stream",
     "text": [
      "2020-08-04 14:01:55,525 INFO: -------------------------------------------------------\n",
      "2020-08-04 14:01:55,551 INFO: 0218.png resection inliers: 1270 / 1447\n",
      "2020-08-04 14:01:55,586 DEBUG: Ceres Solver Report: Iterations: 4, Initial cost: 1.523969e+02, Final cost: 1.356877e+02, Termination: CONVERGENCE\n",
      "2020-08-04 14:01:55,587 INFO: Adding 0218.png to the reconstruction\n",
      "2020-08-04 14:01:55,714 DEBUG: Local bundle sets: interior 26  boundary 0  other 0\n",
      "2020-08-04 14:01:57,262 DEBUG: Ceres Solver Report: Iterations: 10, Initial cost: 3.765016e+03, Final cost: 3.708224e+03, Termination: CONVERGENCE\n",
      "2020-08-04 14:01:57,368 INFO: Removed outliers: 1\n",
      "2020-08-04 14:01:57,373 INFO: -------------------------------------------------------\n",
      "2020-08-04 14:01:57,399 INFO: 0220.png resection inliers: 1269 / 1478\n",
      "2020-08-04 14:01:57,442 DEBUG: Ceres Solver Report: Iterations: 5, Initial cost: 1.750952e+02, Final cost: 1.457388e+02, Termination: CONVERGENCE\n",
      "2020-08-04 14:01:57,443 INFO: Adding 0220.png to the reconstruction\n",
      "2020-08-04 14:01:57,578 DEBUG: Local bundle sets: interior 27  boundary 0  other 0\n",
      "2020-08-04 14:01:59,286 DEBUG: Ceres Solver Report: Iterations: 11, Initial cost: 3.925256e+03, Final cost: 3.882387e+03, Termination: NO_CONVERGENCE\n",
      "2020-08-04 14:01:59,392 INFO: Removed outliers: 0\n",
      "2020-08-04 14:01:59,396 INFO: -------------------------------------------------------\n",
      "2020-08-04 14:01:59,420 INFO: 0224.png resection inliers: 1160 / 1386\n",
      "2020-08-04 14:01:59,453 DEBUG: Ceres Solver Report: Iterations: 4, Initial cost: 1.553246e+02, Final cost: 1.379733e+02, Termination: CONVERGENCE\n",
      "2020-08-04 14:01:59,454 INFO: Adding 0224.png to the reconstruction\n",
      "2020-08-04 14:01:59,578 DEBUG: Local bundle sets: interior 28  boundary 0  other 0\n",
      "2020-08-04 14:02:01,134 DEBUG: Ceres Solver Report: Iterations: 8, Initial cost: 4.113488e+03, Final cost: 4.071863e+03, Termination: CONVERGENCE\n",
      "2020-08-04 14:02:01,243 INFO: Removed outliers: 1\n",
      "2020-08-04 14:02:01,247 INFO: -------------------------------------------------------\n",
      "2020-08-04 14:02:01,272 INFO: 0225.png resection inliers: 1311 / 1508\n",
      "2020-08-04 14:02:01,308 DEBUG: Ceres Solver Report: Iterations: 4, Initial cost: 1.719210e+02, Final cost: 1.477059e+02, Termination: CONVERGENCE\n",
      "2020-08-04 14:02:01,309 INFO: Adding 0225.png to the reconstruction\n",
      "2020-08-04 14:02:01,397 INFO: Re-triangulating\n",
      "2020-08-04 14:02:06,060 DEBUG: Ceres Solver Report: Iterations: 28, Initial cost: 4.359454e+03, Final cost: 4.274175e+03, Termination: CONVERGENCE\n",
      "2020-08-04 14:02:10,412 DEBUG: Ceres Solver Report: Iterations: 13, Initial cost: 4.655274e+03, Final cost: 4.486323e+03, Termination: CONVERGENCE\n",
      "2020-08-04 14:02:10,520 INFO: Removed outliers: 5\n",
      "2020-08-04 14:02:10,524 INFO: -------------------------------------------------------\n",
      "2020-08-04 14:02:10,543 INFO: 0231.png resection inliers: 987 / 1139\n",
      "2020-08-04 14:02:10,573 DEBUG: Ceres Solver Report: Iterations: 4, Initial cost: 1.387180e+02, Final cost: 1.336451e+02, Termination: CONVERGENCE\n",
      "2020-08-04 14:02:10,575 INFO: Adding 0231.png to the reconstruction\n",
      "2020-08-04 14:02:10,676 DEBUG: Local bundle sets: interior 30  boundary 0  other 0\n",
      "2020-08-04 14:02:11,964 DEBUG: Ceres Solver Report: Iterations: 6, Initial cost: 4.586168e+03, Final cost: 4.546274e+03, Termination: CONVERGENCE\n",
      "2020-08-04 14:02:12,073 INFO: Removed outliers: 0\n",
      "2020-08-04 14:02:12,077 INFO: -------------------------------------------------------\n",
      "2020-08-04 14:02:14,641 DEBUG: Ceres Solver Report: Iterations: 12, Initial cost: 4.664338e+03, Final cost: 4.626329e+03, Termination: CONVERGENCE\n",
      "2020-08-04 14:02:14,760 INFO: Removed outliers: 0\n",
      "2020-08-04 14:02:14,890 INFO: {'points_count': 8452, 'cameras_count': 30, 'observations_count': 65153, 'average_track_length': 7.708589682915286, 'average_track_length_notwo': 9.636752136752136}\n",
      "2020-08-04 14:02:14,890 INFO: Reconstruction 0: 30 images, 8452 points\n",
      "2020-08-04 14:02:14,891 INFO: 1 partial reconstructions in total.\n"
     ]
    },
    {
     "name": "stdout",
     "output_type": "stream",
     "text": [
      "time:  54.025781869888306\n",
      "Tolerance reached. Focal est:  0.4627679233101594 Iteration:  v2 unknown unknown 1920 1080 perspective 0\n",
      "Total time:  222.16279006004333\n"
     ]
    }
   ],
   "source": [
    "tol = 0.01\n",
    "init_focal = 0.8\n",
    "\n",
    "t0 = time.time()\n",
    "\n",
    "for i in range(15):\n",
    "\n",
    "    report, reconstructions = incremental_reconstruction(data, tracks_manager, foc_len=init_focal)\n",
    "\n",
    "    rec1 = reconstructions.pop()\n",
    "    for i in rec1.cameras.keys():\n",
    "        est_focal = rec1.cameras[i].focal\n",
    "\n",
    "    if ((init_focal - est_focal) <= tol):\n",
    "        print(\"Tolerance reached. Focal est: \", est_focal, \"Iteration: \",i)\n",
    "        t1 = time.time()\n",
    "        print(\"Total time: \", t1-t0)\n",
    "        break\n",
    "    else:\n",
    "        print(\"est focal: \", est_focal)\n",
    "        init_focal = est_focal\n",
    "        t1 = time.time()\n",
    "        print(\"Total time: \", t1-t0)\n",
    "        \n",
    "    "
   ]
  },
  {
   "cell_type": "code",
   "execution_count": 44,
   "metadata": {},
   "outputs": [],
   "source": [
    "camera_priors = data.load_camera_models()\n",
    "for i in camera_priors.keys():\n",
    "    img_width = camera_priors[i].width\n",
    "    img_height = camera_priors[i].height"
   ]
  },
  {
   "cell_type": "code",
   "execution_count": 49,
   "metadata": {},
   "outputs": [],
   "source": [
    "key = next(iter(camera_priors.keys()))\n",
    "img_width = camera_priors[key].width\n"
   ]
  },
  {
   "cell_type": "code",
   "execution_count": 50,
   "metadata": {},
   "outputs": [
    {
     "data": {
      "text/plain": [
       "1920"
      ]
     },
     "execution_count": 50,
     "metadata": {},
     "output_type": "execute_result"
    }
   ],
   "source": [
    "img_width"
   ]
  },
  {
   "cell_type": "code",
   "execution_count": null,
   "metadata": {},
   "outputs": [],
   "source": []
  },
  {
   "cell_type": "code",
   "execution_count": 30,
   "metadata": {},
   "outputs": [
    {
     "data": {
      "text/plain": [
       "34548"
      ]
     },
     "execution_count": 30,
     "metadata": {},
     "output_type": "execute_result"
    }
   ],
   "source": [
    "from opensfm import io\n",
    "# with open(data.profile_log(), 'a') as fout:\n",
    "#             fout.write('reconstruct: {0}\\n'.format(end - start))\n",
    "data.save_reconstruction(reconstructions)\n",
    "data.save_report(io.json_dumps(report), 'reconstruction.json')"
   ]
  },
  {
   "cell_type": "code",
   "execution_count": 110,
   "metadata": {},
   "outputs": [
    {
     "data": {
      "text/plain": [
       "0.39947916666666666"
      ]
     },
     "execution_count": 110,
     "metadata": {},
     "output_type": "execute_result"
    }
   ],
   "source": [
    "(1920-1153) / 1920"
   ]
  },
  {
   "cell_type": "code",
   "execution_count": 31,
   "metadata": {},
   "outputs": [
    {
     "data": {
      "text/plain": [
       "837.12"
      ]
     },
     "execution_count": 31,
     "metadata": {},
     "output_type": "execute_result"
    }
   ],
   "source": [
    ".436 * 1920"
   ]
  },
  {
   "cell_type": "markdown",
   "metadata": {},
   "source": [
    "# How are we calculating bearings?"
   ]
  },
  {
   "cell_type": "code",
   "execution_count": 16,
   "metadata": {},
   "outputs": [],
   "source": [
    "camera_priors = data.load_camera_models()"
   ]
  },
  {
   "cell_type": "code",
   "execution_count": 152,
   "metadata": {},
   "outputs": [],
   "source": [
    "common_tracks = tracking.all_common_tracks(tracks_manager)\n",
    "_, p1, p2 = common_tracks['0004.png', '0030.png']"
   ]
  },
  {
   "cell_type": "code",
   "execution_count": 27,
   "metadata": {},
   "outputs": [
    {
     "data": {
      "text/plain": [
       "array([[0.8, 0. , 0. ],\n",
       "       [0. , 0.8, 0. ],\n",
       "       [0. , 0. , 1. ]])"
      ]
     },
     "execution_count": 27,
     "metadata": {},
     "output_type": "execute_result"
    }
   ],
   "source": [
    "camera_priors['v2 unknown unknown 1920 1080 perspective 0'].get_K()"
   ]
  },
  {
   "cell_type": "code",
   "execution_count": 158,
   "metadata": {},
   "outputs": [],
   "source": [
    "K = camera_priors['v2 unknown unknown 1920 1080 perspective 0'].get_K_in_pixel_coordinates(1920,1080)"
   ]
  },
  {
   "cell_type": "code",
   "execution_count": 159,
   "metadata": {},
   "outputs": [
    {
     "data": {
      "text/plain": [
       "array([[1.632e+03, 0.000e+00, 9.600e+02],\n",
       "       [0.000e+00, 1.632e+03, 5.400e+02],\n",
       "       [0.000e+00, 0.000e+00, 1.000e+00]])"
      ]
     },
     "execution_count": 159,
     "metadata": {},
     "output_type": "execute_result"
    }
   ],
   "source": [
    "K"
   ]
  },
  {
   "cell_type": "code",
   "execution_count": 90,
   "metadata": {},
   "outputs": [],
   "source": [
    "def sqrNorm(a):\n",
    "    return a[0]**2 + a[1]**2"
   ]
  },
  {
   "cell_type": "code",
   "execution_count": 83,
   "metadata": {},
   "outputs": [],
   "source": [
    "b1 = a[0] / (0.85) * 0.98956846"
   ]
  },
  {
   "cell_type": "code",
   "execution_count": 88,
   "metadata": {},
   "outputs": [
    {
     "data": {
      "text/plain": [
       "0.038353701673151545"
      ]
     },
     "execution_count": 88,
     "metadata": {},
     "output_type": "execute_result"
    }
   ],
   "source": [
    "0.04465131 / 0.98956846 * 0.85"
   ]
  },
  {
   "cell_type": "code",
   "execution_count": 148,
   "metadata": {},
   "outputs": [],
   "source": [
    "point = np.array([ p1[0,0] , p1[0,1]])\n",
    "\n",
    "inv_norm = 1.0 / ((sqrNorm(point) + 1.0)**0.5)"
   ]
  },
  {
   "cell_type": "code",
   "execution_count": 149,
   "metadata": {},
   "outputs": [
    {
     "data": {
      "text/plain": [
       "0.038258862027737504"
      ]
     },
     "execution_count": 149,
     "metadata": {},
     "output_type": "execute_result"
    }
   ],
   "source": [
    "a2[0] * inv_norm"
   ]
  },
  {
   "cell_type": "code",
   "execution_count": 150,
   "metadata": {},
   "outputs": [
    {
     "data": {
      "text/plain": [
       "0.9924304410101045"
      ]
     },
     "execution_count": 150,
     "metadata": {},
     "output_type": "execute_result"
    }
   ],
   "source": [
    "inv_norm"
   ]
  },
  {
   "cell_type": "code",
   "execution_count": 162,
   "metadata": {},
   "outputs": [],
   "source": [
    "from opensfm import exif"
   ]
  },
  {
   "cell_type": "code",
   "execution_count": null,
   "metadata": {},
   "outputs": [],
   "source": [
    "d = exif.extract_exif_from_file('data/office/images/0006.png')"
   ]
  },
  {
   "cell_type": "code",
   "execution_count": 250,
   "metadata": {},
   "outputs": [
    {
     "data": {
      "text/plain": [
       "988.9500846863486"
      ]
     },
     "execution_count": 250,
     "metadata": {},
     "output_type": "execute_result"
    }
   ],
   "source": [
    "0.5150781691074733* 1920"
   ]
  },
  {
   "cell_type": "markdown",
   "metadata": {},
   "source": [
    "# Camera Metadata Test"
   ]
  },
  {
   "cell_type": "code",
   "execution_count": 2,
   "metadata": {},
   "outputs": [],
   "source": [
    "import copy\n",
    "import logging\n",
    "import time\n",
    "\n",
    "from opensfm import dataset\n",
    "from opensfm import exif"
   ]
  },
  {
   "cell_type": "code",
   "execution_count": 3,
   "metadata": {},
   "outputs": [],
   "source": [
    "logger = logging.getLogger(__name__)\n",
    "logging.getLogger(\"exifread\").setLevel(logging.WARNING)"
   ]
  },
  {
   "cell_type": "code",
   "execution_count": 4,
   "metadata": {},
   "outputs": [],
   "source": [
    "def _extract_exif(image, data):\n",
    "     # EXIF data in Image\n",
    "    d = exif.extract_exif_from_file(data.open_image_file(image))\n",
    "\n",
    "    # Image Height and Image Width\n",
    "    if d['width'] <= 0 or not data.config['use_exif_size']:\n",
    "        d['height'], d['width'] = data.image_size(image)\n",
    "\n",
    "    d['camera'] = exif.camera_id(d)\n",
    "\n",
    "    return d\n",
    "\n",
    "\n",
    "start = time.time()\n",
    "data = dataset.DataSet('data/office')\n",
    "\n",
    "exif_overrides = {}\n",
    "if data.exif_overrides_exists():\n",
    "    exif_overrides = data.load_exif_overrides()\n",
    "\n",
    "camera_models = {}\n",
    "for image in data.images():\n",
    "#     if data.exif_exists(image):\n",
    "#         logging.info('Loading existing EXIF for {}'.format(image))\n",
    "#         d = data.load_exif(image)\n",
    "#     else:\n",
    "        \n",
    "    logging.info('Extracting EXIF for {}'.format(image))\n",
    "    d = _extract_exif(image, data)\n",
    "\n",
    "    if image in exif_overrides:\n",
    "        \n",
    "        d.update(exif_overrides[image])\n",
    "\n",
    "    data.save_exif(image, d)\n",
    "\n",
    "    if d['camera'] not in camera_models:\n",
    "        \n",
    "        camera = exif.camera_from_exif_metadata(d, data)\n",
    "        camera_models[d['camera']] = camera\n",
    "        break\n",
    "\n",
    "# Override any camera specified in the camera models overrides file.\n",
    "if data.camera_models_overrides_exists():\n",
    "    overrides = data.load_camera_models_overrides()\n",
    "    if \"all\" in overrides:\n",
    "        for key in camera_models:\n",
    "            camera_models[key] = copy.copy(overrides[\"all\"])\n",
    "            camera_models[key].id = key\n",
    "    else:\n",
    "        for key, value in overrides.items():\n",
    "            camera_models[key] = value\n",
    "data.save_camera_models(camera_models)\n",
    "\n",
    "end = time.time()\n",
    "with open(data.profile_log(), 'a') as fout:\n",
    "    fout.write('extract_metadata: {0}\\n'.format(end - start))\n",
    "\n"
   ]
  },
  {
   "cell_type": "code",
   "execution_count": 5,
   "metadata": {},
   "outputs": [
    {
     "data": {
      "text/plain": [
       "{'use_exif_size': True,\n",
       " 'default_focal_prior': 0.9,\n",
       " 'feature_type': 'HAHOG',\n",
       " 'feature_root': 1,\n",
       " 'feature_min_frames': 4000,\n",
       " 'feature_process_size': 2048,\n",
       " 'feature_use_adaptive_suppression': False,\n",
       " 'sift_peak_threshold': 0.1,\n",
       " 'sift_edge_threshold': 10,\n",
       " 'surf_hessian_threshold': 3000,\n",
       " 'surf_n_octaves': 4,\n",
       " 'surf_n_octavelayers': 2,\n",
       " 'surf_upright': 0,\n",
       " 'akaze_omax': 4,\n",
       " 'akaze_dthreshold': 0.001,\n",
       " 'akaze_descriptor': 'MSURF',\n",
       " 'akaze_descriptor_size': 0,\n",
       " 'akaze_descriptor_channels': 3,\n",
       " 'akaze_kcontrast_percentile': 0.7,\n",
       " 'akaze_use_isotropic_diffusion': False,\n",
       " 'hahog_peak_threshold': 1e-05,\n",
       " 'hahog_edge_threshold': 10,\n",
       " 'hahog_normalize_to_uchar': True,\n",
       " 'lowes_ratio': 0.8,\n",
       " 'matcher_type': 'FLANN',\n",
       " 'symmetric_matching': True,\n",
       " 'flann_algorithm': 'KMEANS',\n",
       " 'flann_branching': 8,\n",
       " 'flann_iterations': 10,\n",
       " 'flann_tree': 8,\n",
       " 'flann_checks': 20,\n",
       " 'bow_file': 'bow_hahog_root_uchar_10000.npz',\n",
       " 'bow_words_to_match': 50,\n",
       " 'bow_num_checks': 20,\n",
       " 'bow_matcher_type': 'FLANN',\n",
       " 'vlad_file': 'bow_hahog_root_uchar_64.npz',\n",
       " 'matching_gps_distance': 150,\n",
       " 'matching_gps_neighbors': 0,\n",
       " 'matching_time_neighbors': 0,\n",
       " 'matching_order_neighbors': 0,\n",
       " 'matching_bow_neighbors': 0,\n",
       " 'matching_bow_gps_distance': 0,\n",
       " 'matching_bow_gps_neighbors': 0,\n",
       " 'matching_bow_other_cameras': False,\n",
       " 'matching_vlad_neighbors': 0,\n",
       " 'matching_vlad_gps_distance': 0,\n",
       " 'matching_vlad_gps_neighbors': 0,\n",
       " 'matching_vlad_other_cameras': False,\n",
       " 'matching_use_filters': False,\n",
       " 'robust_matching_threshold': 0.004,\n",
       " 'robust_matching_calib_threshold': 0.004,\n",
       " 'robust_matching_min_match': 20,\n",
       " 'five_point_algo_threshold': 0.004,\n",
       " 'five_point_algo_min_inliers': 20,\n",
       " 'five_point_refine_match_iterations': 10,\n",
       " 'five_point_refine_rec_iterations': 1000,\n",
       " 'triangulation_threshold': 0.006,\n",
       " 'triangulation_min_ray_angle': 1.0,\n",
       " 'triangulation_type': 'FULL',\n",
       " 'resection_threshold': 0.004,\n",
       " 'resection_min_inliers': 10,\n",
       " 'min_track_length': 2,\n",
       " 'loss_function': 'SoftLOneLoss',\n",
       " 'loss_function_threshold': 1,\n",
       " 'reprojection_error_sd': 0.004,\n",
       " 'exif_focal_sd': 0.01,\n",
       " 'principal_point_sd': 0.01,\n",
       " 'radial_distorsion_k1_sd': 0.01,\n",
       " 'radial_distorsion_k2_sd': 0.01,\n",
       " 'radial_distorsion_k3_sd': 0.01,\n",
       " 'radial_distorsion_p1_sd': 0.01,\n",
       " 'radial_distorsion_p2_sd': 0.01,\n",
       " 'bundle_outlier_filtering_type': 'FIXED',\n",
       " 'bundle_outlier_auto_ratio': 3.0,\n",
       " 'bundle_outlier_fixed_threshold': 0.006,\n",
       " 'optimize_camera_parameters': True,\n",
       " 'bundle_max_iterations': 100,\n",
       " 'retriangulation': True,\n",
       " 'retriangulation_ratio': 1.2,\n",
       " 'bundle_analytic_derivatives': True,\n",
       " 'bundle_interval': 999999,\n",
       " 'bundle_new_points_ratio': 1.2,\n",
       " 'local_bundle_radius': 3,\n",
       " 'local_bundle_min_common_points': 20,\n",
       " 'local_bundle_max_shots': 30,\n",
       " 'save_partial_reconstructions': False,\n",
       " 'use_altitude_tag': False,\n",
       " 'align_method': 'orientation_prior',\n",
       " 'align_orientation_prior': 'horizontal',\n",
       " 'bundle_use_gps': True,\n",
       " 'bundle_use_gcp': False,\n",
       " 'nav_min_distance': 0.01,\n",
       " 'nav_step_pref_distance': 6,\n",
       " 'nav_step_max_distance': 20,\n",
       " 'nav_turn_max_distance': 15,\n",
       " 'nav_step_forward_view_threshold': 15,\n",
       " 'nav_step_view_threshold': 30,\n",
       " 'nav_step_drift_threshold': 36,\n",
       " 'nav_turn_view_threshold': 40,\n",
       " 'nav_vertical_threshold': 20,\n",
       " 'nav_rotation_threshold': 30,\n",
       " 'undistorted_image_format': 'jpg',\n",
       " 'undistorted_image_max_size': 100000,\n",
       " 'depthmap_method': 'PATCH_MATCH_SAMPLE',\n",
       " 'depthmap_resolution': 640,\n",
       " 'depthmap_num_neighbors': 10,\n",
       " 'depthmap_num_matching_views': 6,\n",
       " 'depthmap_min_depth': 0,\n",
       " 'depthmap_max_depth': 0,\n",
       " 'depthmap_patchmatch_iterations': 3,\n",
       " 'depthmap_patch_size': 7,\n",
       " 'depthmap_min_patch_sd': 1.0,\n",
       " 'depthmap_min_correlation_score': 0.1,\n",
       " 'depthmap_same_depth_threshold': 0.01,\n",
       " 'depthmap_min_consistent_views': 3,\n",
       " 'depthmap_save_debug_files': False,\n",
       " 'processes': 1,\n",
       " 'submodel_size': 80,\n",
       " 'submodel_overlap': 30.0,\n",
       " 'submodels_relpath': 'submodels',\n",
       " 'submodel_relpath_template': 'submodels/submodel_%04d',\n",
       " 'submodel_images_relpath_template': 'submodels/submodel_%04d/images'}"
      ]
     },
     "execution_count": 5,
     "metadata": {},
     "output_type": "execute_result"
    }
   ],
   "source": [
    "data.config"
   ]
  },
  {
   "cell_type": "markdown",
   "metadata": {},
   "source": [
    "# focal length"
   ]
  },
  {
   "cell_type": "code",
   "execution_count": 129,
   "metadata": {},
   "outputs": [
    {
     "data": {
      "text/plain": [
       "1350.0000000923687"
      ]
     },
     "execution_count": 129,
     "metadata": {},
     "output_type": "execute_result"
    }
   ],
   "source": [
    "(1080 / 2) / (math.tan(math.pi*43.60281897/360.0))"
   ]
  },
  {
   "cell_type": "code",
   "execution_count": 122,
   "metadata": {},
   "outputs": [
    {
     "data": {
      "text/plain": [
       "35.99983029809857"
      ]
     },
     "execution_count": 122,
     "metadata": {},
     "output_type": "execute_result"
    }
   ],
   "source": [
    "2*(30*math.tan(0.5*61.92751306/57.296))"
   ]
  },
  {
   "cell_type": "code",
   "execution_count": 267,
   "metadata": {},
   "outputs": [
    {
     "data": {
      "text/plain": [
       "1984.5333333333333"
      ]
     },
     "execution_count": 267,
     "metadata": {},
     "output_type": "execute_result"
    }
   ],
   "source": [
    "37.21 * 1920 / 36"
   ]
  },
  {
   "cell_type": "code",
   "execution_count": null,
   "metadata": {},
   "outputs": [],
   "source": [
    "f_px = f__mm * image_width / sensor_width"
   ]
  },
  {
   "cell_type": "code",
   "execution_count": 240,
   "metadata": {},
   "outputs": [
    {
     "data": {
      "text/plain": [
       "108.44444444444444"
      ]
     },
     "execution_count": 240,
     "metadata": {},
     "output_type": "execute_result"
    }
   ],
   "source": [
    "61 * 16/9"
   ]
  },
  {
   "cell_type": "code",
   "execution_count": 239,
   "metadata": {},
   "outputs": [
    {
     "data": {
      "text/plain": [
       "33.795300000000005"
      ]
     },
     "execution_count": 239,
     "metadata": {},
     "output_type": "execute_result"
    }
   ],
   "source": [
    "3.99*(8.47)"
   ]
  },
  {
   "cell_type": "code",
   "execution_count": 238,
   "metadata": {},
   "outputs": [
    {
     "data": {
      "text/plain": [
       "1802.4160000000002"
      ]
     },
     "execution_count": 238,
     "metadata": {},
     "output_type": "execute_result"
    }
   ],
   "source": [
    "# f_mm to f_px\n",
    "3.99*(8.47)/36 * 1920"
   ]
  },
  {
   "cell_type": "code",
   "execution_count": 237,
   "metadata": {},
   "outputs": [
    {
     "data": {
      "text/plain": [
       "8.470588235294118"
      ]
     },
     "execution_count": 237,
     "metadata": {},
     "output_type": "execute_result"
    }
   ],
   "source": [
    "# ratio of sensor widths\n",
    "36/4.25"
   ]
  }
 ],
 "metadata": {
  "kernelspec": {
   "display_name": "Python 3",
   "language": "python",
   "name": "python3"
  },
  "language_info": {
   "codemirror_mode": {
    "name": "ipython",
    "version": 3
   },
   "file_extension": ".py",
   "mimetype": "text/x-python",
   "name": "python",
   "nbconvert_exporter": "python",
   "pygments_lexer": "ipython3",
   "version": "3.8.0"
  }
 },
 "nbformat": 4,
 "nbformat_minor": 4
}
